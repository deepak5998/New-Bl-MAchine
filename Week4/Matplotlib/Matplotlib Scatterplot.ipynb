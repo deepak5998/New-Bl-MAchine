{
 "cells": [
  {
   "cell_type": "code",
   "execution_count": null,
   "metadata": {
    "collapsed": true
   },
   "outputs": [],
   "source": [
    "import numpy as np\n",
    "import pandas as pd\n",
    "from matplotlib import pyplot as plt\n",
    "import seaborn as sns   \n",
    "from matplotlib import style\n",
    "\n",
    "\n",
    "class Matplotlib_Scatterplot:\n",
    "    \n",
    "    def __init__(self):\n",
    "        print(\"\")\n",
    "    \n",
    "    def draw_scatter_graph_taking_a_random_distribution(self):\n",
    "        x_cordinate = np.array(np.arange(10))\n",
    "        y_cordinate = pd.Series(np.random.rand(10))\n",
    "        plt.scatter(x_cordinate, y_cordinate, s=5)\n",
    "        plt.show()\n",
    "\n",
    "    def empty_circles_taking_random_distribution(self):\n",
    "        x_cordinate = np.array(np.random.rand(20))\n",
    "        y_cordinate = pd.Series(np.random.rand(20))\n",
    "        plt.scatter(x_cordinate, y_cordinate, facecolors='none', s=np.array(np.arange(10, 30)), \n",
    "                    edgecolors='g')\n",
    "        plt.show()\n",
    "        \n",
    "    def random_distributions_to_generate_balls_of_different_sizes(self):\n",
    "        x_cordinate = np.array(np.random.rand(20))\n",
    "        y_cordinate = pd.Series(np.random.rand(20))\n",
    "        plt.scatter(x_cordinate, y_cordinate, facecolor='g', \n",
    "                    s=np.array(np.linspace(20, 400,10)), edgecolors='gold', alpha=0.5)\n",
    "        plt.show()\n",
    "    \n",
    "    def two_subject_marks_of_Mathematics_and_Science(self):\n",
    "        math_marks = np.array([88, 92, 80, 89, 100, 80, 60, 100, 80, 34])\n",
    "        science_marks = np.array([35, 79, 79, 48, 100, 88, 32, 45, 20, 30])\n",
    "        marks_range = np.array([10, 20, 30, 40, 50, 60, 70, 80, 90, 100])\n",
    "        students = np.array(np.arange(1, 11))\n",
    "        plt.scatter(students, math_marks, s=10, alpha=0.5, color='b')\n",
    "        plt.scatter(students, science_marks, s=10, alpha=0.5, color='r')\n",
    "        plt.scatter(students, marks_range, s=10, alpha=0.5, color='g')\n",
    "        \n",
    "    \n",
    "    def different_groups_camparing_weights_and_heights(self):\n",
    "        x_axis = np.array(np.arange(1,11))\n",
    "        scatter_1 = np.array(np.random.rand(10), color='r', alpha=0.5)\n",
    "        scatter_2 = np.array(np.random.rand(10), color='b', alpha=0.5)\n",
    "        scatter_3 = np.array(np.random.rand(10), color='g', alpha=0.5)\n",
    "        plt.scatter(x_axis,scatter_1, s=10)\n",
    "    \n",
    "scatter_object = Matplotlib_Scatterplot()\n",
    "# scatter_object.draw_scatter_graph_taking_a_random_distribution()\n",
    "# scatter_object.empty_circles_taking_random_distribution()\n",
    "# scatter_object.random_distributions_to_generate_balls_of_different_sizes()\n",
    "scatter_object.two_subject_marks_of_Mathematics_and_Science()"
   ]
  }
 ],
 "metadata": {
  "kernelspec": {
   "display_name": "Python 2",
   "language": "python",
   "name": "python2"
  },
  "language_info": {
   "codemirror_mode": {
    "name": "ipython",
    "version": 2
   },
   "file_extension": ".py",
   "mimetype": "text/x-python",
   "name": "python",
   "nbconvert_exporter": "python",
   "pygments_lexer": "ipython2",
   "version": "2.7.6"
  }
 },
 "nbformat": 4,
 "nbformat_minor": 0
}
