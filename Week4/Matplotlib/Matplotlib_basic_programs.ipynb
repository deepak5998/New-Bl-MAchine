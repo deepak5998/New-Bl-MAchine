{
 "cells": [
  {
   "cell_type": "code",
   "execution_count": 1,
   "metadata": {
    "collapsed": true
   },
   "outputs": [
    {
     "name": "stdout",
     "output_type": "stream",
     "text": [
      "\n"
     ]
    }
   ],
   "source": [
    "import numpy as np\n",
    "import pandas as pd\n",
    "from matplotlib import pyplot as plt\n",
    "from matplotlib import style\n",
    "\n",
    "class matplotlib_programs:\n",
    "    \n",
    "    def __init__(self):\n",
    "        print(\"\")\n",
    "    \n",
    "    def draw_line_with_suitable_label_x_axis_y_axis(self):\n",
    "        x_cordinate = np.array([1, 2])\n",
    "        y_cordinate = pd.Series([3, 4])\n",
    "        plt.plot(x_cordinate, y_cordinate)\n",
    "        plt.show()\n",
    "    \n",
    "    def draw_line_using_given_axis_values(self):\n",
    "        x_cordinate = np.array(np.arange(5))\n",
    "        y_cordinate = np.array(np.random.rand(5))\n",
    "        plt.plot(x_cordinate, y_cordinate)\n",
    "        plt.title('With x and y labels')\n",
    "        plt.xlabel('x axis')\n",
    "        plt.ylabel('y axis')\n",
    "        plt.show()\n",
    "\n",
    "    def line_from_text_file(self):\n",
    "        x_cordinate, y_cordinate = np.loadtxt('test.txt', unpack=True, delimiter=' ')\n",
    "        plt.plot(x_cordinate, y_cordinate)\n",
    "        plt.show()\n",
    "    \n",
    "    def financial_data_of_Alphabet(self):\n",
    "        df = pd.read_csv('data.csv')\n",
    "        print(df)\n",
    "        df.plot()\n",
    "    \n",
    "    def plot_two_more_lines_on_same_plot(self):\n",
    "        x_cordinate = np.array(np.arange(8))\n",
    "        y_cordinate = np.array(np.random.rand(8))\n",
    "        plt.plot(x_cordinate, y_cordinate, 'r-')\n",
    "        x1_cordinate = np.array(np.random.rand(8))\n",
    "        y1_cordinate = np.array(np.random.rand(8))\n",
    "        plt.plot(x1_cordinate, y1_cordinate, 'b')\n",
    "        plt.plot(x_cordinate, x1_cordinate, 'g--')\n",
    "        plt.show()\n",
    "\n",
    "    def plot_two_more_lines_with_legends(self):\n",
    "        x_cordinate = np.array(np.arange(8))\n",
    "        y_cordinate = np.array(np.random.rand(8))\n",
    "        plt.plot(x_cordinate, y_cordinate, 'r-', label='plot 1',linewidth=5)\n",
    "        x1_cordinate = np.array(np.random.rand(8))\n",
    "        plt.plot(x_cordinate, x1_cordinate, 'g--',label='plot 2',linewidth=3)         \n",
    "        plt.legend()\n",
    "        plt.show()\n",
    "       \n",
    "    def plot_two_or_more_lines_with_different_styles(self):\n",
    "        x_cordinate = np.array(np.arange(8))\n",
    "        y_cordinate = np.array(np.random.rand(8))\n",
    "        plt.plot(x_cordinate, y_cordinate, 'r-', label='plot 1')\n",
    "        x1_cordinate = np.array(np.random.rand(8))\n",
    "        y1_cordinate = np.array(np.random.rand(8))\n",
    "        plt.plot(x_cordinate, x1_cordinate, 'g--', label='plot 2')     \n",
    "        plt.legend()\n",
    "        plt.show()\n",
    "        \n",
    "    def set_line_markers(self):\n",
    "        x_cordinate = np.array(np.arange(8))\n",
    "        y_cordinate = np.array(np.random.rand(8))\n",
    "        plt.plot(x_cordinate, y_cordinate, 'r-', label='plot 1', marker='*')\n",
    "        x1_cordinate = np.array(np.random.rand(8))\n",
    "        y1_cordinate = np.array(np.random.rand(8))\n",
    "        plt.plot(x_cordinate, x1_cordinate, 'g--', label='plot 2', marker='x')     \n",
    "        plt.legend()\n",
    "        plt.show()\n",
    "    \n",
    "    def axis_limits_values_and_set_new_axis_values(self):\n",
    "        x_cordinate = np.array(np.arange(8))\n",
    "        y_cordinate = np.array(np.random.rand(8))\n",
    "        plt.plot(x_cordinate, y_cordinate, 'r-', label='plot 1', marker='*')\n",
    "        print(\"x limit is {} and y limit is {}\".format(plt.xlim(), plt.ylim()))\n",
    "        plt.axis([0, 10, -1, 9])\n",
    "        plt.show()\n",
    "     \n",
    "    def quantities_having_x_and_y_position(self):\n",
    "        plt.plot(np.array(np.arange(4)),  np.array(np.linspace(2, 4, 4))\n",
    "                 , '--', marker='o', label='quantitites', color='r')\n",
    "        plt.show()\n",
    "        \n",
    "    def different_format_styles_in_one_command_using_arrays(self):\n",
    "        x1 = np.array(np.arange(4))\n",
    "        y1 = np.array(np.linspace(2, 4, 4))\n",
    "        x2 = np.array(np.linspace(2, 6, 4)) \n",
    "        y2 = np.array(np.linspace(1, 4, 4))\n",
    "        x3 = np.array(np.random.rand(4))\n",
    "        y3 = np.array(np.random.rand(4))\n",
    "        plt.plot(x1, y1, '^-', x2, y2, 'g-', x3, y3, 'bs-')\n",
    "        plt.legend()\n",
    "        plt.show()\n",
    "\n",
    "    def multiple_types_of_charts(self):\n",
    "        x1_cordinate = np.array(np.arange(4))\n",
    "        y1_cordinate = np.array(np.linspace(2, 4, 4))\n",
    "        plt.subplot(3, 2, 1)\n",
    "        plt.plot(x1_cordinate, y1_cordinate, 'g-')\n",
    "        plt.subplot(3, 2, 2)\n",
    "        plt.bar(x1_cordinate, y1_cordinate)\n",
    "        plt.subplot(3, 2, 3)\n",
    "        slice = [7, 4, 5, 6]\n",
    "        Actions = ['sleep', 'eat', 'rest', 'work']\n",
    "        plt.pie(slice, labels=Actions, colors=['r', 'b', 'g', 'c'])\n",
    "        plt.subplot(3, 2, 4)\n",
    "        plt.hist(x1_cordinate, x1_cordinate, histtype='bar', color=['r'])\n",
    "        plt.show()\n",
    "    \n",
    "    def grid_lines_with_linestyle(self):\n",
    "        df = pd.read_csv('data.csv')\n",
    "        print(df.head())\n",
    "        plt.plot(df.Date, df.Open)\n",
    "        plt.grid(True, linestyle='-', color=\"g\", linewidth=1, which='minor')\n",
    "        plt.grid(True, which='major', color='b', linestyle='--')\n",
    "        plt.tick_params(which='both', top='off', left='off', right='off', bottom='off')\n",
    "        plt.show()\n",
    "    \n",
    "    def create_multiple_plots(self):\n",
    "        df = pd.read_csv('data.csv')\n",
    "        plt.subplot(3, 2, 1)\n",
    "        plt.plot(df.Date, df.Open, color='g')\n",
    "        plt.subplot(3,2,2)\n",
    "        plt.plot(df.Date, df.High, color='b')\n",
    "        plt.subplot(3,2,3)\n",
    "        plt.pie([3, 2, 3, 4], labels=['sleep', 'eat', 'rest', 'work'],  colors=['r', 'b', 'g', 'c'])\n",
    "        plt.subplot(3,2,4)\n",
    "        df.Open.hist()\n",
    "\n",
    "\n",
    "matplotlib_obj = matplotlib_programs()\n"
   ]
  },
  {
   "cell_type": "code",
   "execution_count": null,
   "metadata": {
    "collapsed": true
   },
   "outputs": [],
   "source": [
    "matplotlib_obj.draw_line_with_suitable_label_x_axis_y_axis()"
   ]
  },
  {
   "cell_type": "code",
   "execution_count": null,
   "metadata": {
    "collapsed": true
   },
   "outputs": [],
   "source": [
    "matplotlib_obj.draw_line_using_given_axis_values()"
   ]
  },
  {
   "cell_type": "code",
   "execution_count": null,
   "metadata": {
    "collapsed": true
   },
   "outputs": [],
   "source": [
    "matplotlib_obj.line_from_text_file()"
   ]
  },
  {
   "cell_type": "code",
   "execution_count": null,
   "metadata": {
    "collapsed": true
   },
   "outputs": [],
   "source": [
    "matplotlib_obj.plot_two_more_lines_on_same_plot()   "
   ]
  },
  {
   "cell_type": "code",
   "execution_count": null,
   "metadata": {
    "collapsed": true
   },
   "outputs": [],
   "source": [
    "matplotlib_obj.plot_two_more_lines_with_legends()"
   ]
  },
  {
   "cell_type": "code",
   "execution_count": null,
   "metadata": {
    "collapsed": true
   },
   "outputs": [],
   "source": [
    "matplotlib_obj.set_line_markers()"
   ]
  },
  {
   "cell_type": "code",
   "execution_count": null,
   "metadata": {
    "collapsed": true
   },
   "outputs": [],
   "source": [
    "matplotlib_obj.axis_limits_values_and_set_new_axis_values()"
   ]
  },
  {
   "cell_type": "code",
   "execution_count": null,
   "metadata": {
    "collapsed": true
   },
   "outputs": [],
   "source": [
    "matplotlib_obj.quantities_having_x_and_y_position()"
   ]
  },
  {
   "cell_type": "code",
   "execution_count": null,
   "metadata": {
    "collapsed": true
   },
   "outputs": [],
   "source": [
    "matplotlib_obj.different_format_styles_in_one_command_using_arrays()"
   ]
  },
  {
   "cell_type": "code",
   "execution_count": 2,
   "metadata": {
    "collapsed": true
   },
   "outputs": [
    {
     "data": {
      "image/png": "[encoded data removed]",
      "text/plain": [
       "<Figure size 432x288 with 4 Axes>"
      ]
     },
     "metadata": {
      "needs_background": "light"
     },
     "output_type": "display_data"
    }
   ],
   "source": [
    "matplotlib_obj.multiple_types_of_charts()\n"
   ]
  },
  {
   "cell_type": "code",
   "execution_count": null,
   "metadata": {
    "collapsed": true
   },
   "outputs": [],
   "source": [
    "matplotlib_obj.financial_data_of_Alphabet()"
   ]
  },
  {
   "cell_type": "code",
   "execution_count": null,
   "metadata": {
    "collapsed": true
   },
   "outputs": [],
   "source": [
    "matplotlib_obj.grid_lines_with_linestyle()"
   ]
  },
  {
   "cell_type": "code",
   "execution_count": null,
   "metadata": {
    "collapsed": true
   },
   "outputs": [],
   "source": [
    "matplotlib_obj.create_multiple_plots()"
   ]
  }
 ],
 "metadata": {
  "kernelspec": {
   "display_name": "Python 3",
   "language": "python",
   "name": "python3"
  },
  "language_info": {
   "codemirror_mode": {
    "name": "ipython",
    "version": 3
   },
   "file_extension": ".py",
   "mimetype": "text/x-python",
   "name": "python",
   "nbconvert_exporter": "python",
   "pygments_lexer": "ipython3",
   "version": "3.7.2"
  }
 },
 "nbformat": 4,
 "nbformat_minor": 2
}
