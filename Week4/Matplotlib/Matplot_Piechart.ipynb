{
 "cells": [
  {
   "cell_type": "code",
   "execution_count": null,
   "metadata": {
    "collapsed": true
   },
   "outputs": [],
   "source": [
    "import numpy as np\n",
    "import pandas as pd\n",
    "from matplotlib import pyplot as plt\n",
    "from matplotlib import style\n",
    "\n",
    "\n",
    "class Barchart_Programs:\n",
    "    prog_lang = ['Java', 'Python', 'PHP', 'JavaScript', 'C#', 'C++']\n",
    "    popularity = [22.2, 17.6, 8.8, 8, 7.7, 6.7]\n",
    "\n",
    "    def __int__(self):\n",
    "        self.prog_lang = ['Java', 'Python', 'PHP', 'JavaScript', 'C#', 'C++']\n",
    "        self.popularity = [22.2, 17.6, 8.8, 8, 7.7, 6.7]\n",
    "\n",
    "    def pie_Chart_Popularity_Programming_Languages(self):\n",
    "        # programming languages\n",
    "        plt.pie(self.popularity, labels=self.prog_lang, colors=['c', 'b', 'r', 'y', 'g', 'black'])\n",
    "        plt.show()\n",
    "        \n",
    "    \n",
    "    def title_popularity_of_programming_Languages(self):\n",
    "        # title of the popularity of programming Languages. \n",
    "        plt.pie(self.popularity, labels=self.prog_lang, colors=['c', 'b', 'r', 'y', 'g', 'black'])\n",
    "        plt.title('popularity of programming Languages.')\n",
    "        plt.show()\n",
    "    \n",
    "    def gold_medal_achievements(self):\n",
    "        df = pd.read_csv('medal.csv', delimiter=',')\n",
    "        print(df)\n",
    "        plt.pie(df['gold_medal'], labels=df['country'], colors=['c', 'b', 'r', 'y', 'g', 'black'])\n",
    "        plt.title('pie chart of gold medal achievements')\n",
    "        plt.show() \n",
    "        \n",
    "bar_pie = Barchart_Programs()\n",
    "bar_pie.pie_Chart_Popularity_Programming_Languages()\n",
    "bar_pie.title_popularity_of_programming_Languages()\n",
    "bar_pie.gold_medal_achievements()\n"
   ]
  }
 ],
 "metadata": {
  "kernelspec": {
   "display_name": "Python 3",
   "language": "python",
   "name": "python3"
  },
  "language_info": {
   "codemirror_mode": {
    "name": "ipython",
    "version": 3
   },
   "file_extension": ".py",
   "mimetype": "text/x-python",
   "name": "python",
   "nbconvert_exporter": "python",
   "pygments_lexer": "ipython3",
   "version": "3.6.7rc1"
  }
 },
 "nbformat": 4,
 "nbformat_minor": 1
}
