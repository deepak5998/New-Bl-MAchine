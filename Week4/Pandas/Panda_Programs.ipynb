{
 "cells": [
  {
   "cell_type": "code",
   "execution_count": null,
   "metadata": {
    "collapsed": true
   },
   "outputs": [],
   "source": [
    "import pandas as pd\n",
    "import numpy as np\n",
    "\n",
    "class Panda_Programs:\n",
    "    \n",
    "    def __init__(self):\n",
    "        exam_data = {'name': ['Anastasia', 'Dima', 'Katherine', 'James', 'Emily', 'Michael', 'Matthew', 'Laura', 'Kevin', 'Jonas'],\n",
    "                     'score': [12.5, 9, 16.5, np.nan, 9, 20, 14.5, np.nan, 8, 19],\n",
    "                     'attempts': [1, 3, 2, 3, 2, 3, 1, 1, 2, 1],\n",
    "                     'qualify': ['yes', 'no', 'yes', 'no', 'no', 'yes', 'yes', 'no', 'no', 'yes']}\n",
    "        labels = ['a', 'b', 'c', 'd', 'e', 'f', 'g', 'h', 'i', 'j']\n",
    "        self.data_frame = pd.DataFrame(exam_data, index=labels)\n",
    "        \n",
    "    def practise(self):\n",
    "        s = pd.Series(['Anastasia', 'Dima', 'Katherine', 'James', 'Emily'], index=list('abcde'))  \n",
    "        self.data_frame.set_index('name', inplace=True)\n",
    "        print(self.data_frame)\n",
    "        self.data_frame.reset_index(inplace=True)\n",
    "        print(self.data_frame)\n",
    "    \n",
    "    def one_Dimensional_Array(self):\n",
    "        series_obj = pd.Series([1,2,3,4,5,56,6],index=['a', 'b', 'c', 'd', 'e', 'f', 'g'])\n",
    "        print(series_obj)\n",
    "    \n",
    "    def series_to_Python_List(self):\n",
    "        series_obj = pd.Series([1,2,3,4,5,56,6],index=['a', 'b', 'c', 'd', 'e', 'f', 'g'])\n",
    "        print(series_obj)\n",
    "        list_obj = series_obj.tolist()\n",
    "        print(list_obj)\n",
    "        \n",
    "    def add_subtract_multiple_and_divide_Series(self): \n",
    "        seriesobj_1, seriesobj_2 = pd.Series([2, 4, 6, 8, 10]), pd.Series([1, 3, 5, 7, 9])\n",
    "        print(\"Series 1 is\\n\", seriesobj_1, \"Series 2 is\\n\", seriesobj_2,\n",
    "              \"addition:\\n{}\\nsubtract:\\n{}\\nmultiplication:\\n{}\\ndivision:\\n{}\"\n",
    "              .format(seriesobj_1.add(seriesobj_2), seriesobj_1.sub(seriesobj_2),\n",
    "                      seriesobj_1.mul(seriesobj_2), seriesobj_1.div(seriesobj_2)))\n",
    "\n",
    "    def powers_from_second_array(self):\n",
    "        seriesobj_1= pd.Series([0, 1, 2, 3, 4, 5, 6])\n",
    "        seriesobj_2 = pd.Series([0, 1, 2, 3, 4, 5, 6])                                     \n",
    "        print(seriesobj_1.pow(seriesobj_2))\n",
    "\n",
    "    def dataFrame_from_dictionary(self):\n",
    "        print(self.data_frame)\n",
    "    \n",
    "    def basic_Information_About_Data_Frame(self):\n",
    "        print(\"describing:\\n{}\\nshape:{}\\naxes:{}\\nmissing vals:\\n{}\\ninfo:{}\".format(self.data_frame.describe(), self.data_frame.shape,\n",
    "                                                                                      self.data_frame.axes,\n",
    "                                                                                      self.data_frame.isna().sum(), self.data_frame.info()))\n",
    "        \n",
    "    def first_3_rows_of_DataFrame(self):\n",
    "        print(self.data_frame.head(3))\n",
    "\n",
    "    def select_name_and_score_columns(self):\n",
    "        print(self.data_frame[['name', 'score']])\n",
    "    \n",
    "    def specified_Columns_and_rows(self):\n",
    "        print(self.data_frame.loc[['a', 'c', 'e', 'f'], ['name', 'score']])\n",
    "    \n",
    "    def select_rows_with_attempt_more_than_2(self):\n",
    "        print(self.data_frame[(self.data_frame.attempts > 2)])\n",
    "    \n",
    "    def number_of_rows_and_columns(self):\n",
    "        print(self.data_frame, \"\\nnumber of rows and columns\\n\", self.data_frame.shape)\n",
    "    \n",
    "    def select_rows_where_score_is_missing(self):\n",
    "        print(self.data_frame[self.data_frame.score.isna()])\n",
    "        \n",
    "    def number_attempts_less_than_2_and_score_greater_than_15(self):\n",
    "        print(self.data_frame.dtypes)\n",
    "        print(self.data_frame[(self.data_frame.score > 15.0) & (self.data_frame.attempts > 2)])\n",
    "        \n",
    "    def change_score_in_row_d(self):\n",
    "        print(\"before changjng row d :\\n\", self.data_frame.loc[['d', 'e'], ], \"\\n\")\n",
    "        self.data_frame.loc['d', 'score'] = 11.5\n",
    "        print(\"After change: \", self.data_frame.head())\n",
    "        \n",
    "    def sum_of_attempts(self):\n",
    "        print(\"Sum of attempts is \", self.data_frame.attempts.sum())\n",
    "        \n",
    "    def mean_score(self):\n",
    "        print(\"mean of score is \", self.data_frame.score.mean())\n",
    "    \n",
    "    def append_row_k_(self):\n",
    "        self.data_frame.loc['k'] = {'name': \"Suresh\", 'score': 15.5, 'attempts': 1, 'qualify': \"yes\"}\n",
    "        print(self.data_frame)\n",
    "        \n",
    "    def sort_DataFrame_by_name_in_descending_and_ascending_order(self):\n",
    "        print(\"Sorting in descending\\n{}\\n\\nSorting in ascending\\n{}\".format(self.data_frame.sort_values(by=['name'], ascending=False)\n",
    "              , self.data_frame.sort_values(by=['name'])))\n",
    "        \n",
    "    def replace_qualify_column_values(self):\n",
    "        # inplace is to set the values permanently\n",
    "        self.data_frame.qualify.replace(['yes', 'no'], ['True', 'False'], inplace=True)\n",
    "        print(self.data_frame)      \n",
    "  \n",
    "    def delete_attempts_column(self):\n",
    "        print(self.data_frame.drop('attempts', axis=1))\n",
    "    \n",
    "    def insert_new_Column_in_existing_DataFrame(self):\n",
    "        colour = np.array(['red', 2, 'black', 'green', 'red', 'blu', 'black', 'green', 'red', 'voilet'])\n",
    "        self.data_frame['colour'] = colour\n",
    "        print(self.data_frame.info()) \n",
    "    \n",
    "    def iterate_over_rows_in_DataFrame(self):\n",
    "        for rows in self.data_frame.iterrows():\n",
    "            print('\\n', rows)\n",
    "    \n",
    "    def list_from_DataFrame_column_headers(self):\n",
    "        list_obj = self.data_frame.name.tolist()\n",
    "        counter = 0\n",
    "        cols = self.data_frame.count(axis=1).max\n",
    "        rows = self.data_frame.count().max\n",
    "        array = np.ones()\n",
    "        print(self.data_frame.count(axis=1), \"\\n\")\n",
    "        # for item in self.data_frame:\n",
    "        #     list_obj[counter] = self.data_frame[item]\n",
    "        # print(list_obj)\n",
    "        \n",
    "        \n",
    "def adder(ele1, ele2):\n",
    "    return ele1+ele2\n",
    "\n",
    "\n",
    "panda = Panda_Programs()\n",
    "# panda.practise()\n"
   ]
  },
  {
   "cell_type": "code",
   "execution_count": null,
   "metadata": {
    "collapsed": true
   },
   "outputs": [],
   "source": [
    "panda.one_Dimensional_Array()"
   ]
  },
  {
   "cell_type": "code",
   "execution_count": null,
   "metadata": {
    "collapsed": true
   },
   "outputs": [],
   "source": [
    "panda.series_to_Python_List()"
   ]
  },
  {
   "cell_type": "code",
   "execution_count": null,
   "metadata": {
    "collapsed": true
   },
   "outputs": [],
   "source": [
    "panda.add_subtract_multiple_and_divide_Series()"
   ]
  },
  {
   "cell_type": "code",
   "execution_count": null,
   "metadata": {
    "collapsed": true
   },
   "outputs": [],
   "source": [
    "panda.powers_from_second_array()"
   ]
  },
  {
   "cell_type": "code",
   "execution_count": null,
   "metadata": {
    "collapsed": true
   },
   "outputs": [],
   "source": [
    "panda.dataFrame_from_dictionary()"
   ]
  },
  {
   "cell_type": "code",
   "execution_count": null,
   "metadata": {
    "collapsed": true
   },
   "outputs": [],
   "source": [
    "panda.basic_Information_About_Data_Frame()"
   ]
  },
  {
   "cell_type": "code",
   "execution_count": null,
   "metadata": {
    "collapsed": true
   },
   "outputs": [],
   "source": [
    "panda.first_3_rows_of_DataFrame()"
   ]
  },
  {
   "cell_type": "code",
   "execution_count": null,
   "metadata": {
    "collapsed": true
   },
   "outputs": [],
   "source": [
    "panda.select_name_and_score_columns()"
   ]
  },
  {
   "cell_type": "code",
   "execution_count": null,
   "metadata": {
    "collapsed": true
   },
   "outputs": [],
   "source": [
    "panda.specified_Columns_and_rows()\n"
   ]
  },
  {
   "cell_type": "code",
   "execution_count": null,
   "metadata": {
    "collapsed": true
   },
   "outputs": [],
   "source": [
    "panda.select_rows_with_attempt_more_than_2()"
   ]
  },
  {
   "cell_type": "code",
   "execution_count": null,
   "metadata": {
    "collapsed": true
   },
   "outputs": [],
   "source": [
    "panda.number_of_rows_and_columns()"
   ]
  },
  {
   "cell_type": "code",
   "execution_count": null,
   "metadata": {
    "collapsed": true
   },
   "outputs": [],
   "source": [
    "panda.select_rows_where_score_is_missing()"
   ]
  },
  {
   "cell_type": "code",
   "execution_count": null,
   "metadata": {
    "collapsed": true
   },
   "outputs": [],
   "source": [
    "panda.number_attempts_less_than_2_and_score_greater_than_15()"
   ]
  },
  {
   "cell_type": "code",
   "execution_count": null,
   "metadata": {
    "collapsed": true
   },
   "outputs": [],
   "source": [
    "panda.change_score_in_row_d()"
   ]
  },
  {
   "cell_type": "code",
   "execution_count": null,
   "metadata": {
    "collapsed": true
   },
   "outputs": [],
   "source": [
    "panda.sum_of_attempts()"
   ]
  },
  {
   "cell_type": "code",
   "execution_count": null,
   "metadata": {
    "collapsed": true
   },
   "outputs": [],
   "source": [
    "panda.mean_score()"
   ]
  },
  {
   "cell_type": "code",
   "execution_count": null,
   "metadata": {
    "collapsed": true
   },
   "outputs": [],
   "source": [
    "panda.append_row_k_()"
   ]
  },
  {
   "cell_type": "code",
   "execution_count": null,
   "metadata": {
    "collapsed": true
   },
   "outputs": [],
   "source": [
    "panda.sort_DataFrame_by_name_in_descending_and_ascending_order()"
   ]
  },
  {
   "cell_type": "code",
   "execution_count": null,
   "metadata": {
    "collapsed": true
   },
   "outputs": [],
   "source": [
    "panda.replace_qualify_column_values()"
   ]
  },
  {
   "cell_type": "code",
   "execution_count": null,
   "metadata": {
    "collapsed": true
   },
   "outputs": [],
   "source": [
    "panda.delete_attempts_column()"
   ]
  },
  {
   "cell_type": "code",
   "execution_count": null,
   "metadata": {
    "collapsed": true
   },
   "outputs": [],
   "source": [
    "panda.insert_new_Column_in_existing_DataFrame()"
   ]
  },
  {
   "cell_type": "code",
   "execution_count": null,
   "metadata": {
    "collapsed": true
   },
   "outputs": [],
   "source": [
    "panda.iterate_over_rows_in_DataFrame()"
   ]
  },
  {
   "cell_type": "code",
   "execution_count": null,
   "metadata": {
    "collapsed": true
   },
   "outputs": [],
   "source": [
    "panda.list_from_DataFrame_column_headers()"
   ]
  }
 ],
 "metadata": {
  "kernelspec": {
   "display_name": "Python 3",
   "language": "python",
   "name": "python3"
  },
  "language_info": {
   "codemirror_mode": {
    "name": "ipython",
    "version": 3
   },
   "file_extension": ".py",
   "mimetype": "text/x-python",
   "name": "python",
   "nbconvert_exporter": "python",
   "pygments_lexer": "ipython3",
   "version": "3.6.7rc1"
  }
 },
 "nbformat": 4,
 "nbformat_minor": 1
}
