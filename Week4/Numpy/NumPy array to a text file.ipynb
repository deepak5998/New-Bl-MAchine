{
 "cells": [
  {
   "cell_type": "code",
   "execution_count": null,
   "metadata": {
    "collapsed": true
   },
   "outputs": [],
   "source": [
    "import numpy as np\n",
    "from Utility.UtilityDataStructures import UtilityDataStructures as util\n",
    "\n",
    "\n",
    "class Array_to_Text_file:\n",
    "    \n",
    "    def __init__(self):\n",
    "        self.array_obj = np.array([1, 3, 4, 5])\n",
    "\n",
    "    # method to write to the file\n",
    "    def write_to_file(self):\n",
    "        f = open('numpy_to_array.txt', 'w')\n",
    "        f.write(str(self.array_obj))\n",
    "        print(\"Writing successful to the file please check in the file\")\n",
    "    \n",
    "    # checking if appending works well\n",
    "    def append_to_File(self):\n",
    "            util.file_Append('numpy_to_array.txt', [2, 3, 44, 5])\n",
    "    \n",
    "    # checking if reading works well\n",
    "    def read_Lines_from_File(self):\n",
    "        generator_obj = util.read_Lines_From_File('numpy_to_array.txt')\n",
    "        print(\"Reading from file\")\n",
    "        for item in generator_obj:\n",
    "            print(\"Reading in generator\", item.split())    \n",
    "    \n",
    "\n",
    "array_to_Text_file_object = Array_to_Text_file()\n",
    "array_to_Text_file_object.write_to_file()"
   ]
  }
 ],
 "metadata": {
  "kernelspec": {
   "display_name": "Python 2",
   "language": "python",
   "name": "python2"
  },
  "language_info": {
   "codemirror_mode": {
    "name": "ipython",
    "version": 2
   },
   "file_extension": ".py",
   "mimetype": "text/x-python",
   "name": "python",
   "nbconvert_exporter": "python",
   "pygments_lexer": "ipython2",
   "version": "2.7.6"
  }
 },
 "nbformat": 4,
 "nbformat_minor": 0
}
