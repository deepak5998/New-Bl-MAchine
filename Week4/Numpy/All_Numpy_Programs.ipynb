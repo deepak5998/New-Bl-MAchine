{
 "cells": [
  {
   "cell_type": "code",
   "execution_count": 4,
   "metadata": {},
   "outputs": [
    {
     "name": "stdout",
     "output_type": "stream",
     "text": [
      "1000\n"
     ]
    }
   ],
   "source": [
    "import numpy as np\n",
    "\n",
    "class Numpy_Functions:\n",
    "\n",
    "    def __init__(self):\n",
    "        # the elements that could be used multiple times\n",
    "        self.num_of_elements = 9\n",
    "        self.rows = 3\n",
    "        self.array = np.empty(0)\n",
    "\n",
    "    def create_Array(self):\n",
    "        # normal list\n",
    "        original_array = [12.23, 13.32, 100, 36.32]\n",
    "        # converting to array\n",
    "        self.array = np.array(original_array)\n",
    "        print(self.array)\n",
    "    \n",
    "    def matrix_3_X_3(self):\n",
    "        # numbers from 2,10\n",
    "        self.array = np.array([np.arange(2, 10)])\n",
    "        print(self.array)\n",
    "        # rows for array resizing\n",
    "        self.rows = 3\n",
    "        # resizing the array\n",
    "        self.array.resize(self.rows, self.rows)\n",
    "        print(self.array)\n",
    "        \n",
    "    def null_Vector(self):\n",
    "        # total number of elements\n",
    "        self.num_of_elements = 10\n",
    "        self.array = np.zeros(self.num_of_elements)\n",
    "        print(self.array)\n",
    "        # assigning 11 to 6th element\n",
    "        self.array[6] = 11\n",
    "        print(self.array)\n",
    "        \n",
    "    def reverse_array(self):\n",
    "        # creating an numpy array\n",
    "        self.array = np.array([12, 13, 14, 15, 16, 17, 18, 19, 20, 21, 22, 23\n",
    "                                  ,24, 25, 26, 27, 28, 29, 30, 31, 32, 33, 34, 35, 36, 37])\n",
    "        print(self.array)\n",
    "        # reversing using 1st way\n",
    "        new_array = np.flipud(self.array)\n",
    "        print(new_array)\n",
    "        # reversing using 2nd way\n",
    "        reverse_array = self.array[::-1]\n",
    "        print(reverse_array)\n",
    "    \n",
    "    def corner_elements_1(self):\n",
    "        # row = column as the corner elements are being set to 1\n",
    "        self.rows = 5\n",
    "        original_array = np.array(np.ones(25))\n",
    "        original_array.resize(self.rows, self.rows)\n",
    "        print(original_array)\n",
    "        for counter1 in range(0, len(original_array)):\n",
    "            for counter2 in range(0, len(original_array)):\n",
    "                if counter1 != 0 and counter2 != 0 \\\n",
    "                        and counter1 != len(original_array) - 1 \\\n",
    "                        and counter2 != len(original_array[0]) - 1:\n",
    "                    original_array[counter1][counter2] = 0\n",
    "        print(original_array)\n",
    "        \n",
    "    def border_around_existing_array(self):\n",
    "        num_of_elements = 9\n",
    "        rows = 3\n",
    "        self.array = np.arange(1, num_of_elements+1).reshape(rows, rows)\n",
    "        print(self.array)\n",
    "        rows += 2\n",
    "        # as both the sides the elements will be added hence added 2\n",
    "        new_array = (np.zeros((rows) * (rows))).reshape(rows, rows)\n",
    "        for counter1 in range(0, rows):\n",
    "            for counter2 in range(0, rows):\n",
    "                # if 1st row or last row and similar with column\n",
    "                if counter1 != 0 and counter1 != rows - 1 and counter2 != 0 and \\\n",
    "                        counter2 != rows-1:\n",
    "                    new_array[counter1][counter2] = self.array[counter1-1][counter2-1]\n",
    "        print(new_array)\n",
    "        \n",
    "    def checkerboard_Pattern_8_X_8(self):\n",
    "        # as chess board has 8 rows and 8 cols\n",
    "        rows = 8 \n",
    "        self.array = (np.zeros(rows * rows)).reshape(rows, rows)           \n",
    "        for counter1 in range(0, rows):\n",
    "            for counter2 in range(0, rows):\n",
    "                # if row +col is even set element at that position = 1 as every alternate position is o or 1\n",
    "                if ((counter1+counter2) % 2) != 0:\n",
    "                    self.array[counter1][counter2] = 1\n",
    "        print(self.array)\n",
    "    \n",
    "    def tuple_to_Array(self):\n",
    "        list_object = list([1, 2, 3, 4, 5, 6, 7, 8])\n",
    "        # creating array from a list\n",
    "        self.array = np.array(list_object)\n",
    "        print(self.array)\n",
    "        list_object = (8, 4, 6, 1, 2, 3)\n",
    "        try:\n",
    "            # to verify the list is tuple or not\n",
    "            print(\"Trying to add 12 at first position\")\n",
    "            list_object[0] = tuple([12])\n",
    "        except Exception as e:\n",
    "            print(\"Can't add element as \", e)\n",
    "        self.array = np.array(list_object)\n",
    "        print(self.array)\n",
    "        \n",
    "    def append_To_End(self):\n",
    "        original_array = [10, 20, 30] \n",
    "        self.array = np.array(original_array)\n",
    "        print(self.array)\n",
    "        self.array = np.append(self.array, [40, 50, 60, 70, 80, 90])\n",
    "        print(self.array)\n",
    "\n",
    "    def real_And_Imaginary_Part(self):\n",
    "        original_array = np.array([1.00000000 + 0.j, 0.70710678 + 0.70710678j])\n",
    "        print(original_array)\n",
    "        print(\"Real part is \", np.real(original_array), \"\\nImaginary part is \", np.imag(original_array),\n",
    "              \"\\n\\nTotal Real part is\", np.real(original_array[0]) + np.real(original_array[1]),\n",
    "              \"\\nTotal Imaginary part is\", np.imag(original_array[0]) + np.imag(original_array[1]))\n",
    "    \n",
    "    def total_Bytes_Consumed(self):\n",
    "        an_array = np.array([1, 2, 3], dtype=np.int64)\n",
    "        size_of_element = an_array.itemsize\n",
    "        print(an_array.size)\n",
    "        print(\"Size of the array {}\\n Length of one array element in bytes{}\\n\"\n",
    "              \"Total bytes consumed by the elements of the array is  {}\".\n",
    "              format(len(an_array), size_of_element, size_of_element * len(an_array)))\n",
    "    \n",
    "    def common_Values_in_Array(self):\n",
    "        array1 = np.array([0, 10, 20, 40, 60])\n",
    "        array2 = np.array([10, 30, 40])\n",
    "        array3 = np.empty(0)\n",
    "        for item in array1:\n",
    "            if array2.__contains__(item):\n",
    "                array3 = np.append(array3, item)    \n",
    "        print(array3)\n",
    "    \n",
    "    def set_Difference_of_Two_Arrays(self):\n",
    "        array1 = np.array([0, 10, 20, 40, 60, 80], dtype=np.int8)\n",
    "        array2 = np.array([10, 30, 40, 50, 70], dtype=np.int8)\n",
    "        array3 = np.empty(0)\n",
    "        for item in array1:\n",
    "            if not array2.__contains__(item):\n",
    "                array3 = np.append( array3, item)    \n",
    "        for item in array2:\n",
    "            if not array1.__contains__(item):\n",
    "                array3 = np.append(array3, item) \n",
    "        print(np.sort(array3))\n",
    "       \n",
    "    def compare_Two_Arrays(self):\n",
    "        a = np.array([1, 2])\n",
    "        b = np.array([4, 5])\n",
    "        print(\"a > b \\n{}\\n a >= b \\n{}\\na < b \\n{}\\n a <= b \\n{}\"\n",
    "              .format((a > b), (a >= b), (a < b), (a <= b)))\n",
    "        \n",
    "    def flattened_Array(self):\n",
    "        array_original = np.array([[10, 20, 30], [20, 40, 50]]) \n",
    "        print(array_original)\n",
    "        array_lenght = len(array_original) * len(array_original[0])\n",
    "        array_original = array_original.reshape(1, array_lenght)\n",
    "        print(array_original)\n",
    "      \n",
    "    def change_Datatype_of_Array(self):\n",
    "        original_array = np.array([[2, 4, 6], [6, 8, 10]], dtype=np.int32)\n",
    "        print(original_array)\n",
    "        original_array = np.array(original_array, dtype=np.float64)\n",
    "        print(original_array)\n",
    "      \n",
    "    def three_D_Array_Identity_Matrix(self):\n",
    "        original_array = np.eye(3, 3)\n",
    "        print(original_array)       \n",
    "      \n",
    "    def lower_Daigonal_Matrix(self):\n",
    "        rows = 4\n",
    "        columns = 3\n",
    "        original_array = np.zeros(rows*columns)\n",
    "        original_array.resize(rows, columns)\n",
    "        print(original_array)\n",
    "        for counter1 in range(1,len(original_array)):\n",
    "            for counter2 in range(0, counter1):\n",
    "                original_array[counter1][counter2] = 1\n",
    "        print(original_array)\n",
    "        \n",
    "    def concatenate_Two_2_Dimensional_Arrays(self):\n",
    "        original_array = np.array(([[0, 1, 3], [5, 7, 9]], [[0, 2, 4], [6, 8, 10]]))\n",
    "        print(original_array)\n",
    "        new_array = np.concatenate((original_array[0], original_array[1]), axis=1)\n",
    "        print(\"New array is \\n\", new_array)   \n",
    "            \n",
    "    def array_Immutable(self):\n",
    "        original_array = np.array([2, 3, 3, 4, 45, 65])\n",
    "        original_array.flags.writeable = False\n",
    "        try:\n",
    "            original_array[0] = 1\n",
    "        except Exception as e:\n",
    "            print(\"The element cant be changed because \", e)\n",
    "    \n",
    "    def array_Multiply_Every_Element_by_n(self):\n",
    "        original_array = np.array(np.arange(0, 12)).reshape(3, 4)\n",
    "        print(original_array)\n",
    "        original_array *= 3\n",
    "        print(original_array)\n",
    "    \n",
    "    def numPy_Array_Into_Python_list(self):\n",
    "        original_array = np.array([[0, 1], [2, 3], [4, 5]])\n",
    "        print(original_array)\n",
    "        list_object = list()\n",
    "        for item in original_array:\n",
    "            list_object.append(list(item))\n",
    "        print(list_object)\n",
    "    \n",
    "    def values_With_Precision_3(self):\n",
    "        original_array = np.array([0.26153123, 0.52760141, 0.5718299, 0.5927067, 0.7831874, \n",
    "                                   0.69746349, 0.35399976, 0.99469633, 0.0694458, 0.54711478], dtype=np.float)\n",
    "    \n",
    "        # original_array = np.array(original_array, np.set_printoptions(precision=3))\n",
    "        print(original_array)\n",
    "    \n",
    "    def scientific_Notation_for_Small_Numbers(self):\n",
    "        original_array = [1.60000000e-10, 1.60000000e+00, 1.20000000e+03, 2.35000000e-01]\n",
    "        np.set_printoptions(suppress=True)\n",
    "        print(original_array)\n",
    "    \n",
    "    def add_Extra_Column(self):\n",
    "        original_array = np.array([[10, 20, 30], [40, 50, 60]])\n",
    "        new_array = [[100], [200]]\n",
    "        original_array = np.concatenate((original_array, new_array), axis=1)\n",
    "        print(original_array)\n",
    "        \n",
    "    def remove_Specific_Elements(self):\n",
    "        original_array = np.array([10, 20, 30, 40, 50, 60, 70, 80, 90, 100])\n",
    "        print(original_array)\n",
    "        original_array = np.delete(original_array, (0, 3, 4))\n",
    "        print(original_array)\n",
    "    \n",
    "    def practise_nd_array(self):\n",
    "        array1 = np.array([0, 5, 10, 15])\n",
    "        array = np.array([10,20,30,40])\n",
    "        # print(array.cumsum(axis=0))\n",
    "        print(np.inner(array, array1))\n",
    "            \n",
    "numpy_object = Numpy_Functions()\n",
    "numpy_object.practise_nd_array()\n"
   ]
  },
  {
   "cell_type": "code",
   "execution_count": null,
   "metadata": {},
   "outputs": [],
   "source": [
    "numpy_object.matrix_3_X_3()\n"
   ]
  },
  {
   "cell_type": "code",
   "execution_count": null,
   "metadata": {},
   "outputs": [],
   "source": [
    "numpy_object.null_Vector()\n"
   ]
  },
  {
   "cell_type": "code",
   "execution_count": null,
   "metadata": {},
   "outputs": [],
   "source": [
    "numpy_object.reverse_array()\n"
   ]
  },
  {
   "cell_type": "code",
   "execution_count": null,
   "metadata": {},
   "outputs": [],
   "source": [
    "numpy_object.corner_elements_1()\n"
   ]
  },
  {
   "cell_type": "code",
   "execution_count": null,
   "metadata": {},
   "outputs": [],
   "source": [
    "numpy_object.border_around_existing_array()\n"
   ]
  },
  {
   "cell_type": "code",
   "execution_count": null,
   "metadata": {},
   "outputs": [],
   "source": [
    "numpy_object.checkerboard_Pattern_8_X_8()\n"
   ]
  },
  {
   "cell_type": "code",
   "execution_count": null,
   "metadata": {},
   "outputs": [],
   "source": [
    "numpy_object.tuple_to_Array()\n"
   ]
  },
  {
   "cell_type": "code",
   "execution_count": null,
   "metadata": {},
   "outputs": [],
   "source": [
    "numpy_object.append_To_End()\n"
   ]
  },
  {
   "cell_type": "code",
   "execution_count": null,
   "metadata": {},
   "outputs": [],
   "source": [
    "numpy_object.real_And_Imaginary_Part()\n"
   ]
  },
  {
   "cell_type": "code",
   "execution_count": null,
   "metadata": {},
   "outputs": [],
   "source": [
    "numpy_object.total_Bytes_Consumed()\n"
   ]
  },
  {
   "cell_type": "code",
   "execution_count": null,
   "metadata": {},
   "outputs": [],
   "source": [
    "numpy_object.common_Values_in_Array()\n"
   ]
  },
  {
   "cell_type": "code",
   "execution_count": null,
   "metadata": {},
   "outputs": [],
   "source": [
    "numpy_object.set_Difference_of_Two_Arrays()\n"
   ]
  },
  {
   "cell_type": "code",
   "execution_count": null,
   "metadata": {},
   "outputs": [],
   "source": [
    "numpy_object.compare_Two_Arrays()\n"
   ]
  },
  {
   "cell_type": "code",
   "execution_count": null,
   "metadata": {},
   "outputs": [],
   "source": [
    "numpy_object.flattened_Array()\n"
   ]
  },
  {
   "cell_type": "code",
   "execution_count": null,
   "metadata": {},
   "outputs": [],
   "source": [
    "numpy_object.change_Datatype_of_Array() \n"
   ]
  },
  {
   "cell_type": "code",
   "execution_count": null,
   "metadata": {},
   "outputs": [],
   "source": [
    "numpy_object.three_D_Array_Identity_Matrix()\n"
   ]
  },
  {
   "cell_type": "code",
   "execution_count": null,
   "metadata": {},
   "outputs": [],
   "source": [
    "numpy_object.lower_Daigonal_Matrix()\n"
   ]
  },
  {
   "cell_type": "code",
   "execution_count": null,
   "metadata": {},
   "outputs": [],
   "source": [
    "numpy_object.concatenate_Two_2_Dimensional_Arrays()\n"
   ]
  },
  {
   "cell_type": "code",
   "execution_count": null,
   "metadata": {},
   "outputs": [],
   "source": [
    "numpy_object.array_Immutable()\n"
   ]
  },
  {
   "cell_type": "code",
   "execution_count": null,
   "metadata": {},
   "outputs": [],
   "source": [
    "numpy_object.array_Multiply_Every_Element_by_n()\n"
   ]
  },
  {
   "cell_type": "code",
   "execution_count": null,
   "metadata": {},
   "outputs": [],
   "source": [
    "numpy_object.numPy_Array_Into_Python_list()\n"
   ]
  },
  {
   "cell_type": "code",
   "execution_count": null,
   "metadata": {},
   "outputs": [],
   "source": [
    "numpy_object.values_With_Precision_3()\n"
   ]
  },
  {
   "cell_type": "code",
   "execution_count": null,
   "metadata": {},
   "outputs": [],
   "source": [
    "numpy_object.scientific_Notation_for_Small_Numbers()\n"
   ]
  },
  {
   "cell_type": "code",
   "execution_count": null,
   "metadata": {},
   "outputs": [],
   "source": [
    "numpy_object.add_Extra_Column()\n"
   ]
  },
  {
   "cell_type": "code",
   "execution_count": null,
   "metadata": {},
   "outputs": [],
   "source": [
    "numpy_object.remove_Specific_Elements()\n"
   ]
  }
 ],
 "metadata": {
  "kernelspec": {
   "display_name": "Python 3",
   "language": "python",
   "name": "python3"
  },
  "language_info": {
   "codemirror_mode": {
    "name": "ipython",
    "version": 3
   },
   "file_extension": ".py",
   "mimetype": "text/x-python",
   "name": "python",
   "nbconvert_exporter": "python",
   "pygments_lexer": "ipython3",
   "version": "3.6.7rc1"
  }
 },
 "nbformat": 4,
 "nbformat_minor": 2
}
