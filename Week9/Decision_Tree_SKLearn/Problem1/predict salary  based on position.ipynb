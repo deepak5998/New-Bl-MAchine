{
 "cells": [
  {
   "cell_type": "code",
   "execution_count": 4,
   "metadata": {},
   "outputs": [],
   "source": [
    "from sklearn.tree import DecisionTreeRegressor\n",
    "from sklearn.preprocessing import StandardScaler\n",
    "SS=StandardScaler()\n",
    "from sklearn.preprocessing import *\n",
    "# from sklearn \n",
    "import importlib.util\n",
    "import pandas as pd\n",
    "import numpy as np\n",
    "import matplotlib.pyplot as plt\n",
    "from mpl_toolkits.mplot3d import Axes3D\n",
    "import seaborn as sns\n",
    "# for error calculation MSE or MAE or Rsquare\n",
    "from sklearn.metrics import *\n",
    "# for spllititing the data_set\n",
    "from sklearn.model_selection import train_test_split\n",
    "# For support support vector regression\n",
    "from sklearn.svm import SVR\n",
    "# for time execution calculation\n",
    "from datetime import datetime"
   ]
  },
  {
   "cell_type": "code",
   "execution_count": 5,
   "metadata": {},
   "outputs": [
    {
     "name": "stdout",
     "output_type": "stream",
     "text": [
      "Data PreProcessign object created successfully\n"
     ]
    }
   ],
   "source": [
    "spec = importlib.util.spec_from_file_location(\"DataPreprocessing\", \"/home/admin1/PycharmProjects/Machine_learning_Python/Utility/DataPreprocessing.py\")\n",
    "#At home windows\n",
    "# spec = importlib.util.spec_from_file_location(\"DataPreprocessing\", \"C:/Users/PRAYAS/PycharmProjects/Machine_Learning_Python/Utility/DataPreprocessing.py\")\n",
    "# C:\\Users\\PRAYAS\\PycharmProjects\\Machine_Learning_Python\\Utility\n",
    "foo = importlib.util.module_from_spec(spec)\n",
    "spec.loader.exec_module(foo)\n",
    "preprocess_obj = foo.DataPreprocessing()\n"
   ]
  },
  {
   "cell_type": "code",
   "execution_count": 6,
   "metadata": {},
   "outputs": [],
   "source": [
    "dataframe = pd.read_csv('Data/Position_Salaries.csv')"
   ]
  },
  {
   "cell_type": "code",
   "execution_count": 7,
   "metadata": {},
   "outputs": [
    {
     "data": {
      "text/html": [
       "<div>\n",
       "<style scoped>\n",
       "    .dataframe tbody tr th:only-of-type {\n",
       "        vertical-align: middle;\n",
       "    }\n",
       "\n",
       "    .dataframe tbody tr th {\n",
       "        vertical-align: top;\n",
       "    }\n",
       "\n",
       "    .dataframe thead th {\n",
       "        text-align: right;\n",
       "    }\n",
       "</style>\n",
       "<table border=\"1\" class=\"dataframe\">\n",
       "  <thead>\n",
       "    <tr style=\"text-align: right;\">\n",
       "      <th></th>\n",
       "      <th>Position</th>\n",
       "      <th>Level</th>\n",
       "      <th>Salary</th>\n",
       "    </tr>\n",
       "  </thead>\n",
       "  <tbody>\n",
       "    <tr>\n",
       "      <th>5</th>\n",
       "      <td>Region Manager</td>\n",
       "      <td>6</td>\n",
       "      <td>150000</td>\n",
       "    </tr>\n",
       "  </tbody>\n",
       "</table>\n",
       "</div>"
      ],
      "text/plain": [
       "         Position  Level  Salary\n",
       "5  Region Manager      6  150000"
      ]
     },
     "execution_count": 7,
     "metadata": {},
     "output_type": "execute_result"
    }
   ],
   "source": [
    "dataframe.sample()"
   ]
  },
  {
   "cell_type": "code",
   "execution_count": 8,
   "metadata": {},
   "outputs": [],
   "source": [
    "dataframe=dataframe.rename(columns={'Level':'x', 'Salary':'y'})"
   ]
  },
  {
   "cell_type": "code",
   "execution_count": 9,
   "metadata": {},
   "outputs": [
    {
     "data": {
      "text/plain": [
       "Position    0\n",
       "x           0\n",
       "y           0\n",
       "dtype: int64"
      ]
     },
     "execution_count": 9,
     "metadata": {},
     "output_type": "execute_result"
    }
   ],
   "source": [
    "dataframe.isnull().sum()"
   ]
  },
  {
   "cell_type": "code",
   "execution_count": 10,
   "metadata": {},
   "outputs": [
    {
     "data": {
      "text/plain": [
       "Position    10\n",
       "x           10\n",
       "y           10\n",
       "dtype: int64"
      ]
     },
     "execution_count": 10,
     "metadata": {},
     "output_type": "execute_result"
    }
   ],
   "source": [
    "dataframe.nunique()"
   ]
  },
  {
   "cell_type": "code",
   "execution_count": 14,
   "metadata": {},
   "outputs": [
    {
     "name": "stdout",
     "output_type": "stream",
     "text": [
      "Decision Tree Regression\n",
      "The value for 6.5 is  [150000.]\n",
      "Accuracy by r2 score is = -28.31999999999999\n",
      "mae: 105000.0, rmse: 141598.02258506295, r2 score: -0.2831999999999999\n"
     ]
    },
    {
     "data": {
      "image/png": "[encoded data removed]",
      "text/plain": [
       "<Figure size 432x288 with 1 Axes>"
      ]
     },
     "metadata": {
      "needs_background": "light"
     },
     "output_type": "display_data"
    },
    {
     "data": {
      "image/png": "[encoded data removed]",
      "text/plain": [
       "<Figure size 432x288 with 1 Axes>"
      ]
     },
     "metadata": {
      "needs_background": "light"
     },
     "output_type": "display_data"
    },
    {
     "name": "stdout",
     "output_type": "stream",
     "text": [
      "Accuracy using r2 score is -28.31999999999999 %\n"
     ]
    }
   ],
   "source": [
    "class Decision_Regression:\n",
    "    \n",
    "    def __init__(self):\n",
    "        print(\"Decision Tree Regression\")\n",
    "        \n",
    "    def plotter(self,X,Y,reg,plot_title):\n",
    "        # smoothening the plot so that we can see a smooth curve so getting points with difference 0.1\n",
    "        X_smooth = np.arange(X.min(),X.max(),0.01)\n",
    "        plt.title(plot_title)\n",
    "        plt.plot(X_smooth,reg.predict(X_smooth.reshape(-1,1)),color='r')\n",
    "        plt.scatter(X,Y)\n",
    "        plt.show()\n",
    "    \n",
    "    def Decision_Regression_demo(self,dataframe):\n",
    "        # creating Decision Tree regression object\n",
    "        dec_reg = DecisionTreeRegressor(random_state=0)\n",
    "        # creating decision regression object with random state =0 as if same function operated any where it'll give same resukt on the same set\n",
    "\n",
    "        # Splitting independent variables and the output variables\n",
    "        train_data = dataframe['x'].values\n",
    "        train_Y = dataframe['y'].values\n",
    "        # spilling train and test data\n",
    "        train_data, test_data, train_Y, test_Y = train_test_split(train_data,train_Y, test_size=0.2,random_state=0)\n",
    "        # geting the values of x till the degree provided\n",
    "        \n",
    "        dec_reg.fit(train_data.reshape(-1,1),train_Y.reshape(-1,1))\n",
    "        \n",
    "        # predicting the values on basis of our input data\n",
    "        Ypred = dec_reg.predict(test_data.reshape(-1,1))\n",
    "        \n",
    "        # For 6.5 yrs experience as calculated in the videos\n",
    "        print(\"The value for 6.5 is \",dec_reg.predict(np.array(6.5).reshape(-1,1)))\n",
    "        \n",
    "         # error calculations\n",
    "        mse = mean_squared_error(Ypred,test_Y)\n",
    "        mae = mean_absolute_error(Ypred,test_Y)\n",
    "        r_score = r2_score(Ypred,test_Y)\n",
    "        accuracy = r_score*100\n",
    "        print(\"Accuracy by r2 score is = {}\".format(accuracy))\n",
    "        print(\"mae: {}, rmse: {}, r2 score: {}\".format(mae,np.sqrt(mse),r_score))\n",
    "        \n",
    "        # plotting\n",
    "        self.plotter(train_data,train_Y,dec_reg,'train data vs predicted')\n",
    "        self.plotter(test_data,test_Y,dec_reg,'test data vs predicted')\n",
    "        print(\"Accuracy using r2 score is {} %\".format(accuracy))\n",
    "        \n",
    "    def main(self,dataframe):\n",
    "#         try:\n",
    "        self.Decision_Regression_demo(dataframe)\n",
    "#         except Exception as e:\n",
    "#             print(\"Process stopped because \",e)\n",
    "\n",
    "if __name__ == '__main__':\n",
    "    obj = Decision_Regression()\n",
    "    obj.main(dataframe)"
   ]
  }
 ],
 "metadata": {
  "kernelspec": {
   "display_name": "Python 3",
   "language": "python",
   "name": "python3"
  },
  "language_info": {
   "codemirror_mode": {
    "name": "ipython",
    "version": 3
   },
   "file_extension": ".py",
   "mimetype": "text/x-python",
   "name": "python",
   "nbconvert_exporter": "python",
   "pygments_lexer": "ipython3",
   "version": "3.7.1"
  }
 },
 "nbformat": 4,
 "nbformat_minor": 2
}
