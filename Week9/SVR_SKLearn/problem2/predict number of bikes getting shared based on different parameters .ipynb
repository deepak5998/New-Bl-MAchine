{
 "cells": [
  {
   "cell_type": "code",
   "execution_count": 57,
   "metadata": {},
   "outputs": [],
   "source": [
    "from sklearn.linear_model import LinearRegression\n",
    "from sklearn.preprocessing import StandardScaler\n",
    "SS=StandardScaler()\n",
    "from sklearn.preprocessing import *\n",
    "import pickle\n",
    "# from sklearn \n",
    "import importlib.util\n",
    "import pandas as pd\n",
    "import numpy as np\n",
    "import matplotlib.pyplot as plt\n",
    "from mpl_toolkits.mplot3d import Axes3D\n",
    "import seaborn as sns\n",
    "# for error calculation MSE or MAE or Rsquare\n",
    "from sklearn.metrics import *\n",
    "# for spllititing the data_set\n",
    "from sklearn.model_selection import train_test_split\n",
    "# For support support vector regression\n",
    "from sklearn.svm import SVR\n",
    "# for time execution calculation\n",
    "from datetime import datetime"
   ]
  },
  {
   "cell_type": "code",
   "execution_count": 58,
   "metadata": {},
   "outputs": [
    {
     "name": "stdout",
     "output_type": "stream",
     "text": [
      "Data PreProcessign object created successfully\n"
     ]
    }
   ],
   "source": [
    "spec = importlib.util.spec_from_file_location(\"DataPreprocessing\", \"/home/admin1/PycharmProjects/Machine_learning_Python/Utility/DataPreprocessing.py\")\n",
    "#At home windows\n",
    "# spec = importlib.util.spec_from_file_location(\"DataPreprocessing\", \"C:/Users/PRAYAS/PycharmProjects/Machine_Learning_Python/Utility/DataPreprocessing.py\")\n",
    "# C:\\Users\\PRAYAS\\PycharmProjects\\Machine_Learning_Python\\Utility\n",
    "foo = importlib.util.module_from_spec(spec)\n",
    "spec.loader.exec_module(foo)\n",
    "preprocess_obj = foo.DataPreprocessing()\n"
   ]
  },
  {
   "cell_type": "code",
   "execution_count": 59,
   "metadata": {},
   "outputs": [],
   "source": [
    "dataframe = pd.read_csv('Data/bike_sharing.csv')"
   ]
  },
  {
   "cell_type": "code",
   "execution_count": 60,
   "metadata": {},
   "outputs": [
    {
     "data": {
      "text/html": [
       "<div>\n",
       "<style scoped>\n",
       "    .dataframe tbody tr th:only-of-type {\n",
       "        vertical-align: middle;\n",
       "    }\n",
       "\n",
       "    .dataframe tbody tr th {\n",
       "        vertical-align: top;\n",
       "    }\n",
       "\n",
       "    .dataframe thead th {\n",
       "        text-align: right;\n",
       "    }\n",
       "</style>\n",
       "<table border=\"1\" class=\"dataframe\">\n",
       "  <thead>\n",
       "    <tr style=\"text-align: right;\">\n",
       "      <th></th>\n",
       "      <th>instant</th>\n",
       "      <th>dteday</th>\n",
       "      <th>season</th>\n",
       "      <th>yr</th>\n",
       "      <th>mnth</th>\n",
       "      <th>hr</th>\n",
       "      <th>holiday</th>\n",
       "      <th>weekday</th>\n",
       "      <th>workingday</th>\n",
       "      <th>weathersit</th>\n",
       "      <th>temp</th>\n",
       "      <th>atemp</th>\n",
       "      <th>hum</th>\n",
       "      <th>windspeed</th>\n",
       "      <th>casual</th>\n",
       "      <th>registered</th>\n",
       "      <th>cnt</th>\n",
       "    </tr>\n",
       "  </thead>\n",
       "  <tbody>\n",
       "    <tr>\n",
       "      <th>8581</th>\n",
       "      <td>8582</td>\n",
       "      <td>2011-12-29</td>\n",
       "      <td>1</td>\n",
       "      <td>0</td>\n",
       "      <td>12</td>\n",
       "      <td>8</td>\n",
       "      <td>0</td>\n",
       "      <td>4</td>\n",
       "      <td>1</td>\n",
       "      <td>2</td>\n",
       "      <td>0.2</td>\n",
       "      <td>0.2576</td>\n",
       "      <td>0.64</td>\n",
       "      <td>0.0</td>\n",
       "      <td>3</td>\n",
       "      <td>207</td>\n",
       "      <td>210</td>\n",
       "    </tr>\n",
       "  </tbody>\n",
       "</table>\n",
       "</div>"
      ],
      "text/plain": [
       "      instant      dteday  season  yr  mnth  hr  holiday  weekday  workingday  \\\n",
       "8581     8582  2011-12-29       1   0    12   8        0        4           1   \n",
       "\n",
       "      weathersit  temp   atemp   hum  windspeed  casual  registered  cnt  \n",
       "8581           2   0.2  0.2576  0.64        0.0       3         207  210  "
      ]
     },
     "execution_count": 60,
     "metadata": {},
     "output_type": "execute_result"
    }
   ],
   "source": [
    "dataframe.sample()"
   ]
  },
  {
   "cell_type": "code",
   "execution_count": 61,
   "metadata": {},
   "outputs": [],
   "source": [
    "dataframe  = dataframe[['registered','cnt']]"
   ]
  },
  {
   "cell_type": "code",
   "execution_count": 62,
   "metadata": {},
   "outputs": [],
   "source": [
    "dataframe = dataframe.rename(columns={'registered':'x','cnt':'y'})"
   ]
  },
  {
   "cell_type": "code",
   "execution_count": 63,
   "metadata": {},
   "outputs": [
    {
     "data": {
      "text/plain": [
       "x    0\n",
       "y    0\n",
       "dtype: int64"
      ]
     },
     "execution_count": 63,
     "metadata": {},
     "output_type": "execute_result"
    }
   ],
   "source": [
    "dataframe.isna().sum()"
   ]
  },
  {
   "cell_type": "code",
   "execution_count": 64,
   "metadata": {},
   "outputs": [
    {
     "data": {
      "text/plain": [
       "<matplotlib.axes._subplots.AxesSubplot at 0x7f833fb223c8>"
      ]
     },
     "execution_count": 64,
     "metadata": {},
     "output_type": "execute_result"
    },
    {
     "data": {
      "image/png": "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\n",
      "text/plain": [
       "<Figure size 432x288 with 1 Axes>"
      ]
     },
     "metadata": {
      "needs_background": "light"
     },
     "output_type": "display_data"
    }
   ],
   "source": [
    "dataframe.boxplot()"
   ]
  },
  {
   "cell_type": "code",
   "execution_count": 65,
   "metadata": {},
   "outputs": [
    {
     "data": {
      "text/plain": [
       "(17379, 2)"
      ]
     },
     "execution_count": 65,
     "metadata": {},
     "output_type": "execute_result"
    }
   ],
   "source": [
    "dataframe.shape"
   ]
  },
  {
   "cell_type": "code",
   "execution_count": 66,
   "metadata": {},
   "outputs": [],
   "source": [
    "# dataframe = preprocess_obj.remove_outlier(dataframe)"
   ]
  },
  {
   "cell_type": "code",
   "execution_count": 67,
   "metadata": {},
   "outputs": [
    {
     "data": {
      "text/plain": [
       "<matplotlib.axes._subplots.AxesSubplot at 0x7f833fac2390>"
      ]
     },
     "execution_count": 67,
     "metadata": {},
     "output_type": "execute_result"
    },
    {
     "data": {
      "image/png": "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\n",
      "text/plain": [
       "<Figure size 432x288 with 1 Axes>"
      ]
     },
     "metadata": {
      "needs_background": "light"
     },
     "output_type": "display_data"
    }
   ],
   "source": [
    "dataframe.boxplot()"
   ]
  },
  {
   "cell_type": "code",
   "execution_count": 68,
   "metadata": {},
   "outputs": [
    {
     "data": {
      "text/plain": [
       "(17379, 2)"
      ]
     },
     "execution_count": 68,
     "metadata": {},
     "output_type": "execute_result"
    }
   ],
   "source": [
    "dataframe.shape"
   ]
  },
  {
   "cell_type": "code",
   "execution_count": 69,
   "metadata": {},
   "outputs": [],
   "source": [
    "dataframe= dataframe.dropna()"
   ]
  },
  {
   "cell_type": "code",
   "execution_count": 70,
   "metadata": {},
   "outputs": [
    {
     "data": {
      "text/plain": [
       "(17379, 2)"
      ]
     },
     "execution_count": 70,
     "metadata": {},
     "output_type": "execute_result"
    }
   ],
   "source": [
    "dataframe.shape"
   ]
  },
  {
   "cell_type": "code",
   "execution_count": 71,
   "metadata": {},
   "outputs": [
    {
     "data": {
      "text/plain": [
       "6892"
      ]
     },
     "execution_count": 71,
     "metadata": {},
     "output_type": "execute_result"
    }
   ],
   "source": [
    "preprocess_obj.duplicates_count(dataframe)"
   ]
  },
  {
   "cell_type": "code",
   "execution_count": 72,
   "metadata": {},
   "outputs": [],
   "source": [
    "dataframe = preprocess_obj.remove_Duplicates(dataframe)"
   ]
  },
  {
   "cell_type": "code",
   "execution_count": 73,
   "metadata": {},
   "outputs": [
    {
     "data": {
      "text/plain": [
       "(10487, 2)"
      ]
     },
     "execution_count": 73,
     "metadata": {},
     "output_type": "execute_result"
    }
   ],
   "source": [
    "dataframe.shape"
   ]
  },
  {
   "cell_type": "code",
   "execution_count": 74,
   "metadata": {},
   "outputs": [
    {
     "name": "stdout",
     "output_type": "stream",
     "text": [
      "Inside Support vector Regression\n"
     ]
    },
    {
     "name": "stderr",
     "output_type": "stream",
     "text": [
      "/home/admin1/Downloads/enter/lib/python3.7/site-packages/sklearn/utils/validation.py:595: DataConversionWarning: Data with input dtype int64 was converted to float64 by StandardScaler.\n",
      "  warnings.warn(msg, DataConversionWarning)\n",
      "/home/admin1/Downloads/enter/lib/python3.7/site-packages/sklearn/utils/validation.py:595: DataConversionWarning: Data with input dtype int64 was converted to float64 by StandardScaler.\n",
      "  warnings.warn(msg, DataConversionWarning)\n",
      "/home/admin1/Downloads/enter/lib/python3.7/site-packages/sklearn/utils/validation.py:595: DataConversionWarning: Data with input dtype int64 was converted to float64 by StandardScaler.\n",
      "  warnings.warn(msg, DataConversionWarning)\n",
      "/home/admin1/Downloads/enter/lib/python3.7/site-packages/sklearn/utils/validation.py:595: DataConversionWarning: Data with input dtype int64 was converted to float64 by StandardScaler.\n",
      "  warnings.warn(msg, DataConversionWarning)\n",
      "/home/admin1/Downloads/enter/lib/python3.7/site-packages/sklearn/utils/validation.py:761: DataConversionWarning: A column-vector y was passed when a 1d array was expected. Please change the shape of y to (n_samples, ), for example using ravel().\n",
      "  y = column_or_1d(y, warn=True)\n",
      "/home/admin1/Downloads/enter/lib/python3.7/site-packages/sklearn/utils/validation.py:595: DataConversionWarning: Data with input dtype int64 was converted to float64 by StandardScaler.\n",
      "  warnings.warn(msg, DataConversionWarning)\n",
      "/home/admin1/Downloads/enter/lib/python3.7/site-packages/sklearn/utils/validation.py:595: DataConversionWarning: Data with input dtype int64 was converted to float64 by StandardScaler.\n",
      "  warnings.warn(msg, DataConversionWarning)\n"
     ]
    },
    {
     "data": {
      "image/png": "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\n",
      "text/plain": [
       "<Figure size 432x288 with 1 Axes>"
      ]
     },
     "metadata": {
      "needs_background": "light"
     },
     "output_type": "display_data"
    },
    {
     "name": "stdout",
     "output_type": "stream",
     "text": [
      "Accuracy by r2 score is = 90.98565950018107\n",
      "Time Taken to solve this SVR in microseconds 43920\n"
     ]
    }
   ],
   "source": [
    "class Support_Vector_Regression:\n",
    "    \n",
    "    def __init__(self):\n",
    "        print(\"Inside Support vector Regression\")\n",
    "    \n",
    "    def plotter(self,X,Y,lin_reg,plot_title):\n",
    "        # smoothening the plot so that we can see a smooth curve so getting points with difference 0.1\n",
    "        X_smooth = np.arange(X.min(),X.max(),0.1)\n",
    "        plt.title(plot_title)\n",
    "        plt.plot(X_smooth,lin_reg.predict(X_smooth.reshape(-1,1)),color='r')\n",
    "        plt.scatter(X,Y)\n",
    "        plt.show()\n",
    "    \n",
    "    def support_Vector_Regression_demo(self,dataframe):\n",
    "        train_X = dataframe['x'].values.reshape(-1,1)\n",
    "        train_Y = dataframe['y'].values.reshape(-1,1)\n",
    "        train_X, test_X, train_Y, test_Y = train_test_split(train_X,train_Y,test_size=0.2,random_state=0)\n",
    "        \n",
    "        # Scaling\n",
    "        S_x = StandardScaler()\n",
    "        S_x.fit(train_X)\n",
    "        S_y = StandardScaler().fit(train_Y)\n",
    "        train_X = S_x.transform(train_X).reshape(-1,1)\n",
    "        train_Y= S_y.transform(train_Y).reshape(-1,1)\n",
<<<<<<< HEAD
    "         svr_obj = SVR(kernel='rbf') # by default its rbf only \n",
=======
    "        svr_obj = SVR(kernel='rbf') # by default its rbf only \n",
>>>>>>> 197d17b0b3928d1cabaab7e6a26f059feaab3348
    "        svr_obj.fit(train_X,train_Y)\n",
    "        Ypred = S_y.inverse_transform(svr_obj.predict(S_x.transform(test_X.reshape(-1,1))))\n",
    "        \n",
    "        file_name= 'SVR_bikes_predict.pkl'\n",
    "        file_obj = open(file_name,'wb')\n",
    "        \n",
    "        pickle.dump(svr_obj,file_obj)\n",
    "        file_obj.close()\n",
    "        \n",
    "        file_obj = open(file_name,'rb')\n",
    "        svr_obj = pickle.load(file_obj)\n",
    "        \n",
    "        Ypred = S_y.inverse_transform(svr_obj.predict(S_x.transform(test_X.reshape(-1,1))))\n",
    "        # Plotttings\n",
    "        self.plotter(train_X,train_Y,svr_obj,\"train point scatter vs predicted\")\n",
    "#         self.plotter(test_X,test_Y,svr_obj,\"Test vs predicted\")\n",
    "\n",
    "        # error calculations\n",
    "        mse = mean_squared_error(Ypred,test_Y)\n",
    "        mae = mean_absolute_error(Ypred,test_Y)\n",
    "        r_score = r2_score(Ypred,test_Y)\n",
    "        accuracy = r_score*100\n",
    "        print(\"Accuracy by r2 score is = {}\".format(accuracy))\n",
    "#         print(\"mae: {}, mse: {}, r2 score: {}\".format(mae,mse,r_score))\n",
    "    \n",
    "    def main(self,dataframe):\n",
    "        start = datetime.now()\n",
    "        self.support_Vector_Regression_demo(dataframe)\n",
    "        stop = datetime.now()\n",
    "        print(\"Time Taken to solve this SVR in microseconds\",(start-stop).microseconds)\n",
    "\n",
    "if __name__=='__main__':\n",
    "    svr_demo = Support_Vector_Regression()\n",
    "    svr_demo.main(dataframe)"
   ]
  },
  {
   "cell_type": "code",
   "execution_count": null,
   "metadata": {},
   "outputs": [],
   "source": []
  }
 ],
 "metadata": {
  "kernelspec": {
   "display_name": "Python 3",
   "language": "python",
   "name": "python3"
  },
  "language_info": {
   "codemirror_mode": {
    "name": "ipython",
    "version": 3
   },
   "file_extension": ".py",
   "mimetype": "text/x-python",
   "name": "python",
   "nbconvert_exporter": "python",
   "pygments_lexer": "ipython3",
<<<<<<< HEAD
   "version": "3.7.2"
=======
   "version": "3.7.1"
>>>>>>> 197d17b0b3928d1cabaab7e6a26f059feaab3348
  }
 },
 "nbformat": 4,
 "nbformat_minor": 2
}
