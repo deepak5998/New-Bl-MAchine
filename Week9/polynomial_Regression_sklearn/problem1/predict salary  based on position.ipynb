{
 "cells": [
  {
   "cell_type": "code",
   "execution_count": 44,
   "metadata": {},
   "outputs": [],
   "source": [
    "from sklearn.linear_model import LinearRegression\n",
    "from sklearn.preprocessing import *\n",
    "from sklearn.preprocessing import normalize as N\n",
    "import importlib.util\n",
    "import pandas as pd\n",
    "import numpy as np\n",
    "import matplotlib.pyplot as plt\n",
    "import seaborn as sns\n",
    "from sklearn.metrics import *\n",
    "from sklearn.model_selection import train_test_split"
   ]
  },
  {
   "cell_type": "code",
   "execution_count": 45,
   "metadata": {},
   "outputs": [
    {
     "name": "stdout",
     "output_type": "stream",
     "text": [
      "Data PreProcessign object created successfully\n"
     ]
    }
   ],
   "source": [
    "spec = importlib.util.spec_from_file_location(\"DataPreprocessing\", \"/home/admin1/PycharmProjects/Machine_learning_Python/Utility/DataPreprocessing.py\")\n",
    "foo = importlib.util.module_from_spec(spec)\n",
    "spec.loader.exec_module(foo)\n",
    "preprocess_obj = foo.DataPreprocessing()"
   ]
  },
  {
   "cell_type": "code",
   "execution_count": 46,
   "metadata": {},
   "outputs": [],
   "source": [
    "dataframe = pd.read_csv('Data/Position_Salaries.csv')"
   ]
  },
  {
   "cell_type": "code",
   "execution_count": 47,
   "metadata": {},
   "outputs": [
    {
     "data": {
      "text/html": [
       "<div>\n",
       "<style scoped>\n",
       "    .dataframe tbody tr th:only-of-type {\n",
       "        vertical-align: middle;\n",
       "    }\n",
       "\n",
       "    .dataframe tbody tr th {\n",
       "        vertical-align: top;\n",
       "    }\n",
       "\n",
       "    .dataframe thead th {\n",
       "        text-align: right;\n",
       "    }\n",
       "</style>\n",
       "<table border=\"1\" class=\"dataframe\">\n",
       "  <thead>\n",
       "    <tr style=\"text-align: right;\">\n",
       "      <th></th>\n",
       "      <th>Position</th>\n",
       "      <th>Level</th>\n",
       "      <th>Salary</th>\n",
       "    </tr>\n",
       "  </thead>\n",
       "  <tbody>\n",
       "    <tr>\n",
       "      <th>4</th>\n",
       "      <td>Country Manager</td>\n",
       "      <td>5</td>\n",
       "      <td>110000</td>\n",
       "    </tr>\n",
       "  </tbody>\n",
       "</table>\n",
       "</div>"
      ],
      "text/plain": [
       "          Position  Level  Salary\n",
       "4  Country Manager      5  110000"
      ]
     },
     "execution_count": 47,
     "metadata": {},
     "output_type": "execute_result"
    }
   ],
   "source": [
    "dataframe.sample()"
   ]
  },
  {
   "cell_type": "code",
   "execution_count": 48,
   "metadata": {},
   "outputs": [
    {
     "data": {
      "text/plain": [
       "Position    0\n",
       "Level       0\n",
       "Salary      0\n",
       "dtype: int64"
      ]
     },
     "execution_count": 48,
     "metadata": {},
     "output_type": "execute_result"
    }
   ],
   "source": [
    "dataframe.isnull().sum()"
   ]
  },
  {
   "cell_type": "code",
   "execution_count": 49,
   "metadata": {},
   "outputs": [
    {
     "data": {
      "text/plain": [
       "Position    10\n",
       "Level       10\n",
       "Salary      10\n",
       "dtype: int64"
      ]
     },
     "execution_count": 49,
     "metadata": {},
     "output_type": "execute_result"
    }
   ],
   "source": [
    "dataframe.nunique()"
   ]
  },
  {
   "cell_type": "code",
   "execution_count": 50,
   "metadata": {},
   "outputs": [
    {
     "name": "stdout",
     "output_type": "stream",
     "text": [
      "Polynomial Regression\n"
     ]
    },
    {
     "data": {
      "image/png": "iVBORw0KGgoAAAANSUhEUgAAAZMAAAEICAYAAACavRnhAAAABHNCSVQICAgIfAhkiAAAAAlwSFlzAAALEgAACxIB0t1+/AAAADl0RVh0U29mdHdhcmUAbWF0cGxvdGxpYiB2ZXJzaW9uIDMuMC4yLCBodHRwOi8vbWF0cGxvdGxpYi5vcmcvOIA7rQAAIABJREFUeJzt3XmYVNW19/HvYpJBkVFlUlCQQVCJ7WxMFAUkIiRRg/oqKobEa6Imxoi5MRqHaC43TnGKcY4DEoKAoiJCorkGh0ZUFEQaEWgmWxkUBGma9f6xd0vR9ERXd5+q7t/neeqpqn121V5VaK3ew9nH3B0REZF0NEg6ABERyX5KJiIikjYlExERSZuSiYiIpE3JRERE0qZkIiIiaVMykaxkZveZ2TXV9F7Xmdnj1fFedYWZfWJmJ8XHvzGzB2qhze+aWX5NtyM1o1HSAUj9Y2afABe5+8tVfQ93/2n1RVR5ZvYIkO/uv02i/SS4+x8qU68+fjeynXomknHMTH/kVCN9n1IblEykVpnZ34B9gWfNbIOZ/drMupqZm9koM1sKzIx1/25mq8xsvZm9amYHpbzPI2Z2Y3z8XTPLN7MrzOxTM1tpZheUE0M3M3vFzL40s+lAuxLHS23XzEYD5wC/jrE/G8vHmNmi+H7zzOz7ZbTb0cw2mVmblLL+ZvaZmTU2s+4xrvWx7Oky3qf4+xptZivi570i5fh1ZjbBzB43sy+A882sQUqcn5vZ+BJxnGtmS+Kx/y7R3g7DgGZ2nJn9x8zWmdkyMzu/nO+mo5n9w8wKzGyxmV2a8j7N4r/jWjObBxxe1r+ZZD4lE6lV7n4usBQY6u67u/v/pBz+DtAbGBSfvwD0APYC3gaeKOet9wH2BDoBo4C7zax1GXWfBGYTksgNwMgSx0tt193vj4//J8Y+NNZfBHw7tv974HEz61DKZ18BzAJ+mFJ8NjDB3QtjLC8BrYHOwJ/L+bwAJ8Q4BwJjiuc4omHABKBVjPlSYDjhO+4IrAXuBjCzPsC9wLnxWNvY/k7MbN/4/fwZaA8cCrxT2ndjZg2AZ4F3Cf8uA4DLzaz43/da4IB4G8TO/w6SRZRMJJNc5+4b3X0TgLs/5O5fuvvXwHXAIWa2ZxmvLQSud/dCd38e2AD0LFkp/hgeDlzj7l+7+6uEH7xv7GK7uPvf3X2Fu29z96eBhcARZVR/EjgrxmLAiFhW/Bn2Azq6+2Z3/7+y2ox+H7+vucDDxe8bzXL3STGmTcBPgP929/yUz3V6HAI7HXjO3V+Nx64BtpXR5jnAy+7+VPyuP3f3d8qoezjQ3t2vd/ct7v4x8Nf4mQHOBG5y9zXuvgy4s4LPKxlMyUQyybLiB2bW0MxuicMyXwCfxEPtSn0lfO7uW1OefwXsXkq9jsBad9+YUrYkjXYxs/PM7J047LMO6FtO/QnA0WbWETgecODf8divAQPeNLMPzOzCstqMlqU8XhI/W2nHICSpZ1JinA8UAXvH131TP343n5fRZhdCT6wy9gM6FrcZ2/1NbJOS7ZLy7yDZRxNzkoSytqpOLT+bMFRzEuEHfU/C0Iyl2fZKoLWZtUhJKPumtF1RuzvEbmb7Ef7aHkDoDRSZ2Ttlxenu68zsJcJf5b2Bpzxu3e3uq4Afx/c9DnjZzF5197wyPksX4MOUz7AitakSdZcBF7r7ayXfxMxWxliKnzcnDHWVZhll97pKa3Oxu/coo/5Kwmf4ID7ft4x6kgXUM5EkrAb2r6DOHsDXhL+QmwOVWp5aEXdfAuQCvzezJvFHe2hKlYraLRl7C8KPaAFAnPjvW0EYTwLnEeZOioe4MLMzzKx4rmJtfN+ict7nGjNrHhcIXACUOmEf3QfcFJMfZtbezIbFYxOAU+PEehPgesr+bXgCOMnMzjSzRmbW1swOjcdKfjdvAl+Y2VVxsr2hmfU1s+KJ9vHA1WbWOn7un5cTv2Q4JRNJws3Ab+PQx6/KqPMYYdhjOTAPeL0a2z8bOBJYQ5gEfmwX2n0Q6BNjn+Tu84A/ESbWVwP9gJ3++i9hCmHifLW7v5tSfjjwhpltiHUuc/fF5bzPK0AeMAP4X3d/qZy6d8T3fMnMvoyf60gAd/8AuISQ2FYSElmpJw+6+1JgCHAF4ft7BzgkHi753RQREvWhwGLgM+ABQm8PwmKFJfHYS8DfyolfMpzp4lgi2cXMuhJ+gBuXmCcSSYx6JiIikjYlExERSZuGuUREJG3qmYiISNrqzXkm7dq1865duyYdhohIVpk9e/Zn7t6+onr1Jpl07dqV3NzcpMMQEckqZlapnQk0zCUiImlTMhERkbQpmYiISNqUTEREJG1KJiIikjYlExERSZuSiYiIpE3JRERE0lZhMjGzh8zsUzN7P6WsjZlNN7OF8b51LDczu9PM8szsPTP7VsprRsb6C81sZEr5YWY2N77mznhd7Cq1ISJS302as5xjb5lJtzFTOfaWmUyas7xW2q1Mz+QRYHCJsjHAjHg5zhnxOcAphIv+9ABGA/dCSAyEixAdSbjk57XFySHWGZ3yusFVaUNEpL6bNGc5V0+cy/J1m3Bg+bpNXD1xbq0klAqTibu/SriiWqphwKPx8aPA8JTyxzx4HWhlZh2AQcB0d1/j7muB6cDgeKylu8+K18F+rMR77UobIiL12thpC9hUuOOVnjcVFjF22oIab7uqcyZ7u/tKgHi/VyzvBCxLqZcfy8orzy+lvCpt7MTMRptZrpnlFhQU7NIHFBHJNivWbdql8upU3RPwVkqZV6G8Km3sXOh+v7vnuHtO+/YVbnopIpLVOrZqtkvl1amqyWR18dBSvP80lucDXVLqdQZWVFDeuZTyqrQhIlKvXTmoJ80aN9yhrFnjhlw5qGeNt13VZDIFKF6RNRKYnFJ+XlxxdRSwPg5RTQMGmlnrOPE+EJgWj31pZkfFVVznlXivXWlDRKReG96/Ezf/oB+dWjXDgE6tmnHzD/oxvH+pMwHVqsLrmZjZU8B3gXZmlk9YlXULMN7MRgFLgTNi9eeBIUAe8BVwAYC7rzGzG4C3Yr3r3b14Uv9iwoqxZsAL8cautiEiIiGh1EbyKKneXAM+JyfHdXEsEZFdY2az3T2nono6A15ERNKmZCIiImlTMhERkbQpmYiISNqUTEREst2GDfD225DggiolExGRbPf883DYYTBrVmIhKJmIiGS7yZOhfXs48sjEQlAyERHJZoWFMHUqDB0KDRtWXL+GKJmIiGSzV16B9eth2LBEw1AyERHJZpMmQfPmcPLJiYahZCIikq3cw3zJwIHQrOa3mS+PkomISLZ6+23Iz098iAuUTEREstfkydCgAZx6atKRKJmIiGStSZPguOOgXbukI1EyERHJSh9/DHPnwvDhSUcCKJmIiGSnyfHisxkwXwJKJiIi2WniROjXD/bfP+lIACUTEZHss3IlvPYanH560pF8Q8lERCTbPPNMOMdEyURERKpswgTo1Qv69Ek6km8omYiIZJOCgrAfVwb1SkDJREQku0yaBNu2KZmIiEgaJkyA7t3h4IOTjmQHSiYiItni889hxozQKzFLOpodKJmIiGSLKVOgqAh++MOkI9mJkomISLaYMAH22y9c7z3DKJmIiGSDtWth+vSMHOICJRMRkewwcWK43vuIEUlHUiolExGRbDBuHBxwQEYOcYGSiYhI5lu1CmbOhLPOysghLlAyERHJfBMmhBMVM3SIC9JMJmb2CzP7wMzeN7OnzKypmXUzszfMbKGZPW1mTWLd3eLzvHi8a8r7XB3LF5jZoJTywbEsz8zGpJSX2oaISJ00blzYbv6gg5KOpExVTiZm1gm4FMhx975AQ2AE8EfgNnfvAawFRsWXjALWunt34LZYDzPrE193EDAYuMfMGppZQ+Bu4BSgD3BWrEs5bYiI1C1Ll4bt5jO4VwLpD3M1ApqZWSOgObASOBGYEI8/ChRfU3JYfE48PsDMLJaPc/ev3X0xkAccEW957v6xu28BxgHD4mvKakNEpG55+ulwX1eTibsvB/4XWEpIIuuB2cA6d98aq+UDneLjTsCy+NqtsX7b1PISrymrvG05bezAzEabWa6Z5RYUFFT1o4qIJOepp+CIIzLmioplSWeYqzWhV9EN6Ai0IAxJleTFLynjWHWV71zofr+757h7Tvv27UurIiKSuRYsgDlzwiquDJfOMNdJwGJ3L3D3QmAicAzQKg57AXQGVsTH+UAXgHh8T2BNanmJ15RV/lk5bYiI1B2PPw4NGsCZZyYdSYXSSSZLgaPMrHmcxxgAzAP+CRRvtD8SmBwfT4nPicdnurvH8hFxtVc3oAfwJvAW0COu3GpCmKSfEl9TVhsiInXDtm0hmQwYAB07Jh1NhdKZM3mDMAn+NjA3vtf9wFXAL80sjzC/8WB8yYNA21j+S2BMfJ8PgPGERPQicIm7F8U5kZ8B04D5wPhYl3LaEBGpG157DT75BM47L+lIKsXCH/p1X05Ojufm5iYdhohI5YweDU8+CatXQ4sWiYVhZrPdPaeiejoDXkQk02zeDOPHww9+kGgi2RVKJiIimebZZ2H9+qwZ4gIlExGRzPO3v4VJ9xNOSDqSSlMyERHJJAUF8MILcM450LBh0tFUmpKJiEgmGTcOtm6Fc89NOpJdomQiIpJJHn4YDj007BKcRZRMREQyxZw54TYq+zZCVzIREckUDz0Eu+0GZ5+ddCS7TMlERCQTbN4MTzwB3/8+tGmTdDS7TMlERCQTTJoEa9dm5RAXKJmIiGSGhx6C/faDE09MOpIqUTIREUnakiXw8stwwQVhy/kslJ1Ri4jUJY88Eu7PPz/JKNKiZCIikqSionBuyYABYZgrSymZiIgkadq0MMw1enTSkaRFyUREJEn33gt77w3DhiUdSVqUTEREkrJkCUydChddBE2aJB1NWpRMRESS8sAD4f7HP042jmqgZCIikoTCwpBMhgzJ6on3YkomIiJJmDwZVq2Ciy9OOpJqoWQiIpKE++6DffeFwYOTjqRaKJmIiNS2jz6CGTPCcuAsuppieZRMRERq2113QePGYRVXHaFkIiJSm9avD2e8jxgRzi+pI5RMRERq0yOPwIYNcNllSUdSrZRMRERqS1ER/PnPcMwxcNhhSUdTrZRMRERqywsvwKJFda5XAkomIiK15447oFOncGneOkbJRESkNsybFy6A9V//FVZy1TFKJiIiteH222G33bJ+q/myKJmIiNS01avhscdg5Eho1y7paGpEWsnEzFqZ2QQz+9DM5pvZ0WbWxsymm9nCeN861jUzu9PM8szsPTP7Vsr7jIz1F5rZyJTyw8xsbnzNnWZmsbzUNkREMtJdd8GWLXDFFUlHUmPS7ZncAbzo7r2AQ4D5wBhghrv3AGbE5wCnAD3ibTRwL4TEAFwLHAkcAVybkhzujXWLX1e8iU1ZbYiIZJaNG+Gee8LFrw48MOloakyVk4mZtQSOBx4EcPct7r4OGAY8Gqs9CgyPj4cBj3nwOtDKzDoAg4Dp7r7G3dcC04HB8VhLd5/l7g48VuK9SmtDRCSzPPQQrFkDV16ZdCQ1Kp2eyf5AAfCwmc0xswfMrAWwt7uvBIj3e8X6nYBlKa/Pj2XlleeXUk45bezAzEabWa6Z5RYUFFT9k4qIVMXWrXDrreEkxWOOSTqaGpVOMmkEfAu41937Axspf7jJSinzKpRXmrvf7+457p7Tvn37XXmpiEj6/vEP+OSTOt8rgfSSST6Q7+5vxOcTCMlldRyiIt5/mlK/S8rrOwMrKijvXEo55bQhIpIZ3GHs2DBPctppSUdT46qcTNx9FbDMzHrGogHAPGAKULwiayQwOT6eApwXV3UdBayPQ1TTgIFm1jpOvA8EpsVjX5rZUXEV13kl3qu0NkREMsO0aTB7Nvz619Cg7p+F0SjN1/8ceMLMmgAfAxcQEtR4MxsFLAXOiHWfB4YAecBXsS7uvsbMbgDeivWud/c18fHFwCNAM+CFeAO4pYw2RESS5w433BCupHjuuUlHUyssLJSq+3Jycjw3NzfpMESkPvjXv+CEE+Duu8P2KVnMzGa7e05F9ep+30tEpLbdeCPssw9ceGHSkdSadIe5REQk1axZ4fruf/oTNG2adDS1Rj0TEZHqdNNN0LYt/OQnSUdSq5RMRESqy+zZMHUq/OIX0KJF0tHUKiUTEZHqcs010KYN/PznSUdS65RMRESqw3/+Ey7Le9VV0LJl0tHUOiUTEZHqcM01sNdecMklSUeSCK3mEhFJ18yZ4Xb77fVurqSYeiYiIulwD72STp3q3QquVOqZiIik48UXw3zJfffVq/NKSlLPRESkqoqKYMwY2H9/uOCCpKNJlHomIiJV9fjj8N57MG4cNGmSdDSJUs9ERKQqNm2C3/4WDj8czjwz6WgSp56JiEhV3Hkn5OeH3omVdmHY+kU9ExGRXfXZZ/CHP8DQofCd7yQdTUZQMhER2VU33ggbNsAttyQdScZQMhER2RXz54eLXl10EfTpk3Q0GUPJRESksty37wh8441JR5NRNAEvIlJZzz0H06bBbbdB+/ZJR5NR1DMREamMr78OvZLevevtZo7lUc9ERKQybrsNFi2Cl16Cxo2TjibjqGciIlKR/PwwRzJsGJx8ctLRZCQlExGRilx2WdiH69Zbk44kY2mYS0SkPM89BxMnhpMU998/6WgylnomIiJl2bgxTLb36QNXXJF0NBlNPRMRkbL8/vewdCn8+9/1flfgiqhnIiJSmvfeC3Mko0bBccclHU3GUzIRESlp61a48EJo0wb++Meko8kKGuYSESlp7FiYPRvGj4e2bZOOJiuoZyIikmrePLjuOjj9dDjjjKSjyRpKJiIixbZuDddy32OPsDOwVJqGuUREit16K7z5Jjz1FOy1V9LRZJW0eyZm1tDM5pjZc/F5NzN7w8wWmtnTZtYklu8Wn+fF411T3uPqWL7AzAallA+OZXlmNialvNQ2RESq7N134Zpr4Pvfhx/9KOlosk51DHNdBsxPef5H4DZ37wGsBUbF8lHAWnfvDtwW62FmfYARwEHAYOCemKAaAncDpwB9gLNi3fLaEBHZdZs2wdlnh9Vb99+va7pXQVrJxMw6A98DHojPDTgRmBCrPAoMj4+HxefE4wNi/WHAOHf/2t0XA3nAEfGW5+4fu/sWYBwwrII2RER23VVXhYn3Rx+Fdu2SjiYrpdszuR34NbAtPm8LrHP3rfF5PtApPu4ELAOIx9fH+t+Ul3hNWeXltbEDMxttZrlmlltQUFDVzygiddkLL8Cf/xw2cxw4MOloslaVk4mZnQp86u6zU4tLqeoVHKuu8p0L3e939xx3z2mvq6KJSEmrV4fVW337wi23JB1NVktnNdexwGlmNgRoCrQk9FRamVmj2HPoDKyI9fOBLkC+mTUC9gTWpJQXS31NaeWfldOGiEjlFBWFeZL162H6dGjaNOmIslqVeybufrW7d3b3roQJ9Jnufg7wT+D0WG0kMDk+nhKfE4/PdHeP5SPiaq9uQA/gTeAtoEdcudUktjElvqasNkREKuf662HmTLjnHujXL+losl5NnLR4FfBLM8sjzG88GMsfBNrG8l8CYwDc/QNgPDAPeBG4xN2LYq/jZ8A0wmqx8bFueW2IiFRs+nS44QY4//wwzCVps/CHft2Xk5Pjubm5SYchIklbvhz694e994Y33oDmzZOOKKOZ2Wx3z6monrZTEZH6Y/Nm+OEPw3klf/+7Ekk10nYqIlI/uMNPfxp6I888A716JR1RnaKeiYjUD3feGU5KvPZaGK7znKubkomI1H0zZoRruA8fDr/7XdLR1ElKJiJSt82fH65N0qsXPPYYNNDPXk3QtyoiddeqVXDKKbDbbvDcc+E6JVIjNAEvInXTxo0wdCgUFMArr0DXrklHVKcpmYhI3bN1a9gq5e23YdIkyKnwNAlJk5KJiNQt27bBRRfBlClw112hdyI1TnMmIlJ3uMMvfxmWAF93HVxySdIR1RtKJiJSd1x/PdxxR7g2iZYA1yolExHJepPmLOeuIT+F665j6mGDmHTuFbr0bi3TnImIZLVJc5az8MpruXLGgzzX69tcduJ/0WTSB9CgAcP7l3oRVqkB6pmISFZb/pvfc+WMB3m217e5bOivKGrQkE2FRYydtiDp0OoV9UxEJHvdfDOXvPhXpvQ+nl+cegVFDRp+c2jFuk0JBlb/KJmISPZxh6uugrFjeemQAfxi4KU7JBKAjq2aJRRc/aRhLhHJLlu3hvNIxo6FSy7hqwcfpsluTXao0qxxQ64c1DOhAOsn9UxEJHt89RWcc044q/13v4PrrmO4GTRowNhpC1ixbhMdWzXjykE9Nfley5RMRCQ7rF4Np50Gb70VziW59NJvDg3v30nJI2FKJiKS+ebNgyFD4NNPYeJEXdwqA2nOREQy2wsvwDHHwNdfw6uvKpFkKCUTEclM27bBTTfB974Xto9/4w3t/pvBNMwlIpnniy9g5Mgw0X7OOXD//dC8edJRSTnUMxGRzPL223DYYfDss3DbbfC3vymRZAElExHJDO5hldbRR8OmTTBzJlx+uTZszBJKJiKSvFWrwrLfyy+HQYPg3Xfh+OOTjkp2gZKJiCTr73+Hvn1h+nS4/XaYPBnatk06KtlFSiYikoyCAhgxAs48E/bfH+bMCRe10rBWVlIyEZHa5Q4PPQS9eoUTEG+8Ef7zH+jdO+nIJA1aGiwitWfePLj44nDy4XHHwV/+An36JB2VVAP1TESk5q1dG4awDj4Y5s6Fv/4VXnlFiaQOqXIyMbMuZvZPM5tvZh+Y2WWxvI2ZTTezhfG+dSw3M7vTzPLM7D0z+1bKe42M9Rea2ciU8sPMbG58zZ1mYTC1rDZEpPZNmrOcY2+ZSbcxUzn2lplMmrN8+8EtW+Duu6FHD7jrLhg9Gj76KGwh30B/y9Yl6fxrbgWucPfewFHAJWbWBxgDzHD3HsCM+BzgFKBHvI0G7oWQGIBrgSOBI4BrU5LDvbFu8esGx/Ky2hCRWjRpznKunjiX5es24cDydZu4euJcJs1eBk8+GeZBfvYz6NcvTLDfcw+0a5d02FIDqpxM3H2lu78dH38JzAc6AcOAR2O1R4HiXdmGAY958DrQysw6AIOA6e6+xt3XAtOBwfFYS3ef5e4OPFbivUprQ0Rq0dhpC9hUWPTNc/NtHP/+vzlo6AlhG5Q99oDnnw8nIB58cIKRSk2rlgl4M+sK9AfeAPZ295UQEo6Z7RWrdQKWpbwsP5aVV55fSjnltFEyrtGEng377rtvFT+diJSl+DrrDbYV8b0P/4+fzXqanp8tZXHrjqFn8qMfaTirnkg7mZjZ7sA/gMvd/Qsre414aQe8CuWV5u73A/cD5OTk7NJrRaRiBzSDY//vWS7Mncx+61bxUdt9uXTor5hz1ED+fdbJSYcntSitZGJmjQmJ5Al3nxiLV5tZh9hj6AB8GsvzgS4pL+8MrIjl3y1R/q9Y3rmU+uW1ISK1YfFiuO8+nr/3LzT5cj2zO/bi5u9ewLQDj6Zpk8bcfIpWadU36azmMuBBYL6735pyaApQvCJrJDA5pfy8uKrrKGB9HKqaBgw0s9Zx4n0gMC0e+9LMjoptnVfivUprQ0RqytatYSffIUPggAPgT3+iycCTeOXhyVz687uZ1vNYOrZuwc0/6KdL6NZD6fRMjgXOBeaa2Tux7DfALcB4MxsFLAXOiMeeB4YAecBXwAUA7r7GzG4A3or1rnf3NfHxxcAjQDPghXijnDZEpLrNmwePPBK2gl+1Cjp0gGuugR//GDp35jvAa0nHKImzsFCq7svJyfHc3NykwxDJDkuXwtNPw7hx4foijRqFKx6ef364b9w46QillpjZbHev8BKX2k5FRIJFi+CZZ8J+WbNmhbIjjoBbbw3LfPcqddGkCKBkIpLVJs1ZzthpC1ixbhMdWzXjykE9Kz9fsXUrvP46TJ0abnPnhvL+/cPmiyNGhLkRkUpQMhHJUsVnnxefNFh89jlQdkL5+GN4+eVw7ZAZM8KeWY0ahU0Xb7sNhg+Hrl1r6RNIXaJkIpKlSp59DrCpsIix0xaEZOIekscrr2y/LVkSKnbuHBLHkCFw8smw554JfAKpS5RMRLJU8dnnxZpt2Uzf1Xn0f+MjePOucI2Q1avDwXbtwmVwf/WrkDwOPFAXoZJqpWQiko02bmTg+o/ZO+8D+q5eRL9VeRz42VIa+rZwvHv3cC31o48OSaR3byUPqVFKJiKZrKgoDFW9/364vfsuvPce5OXxl7is//NmLXl/n+681ONo5nfpxWk/HsaQAYckHLjUN0omIplg82ZYuBAWLID587ffPvwwHIPQszjggLD77jnnQP/+vNikAzfM+YIV6zd/s5priM4+lwQomYjUlsLCMAG+cOGOt48+gk8+CRPmxbp2DUNTAwZA375w0EHh+e677/CWg4HBgxFJnJKJSBWVeo7Hga3CsNSiRTvfPvkkDFsV22OPMBF+5JFw3nnQqxf07BnKWrRI7HOJVIWSiciu2LYNVq3i3y+8zuuTX+PMz1fSZf0q9l23iv1uXAUb1+5Yv1WrMDR12GHh2h49eoTJ8R49whnlmhSXOkLJRKSkTZvCFuvFPYzU+8WLYfNmvg18GyiyBqzcox1LW+3DjAMOZ/0+nfnJhQNh//1DEmnTJulPI1IrlEykfvryS8jL235btGj7fX7+jnV33z0kh169wiaH3box8l+fsaTVPizfcy8KG27f9NCAn/zoe7X7WUQygJKJ1F1ffRUSxEcfhVvxhHde3vaT+Yrts0/oSZx4YrhPvbVrt9NwVN4XM1le4qRBgI6tmtXkJxLJWEomkt3cQ0/iww/DbcGC7bdly3as26FDmKs49dTtcxfdu4eEUWKVVEWuHNRzh32xAJo1bsiVg3pWx6cSyTpKJpIdCgvDENS8eTB/Pstem83G9z6gy6dLaVG4eXu9li3Diqjjj9++MurAA0Py2MWEUZ7ijRSrvGOvSB2jZCKZpbAwDEN98MH227x5YZiqsPCbag1btufTNp35z8EDWdS2M8v22o+zzjuZU046tNZWSA3v30nJQyRSMpFkbNsWzrso3iak+LZgAWzZEuqYhYmKKecVAAAG2UlEQVTvPn1g6NBw37s3J01dTd7O0xUsmr2WU07WUluRJCiZSM0rKAgXXnrvvZAw5s4NPY6NG7fX2Xdf6NcvbIl+0EHh1qsXNG++09stmjC11GZK7qIrIrVHyUSqz6ZNYUhq7tztyWPu3B1XTrVvH5LGqFFhm5B+/UKPo2XLSjfTsVUzraQSyTBKJrLriorCZHhx0ijubeTlheErgKZNQ+/ilFPCxoT9+oXb3nun3bxWUolkHiWTLJLW9b6rYts2WLp0x8nw998PvY/UnWy7dw+J4qyzwn3fvqGsYcMaCUsrqUQyj3nqTqV1WE5Ojufm5lb59bX+Q15K+6X9NX7zD/qlH8fWrWGrkA8/3L71eVyCy4YN2+t17Lg9WRx00PYhqlLmNUSkbjCz2e6eU1E99UwqofiH/NC8OQz4bAnvdOzJ774Ik8e1lVAqvN53RbZtgxUrtm8fUnxW+Ecfhecpy27p2DEkiQsvDPd9+4b71q2r+VOJSF2hZFIJxT/kAxfO4oLZzwLwdcPGLHy8O5zy7e0TyQceGLblaNCg2mMoa6XSN+WFhbByZTgbfOnScFuyJGxMuHhxWIa7OeXkviZNwol8vXrBaaeFa2X06hVue+5Z7fGLSN2mYa5K6DZmKg7gTocvP6P/igUcumIBh6xayJEblsPalG3HmzaFbt1gv/3C9h0dOoRJ5zZtwnbkrVqFa1U0bRpujRuHeYfiE+0KC8N5Flu2hL2lNm6EDRu47vFZFK1Zw56bN9Bq05e02fQF7TauY5+vv+TAoi/C8tuS/5atWoVYim/F24d07w5dutTYnIaI1B0a5qpG3yxFNWNly/asbNme53sdR6dWzXjtqhNCj+D998NwUfE25UuWhBVOq1bteEGkKrou5fHGxk35vPmerN29FS27d4Xe+4ehqY4doVOnkMi6dNml5bYiIulQMqmEcpeimm3/IR84cOcXb9sGn38O69aF29q1ocexeXO4FRaGHkVxr6Jx4zAE1bhx6MHsvnu4b9mS5/M388dZq1i6Yes3iwAO0QomEckASiaVkNZS1AYNwol67dunHceQnjBkwCFpv4+ISHVTMqkkbeonIlK26l92JCIi9U7WJhMzG2xmC8wsz8zGJB2PiEh9lpXJxMwaAncDpwB9gLPMrE+yUYmI1F9ZmUyAI4A8d//Y3bcA44BhCcckIlJvZWsy6QSkXuA7P5btwMxGm1mumeUWFBTUWnAiIvVNtiaT0i6nt9Op/O5+v7vnuHtO+2pYmisiIqXL1mSSD3RJed4ZWJFQLCIi9V62JpO3gB5m1s3MmgAjgCkJxyQiUm9l7UaPZjYEuB1oCDzk7jdVUL8AWFIbsdWCdsBnSQeRIfRdBPoeAn0P21XXd7Gfu1c4T5C1yaQ+M7PcyuziWR/ouwj0PQT6Hrar7e8iW4e5REQkgyiZiIhI2pRMstP9SQeQQfRdBPoeAn0P29Xqd6E5ExERSZt6JiIikjYlExERSZuSSRYxsy5m9k8zm29mH5jZZUnHlCQza2hmc8zsuaRjSZKZtTKzCWb2Yfxv4+ikY0qCmf0i/n/xvpk9ZWZNk46ptpjZQ2b2qZm9n1LWxsymm9nCeN+6JmNQMskuW4Er3L03cBRwST3fev8yYH7SQWSAO4AX3b0XcAj18Dsxs07ApUCOu/clnMw8ItmoatUjwOASZWOAGe7eA5gRn9cYJZMs4u4r3f3t+PhLwo9GvbyWsJl1Br4HPJB0LEkys5bA8cCDAO6+xd3XJRtVYhoBzcysEdCcerRfn7u/CqwpUTwMeDQ+fhQYXpMxKJlkKTPrCvQH3kg2ksTcDvwa2JZ0IAnbHygAHo5Dfg+YWYukg6pt7r4c+F9gKbASWO/uLyUbVeL2dveVEP4QBfaqycaUTLKQme0O/AO43N2/SDqe2mZmpwKfuvvspGPJAI2AbwH3unt/YCM1PJyRieJ8wDCgG9ARaGFm/y/ZqOoXJZMsY2aNCYnkCXefmHQ8CTkWOM3MPiFcZfNEM3s82ZASkw/ku3txD3UCIbnUNycBi929wN0LgYnAMQnHlLTVZtYBIN5/WpONKZlkETMzwtj4fHe/Nel4kuLuV7t7Z3fvSphknenu9fKvUHdfBSwzs56xaAAwL8GQkrIUOMrMmsf/TwZQDxcilDAFGBkfjwQm12RjjWryzaXaHQucC8w1s3di2W/c/fkEY5Lk/Rx4Il7b52PggoTjqXXu/oaZTQDeJqx6nEM92lrFzJ4Cvgu0M7N84FrgFmC8mY0iJNszajQGbaciIiLp0jCXiIikTclERETSpmQiIiJpUzIREZG0KZmIiEjalExERCRtSiYiIpK2/w/J0hbFsUafQQAAAABJRU5ErkJggg==\n",
      "text/plain": [
       "<Figure size 432x288 with 1 Axes>"
      ]
     },
     "metadata": {
      "needs_background": "light"
     },
     "output_type": "display_data"
    },
    {
     "data": {
      "image/png": "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\n",
      "text/plain": [
       "<Figure size 432x288 with 1 Axes>"
      ]
     },
     "metadata": {
      "needs_background": "light"
     },
     "output_type": "display_data"
    },
    {
     "name": "stdout",
     "output_type": "stream",
     "text": [
      "Accuracy using r2 score is 97.53995839802164 %\n"
     ]
    }
   ],
   "source": [
    "class polynomial_Regression:\n",
    "    \n",
    "    def __init__(self):\n",
    "        self.degree = 4\n",
    "        print(\"Polynomial Regression\")\n",
    "        \n",
    "    def plotter(self,X,Y,lin_reg,poly_reg,plot_title):\n",
    "        # smoothening the plot so that we can see a smooth curve so getting points with difference 0.1\n",
    "        X_smooth = np.arange(X.min(),X.max(),0.1)\n",
    "        plt.title(plot_title)\n",
    "        plt.plot(X_smooth,lin_reg.predict(poly_reg.fit_transform(X_smooth.reshape(-1,1))),color='r')\n",
    "        plt.scatter(X,Y)\n",
    "        plt.show()\n",
    "    \n",
    "    def polynomial_Regression_demo(self,dataframe):\n",
    "        # creating Linear regression object\n",
    "        lin_reg = LinearRegression(normalize=True)\n",
    "        # creating Poynomial Feature regression object with degree\n",
    "        # degree tells till which power of x you need values eg. x^3 or x^4\n",
    "        poly_reg = PolynomialFeatures(degree=self.degree)\n",
    "        # Splitting independent variables and the output variables\n",
    "        train_data = dataframe['Level'].values\n",
    "        train_Y = dataframe['Salary'].values\n",
    "        # spilling train and test data\n",
    "        train_data, test_data, train_Y, test_Y = train_test_split(train_data,train_Y, test_size=0.2,random_state=0)\n",
    "        # geting the values of x till the degree provided\n",
    "        train_poly = poly_reg.fit_transform(train_data.reshape(-1,1))\n",
    "        # fitting linear regression model\n",
    "        lin_reg.fit(train_poly,train_Y)\n",
    "        # predicting the values on basis of our input data\n",
    "        Ypred = lin_reg.predict(poly_reg.fit_transform(test_data.reshape(-1,1)))\n",
    "        lin_reg.fit(train_poly,train_Y)\n",
    "        Ypred = lin_reg.predict(poly_reg.fit_transform(test_data.reshape(-1,1)))\n",
    "        accuracy = r2_score(Ypred,test_Y)*100\n",
    "        \n",
    "        # plotting the graphs\n",
    "        self.plotter(train_data,train_Y,lin_reg,poly_reg,'train data vs predicted')\n",
    "        self.plotter(test_data,test_Y,lin_reg,poly_reg,'test data vs predicted')\n",
    "        print(\"Accuracy using r2 score is {} %\".format(accuracy))\n",
    "        \n",
    "    def main(self,dataframe):\n",
    "        try:\n",
    "            self.polynomial_Regression_demo(dataframe)\n",
    "        except Exception as e:\n",
    "            print(\"Process stopped because \",e)\n",
    "\n",
    "if __name__ == '__main__':\n",
    "    poly_class_obj = polynomial_Regression()\n",
    "    poly_class_obj.main(dataframe)"
   ]
  }
 ],
 "metadata": {
  "kernelspec": {
   "display_name": "Python 3",
   "language": "python",
   "name": "python3"
  },
  "language_info": {
   "codemirror_mode": {
    "name": "ipython",
    "version": 3
   },
   "file_extension": ".py",
   "mimetype": "text/x-python",
   "name": "python",
   "nbconvert_exporter": "python",
   "pygments_lexer": "ipython3",
<<<<<<< HEAD
   "version": "3.7.2"
=======
   "version": "3.7.1"
>>>>>>> 197d17b0b3928d1cabaab7e6a26f059feaab3348
  }
 },
 "nbformat": 4,
 "nbformat_minor": 2
}
