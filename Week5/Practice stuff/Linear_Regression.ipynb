{
 "cells": [
  {
   "cell_type": "code",
<<<<<<< HEAD
   "execution_count": 33,
=======
   "execution_count": 782,
>>>>>>> master
   "metadata": {
    "colab": {
     "base_uri": "https://localhost:8080/",
     "height": 108,
     "resources": {
      "http://localhost:8080/nbextensions/google.colab/files.js": {
       "data": "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",
       "headers": [
        [
         "content-type",
         "application/javascript"
        ]
       ],
       "ok": true,
       "status": 200,
       "status_text": ""
      }
     }
    },
    "colab_type": "code",
    "id": "ici8rsyDiNm7",
    "outputId": "5a9db136-1b02-4bde-b8a1-c065e61e1108"
   },
   "outputs": [],
   "source": [
    "import matplotlib.pyplot as plt\n",
    "import pandas as pd\n",
    "import numpy as np\n",
    "# from google.colab import files\n",
    "# uploaded = files.upload()\n",
    "import seaborn as sns\n",
    "%matplotlib inline"
   ]
  },
  {
   "cell_type": "code",
<<<<<<< HEAD
   "execution_count": 34,
=======
   "execution_count": 783,
>>>>>>> master
   "metadata": {
    "colab": {
     "base_uri": "https://localhost:8080/",
     "height": 195
    },
    "colab_type": "code",
    "id": "qyE38i7FiNnG",
    "outputId": "c07e1cc7-20ce-4f7e-8229-60ee75998437"
   },
   "outputs": [
    {
     "data": {
      "text/html": [
       "<div>\n",
       "<style scoped>\n",
       "    .dataframe tbody tr th:only-of-type {\n",
       "        vertical-align: middle;\n",
       "    }\n",
       "\n",
       "    .dataframe tbody tr th {\n",
       "        vertical-align: top;\n",
       "    }\n",
       "\n",
       "    .dataframe thead th {\n",
       "        text-align: right;\n",
       "    }\n",
       "</style>\n",
       "<table border=\"1\" class=\"dataframe\">\n",
       "  <thead>\n",
       "    <tr style=\"text-align: right;\">\n",
       "      <th></th>\n",
       "      <th>x</th>\n",
       "      <th>y</th>\n",
       "    </tr>\n",
       "  </thead>\n",
       "  <tbody>\n",
       "    <tr>\n",
       "      <th>0</th>\n",
       "      <td>24</td>\n",
       "      <td>21.549452</td>\n",
       "    </tr>\n",
       "    <tr>\n",
       "      <th>1</th>\n",
       "      <td>50</td>\n",
       "      <td>47.464463</td>\n",
       "    </tr>\n",
       "    <tr>\n",
       "      <th>2</th>\n",
       "      <td>15</td>\n",
       "      <td>17.218656</td>\n",
       "    </tr>\n",
       "    <tr>\n",
       "      <th>3</th>\n",
       "      <td>38</td>\n",
       "      <td>36.586398</td>\n",
       "    </tr>\n",
       "    <tr>\n",
       "      <th>4</th>\n",
       "      <td>87</td>\n",
       "      <td>87.288984</td>\n",
       "    </tr>\n",
       "  </tbody>\n",
       "</table>\n",
       "</div>"
      ],
      "text/plain": [
       "    x          y\n",
       "0  24  21.549452\n",
       "1  50  47.464463\n",
       "2  15  17.218656\n",
       "3  38  36.586398\n",
       "4  87  87.288984"
      ]
     },
<<<<<<< HEAD
     "execution_count": 34,
=======
     "execution_count": 783,
>>>>>>> master
     "metadata": {},
     "output_type": "execute_result"
    }
   ],
   "source": [
    "import io\n",
    "# dataframe = pd.read_csv(io.BytesIO(uploaded['train.csv']))\n",
    "dataframe = pd.read_csv('train.csv')\n",
    "dataframe.head()"
   ]
  },
  {
   "cell_type": "code",
   "execution_count": null,
   "metadata": {},
   "outputs": [],
   "source": []
  },
  {
   "cell_type": "code",
<<<<<<< HEAD
   "execution_count": 35,
=======
   "execution_count": 784,
>>>>>>> master
   "metadata": {
    "colab": {
     "base_uri": "https://localhost:8080/",
     "height": 67
    },
    "colab_type": "code",
    "id": "ejoSoVTaiNnT",
    "outputId": "61e16ea0-0014-43a1-a2c5-e51a3ff4e060",
    "scrolled": true
   },
   "outputs": [
    {
     "data": {
      "text/plain": [
       "x      int64\n",
       "y    float64\n",
       "dtype: object"
      ]
     },
<<<<<<< HEAD
     "execution_count": 35,
=======
     "execution_count": 784,
>>>>>>> master
     "metadata": {},
     "output_type": "execute_result"
    }
   ],
   "source": [
    "dataframe.dtypes"
   ]
  },
  {
   "cell_type": "code",
<<<<<<< HEAD
   "execution_count": 36,
=======
   "execution_count": 785,
>>>>>>> master
   "metadata": {
    "colab": {
     "base_uri": "https://localhost:8080/",
     "height": 315
    },
    "colab_type": "code",
    "id": "xsFiAZYPiNni",
    "outputId": "d6bdb0e0-b583-4948-a99c-348dbc2448e8"
   },
   "outputs": [
    {
     "data": {
      "text/plain": [
<<<<<<< HEAD
       "<matplotlib.axes._subplots.AxesSubplot at 0x7f85e076f978>"
      ]
     },
     "execution_count": 36,
=======
       "<matplotlib.axes._subplots.AxesSubplot at 0x7f0f3086d9e8>"
      ]
     },
     "execution_count": 785,
>>>>>>> master
     "metadata": {},
     "output_type": "execute_result"
    },
    {
     "data": {
      "image/png": "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\n",
      "text/plain": [
       "<Figure size 432x288 with 1 Axes>"
      ]
     },
     "metadata": {
      "needs_background": "light"
     },
     "output_type": "display_data"
    }
   ],
   "source": [
    "# checking the outlier\n",
    "sns.boxplot(data=dataframe)"
   ]
  },
  {
   "cell_type": "markdown",
   "metadata": {
    "colab_type": "text",
    "id": "Db8TAsvCiNnf"
   },
   "source": [
    "here there is no categorical data so our steps will be:\n",
    "    Handling missing data\\n\n",
    " X  Handling categorical data \n",
    " #There is no categorical data\n",
    " X  Split the dataset into training set and test set \\n\n",
    "    # as already it was splitted\n",
    "    Feature scaling\n"
   ]
  },
  {
   "cell_type": "code",
<<<<<<< HEAD
   "execution_count": 37,
=======
   "execution_count": 786,
>>>>>>> master
   "metadata": {
    "colab": {},
    "colab_type": "code",
    "id": "F5IYjn5HiNnz"
   },
   "outputs": [],
   "source": [
    "# here we see that there is one outlier in our data"
   ]
  },
  {
   "cell_type": "code",
<<<<<<< HEAD
   "execution_count": 38,
=======
   "execution_count": 787,
>>>>>>> master
   "metadata": {
    "colab": {
     "base_uri": "https://localhost:8080/",
     "height": 67
    },
    "colab_type": "code",
    "id": "xQ-gnd08iNn7",
    "outputId": "fb79b46a-9f26-400b-cbc2-583491b16953",
    "scrolled": true
   },
   "outputs": [
    {
     "data": {
      "text/plain": [
       "x    0\n",
       "y    1\n",
       "dtype: int64"
      ]
     },
<<<<<<< HEAD
     "execution_count": 38,
=======
     "execution_count": 787,
>>>>>>> master
     "metadata": {},
     "output_type": "execute_result"
    }
   ],
   "source": [
    "# checking the null values\n",
    "dataframe.isna().sum()"
   ]
  },
  {
   "cell_type": "code",
<<<<<<< HEAD
   "execution_count": 39,
=======
   "execution_count": 788,
>>>>>>> master
   "metadata": {
    "colab": {},
    "colab_type": "code",
    "id": "lqz82QapiNoJ"
   },
   "outputs": [],
   "source": [
    "# storing the number of rows that are empty\n",
    "def print_the_missing_rows_in_col(col):\n",
    "    empty = dataframe[col].isna().sum()\n",
    "    count=0\n",
    "    row_nums = np.empty(0)\n",
    "    for counter in range(0,len(dataframe)):\n",
    "        if count >= empty:\n",
    "            break\n",
    "        if(np.isnan(dataframe[col][counter])):\n",
    "            row_nums = np.append(row_nums, counter)\n",
    "            print('row = {},\\n{}'.format(counter,dataframe.loc[counter,:]))\n",
    "    return row_nums"
   ]
  },
  {
   "cell_type": "code",
<<<<<<< HEAD
   "execution_count": 40,
=======
   "execution_count": 789,
>>>>>>> master
   "metadata": {
    "colab": {
     "base_uri": "https://localhost:8080/",
     "height": 84
    },
    "colab_type": "code",
    "id": "VNj_SYn3iNoY",
    "outputId": "7e8d61bf-5fcd-4e52-e12c-65642bc204a3"
   },
   "outputs": [
    {
     "name": "stdout",
     "output_type": "stream",
     "text": [
      "row = 213,\n",
      "x    3456.0\n",
      "y       NaN\n",
      "Name: 213, dtype: float64\n"
     ]
    }
   ],
   "source": [
    "# storing the row numbers where the data is missing.\n",
    "empty_rows_y = print_the_missing_rows_in_col('y')"
   ]
  },
  {
   "cell_type": "code",
<<<<<<< HEAD
   "execution_count": 41,
=======
   "execution_count": 790,
>>>>>>> master
   "metadata": {
    "colab": {},
    "colab_type": "code",
    "id": "PgZnlcjeiNot"
   },
   "outputs": [],
   "source": [
    "# for counter in empty_rows_y:\n",
    "dataframe = dataframe.reset_index(drop=True)"
   ]
  },
  {
   "cell_type": "code",
<<<<<<< HEAD
   "execution_count": 42,
=======
   "execution_count": 791,
>>>>>>> master
   "metadata": {
    "colab": {
     "base_uri": "https://localhost:8080/",
     "height": 34
    },
    "colab_type": "code",
    "id": "4Udp7usliNo0",
    "outputId": "78bda5b5-aeb8-47b5-9e0f-1a7c8447ffec"
   },
   "outputs": [
    {
     "data": {
      "text/plain": [
       "3456"
      ]
     },
<<<<<<< HEAD
     "execution_count": 42,
=======
     "execution_count": 791,
>>>>>>> master
     "metadata": {},
     "output_type": "execute_result"
    }
   ],
   "source": [
    "dataframe.x[213]\n"
   ]
  },
  {
   "cell_type": "code",
<<<<<<< HEAD
   "execution_count": 43,
=======
   "execution_count": 792,
>>>>>>> master
   "metadata": {
    "colab": {
     "base_uri": "https://localhost:8080/",
     "height": 34
    },
    "colab_type": "code",
    "id": "ZETZXkzjiNo-",
    "outputId": "0f69affe-6670-4a3a-829d-2d6e11594130"
   },
   "outputs": [
    {
     "data": {
      "text/plain": [
       "700"
      ]
     },
<<<<<<< HEAD
     "execution_count": 43,
=======
     "execution_count": 792,
>>>>>>> master
     "metadata": {},
     "output_type": "execute_result"
    }
   ],
   "source": [
    "len(dataframe)"
   ]
  },
  {
   "cell_type": "markdown",
   "metadata": {
    "colab_type": "text",
    "id": "tbUY3gzAiNpE"
   },
   "source": [
    "deleting the row where the value in row is null as it'll affect the computation when we're scaling the data and even the value of the mean will not be what it should be and while computing the data in each row should be in same format so it its float whole row hould be float and nan is not a number. So it'll show an error if we do computation on such data"
   ]
  },
  {
   "cell_type": "code",
<<<<<<< HEAD
   "execution_count": 44,
=======
   "execution_count": 793,
>>>>>>> master
   "metadata": {
    "colab": {},
    "colab_type": "code",
    "id": "eh88TpFKiNpF"
   },
   "outputs": [],
   "source": [
    "# deleting the missing row\n",
    "dataframe.dropna(inplace = True)"
   ]
  },
  {
   "cell_type": "code",
<<<<<<< HEAD
   "execution_count": 45,
=======
   "execution_count": 794,
>>>>>>> master
   "metadata": {
    "colab": {},
    "colab_type": "code",
    "id": "IhPl3AyOiNpJ"
   },
   "outputs": [],
   "source": [
    "# As after deltion the row number was also deleted we reset the index the data\n",
    "dataframe = dataframe.reset_index(drop=True)"
   ]
  },
  {
   "cell_type": "code",
<<<<<<< HEAD
   "execution_count": 46,
=======
   "execution_count": 795,
>>>>>>> master
   "metadata": {
    "colab": {
     "base_uri": "https://localhost:8080/",
     "height": 34
    },
    "colab_type": "code",
    "id": "E4aujHa4iNpR",
    "outputId": "7a3a79d9-bca4-4fc3-890c-75af30b75bce"
   },
   "outputs": [
    {
     "data": {
      "text/plain": [
       "699"
      ]
     },
<<<<<<< HEAD
     "execution_count": 46,
=======
     "execution_count": 795,
>>>>>>> master
     "metadata": {},
     "output_type": "execute_result"
    }
   ],
   "source": [
    "# we're confirming the data null data is removed \n",
    "len(dataframe)\n"
   ]
  },
  {
   "cell_type": "code",
<<<<<<< HEAD
   "execution_count": 47,
=======
   "execution_count": 796,
>>>>>>> master
   "metadata": {
    "colab": {
     "base_uri": "https://localhost:8080/",
     "height": 34
    },
    "colab_type": "code",
    "id": "JBpuSDnyiNpY",
    "outputId": "537f1238-d2f2-451b-8ce5-2795975657fd"
   },
   "outputs": [
    {
     "data": {
      "text/plain": [
       "72"
      ]
     },
<<<<<<< HEAD
     "execution_count": 47,
=======
     "execution_count": 796,
>>>>>>> master
     "metadata": {},
     "output_type": "execute_result"
    }
   ],
   "source": [
    "dataframe.x[213]"
   ]
  },
  {
   "cell_type": "code",
<<<<<<< HEAD
   "execution_count": 48,
=======
   "execution_count": 797,
>>>>>>> master
   "metadata": {
    "colab": {
     "base_uri": "https://localhost:8080/",
     "height": 34
    },
    "colab_type": "code",
    "id": "UC__VfG2iNpd",
    "outputId": "2d25bf27-8e6d-40d2-f554-bf8c1cae1a3b"
   },
   "outputs": [
    {
     "data": {
      "text/plain": [
       "50.01430615164521"
      ]
     },
<<<<<<< HEAD
     "execution_count": 48,
=======
     "execution_count": 797,
>>>>>>> master
     "metadata": {},
     "output_type": "execute_result"
    }
   ],
   "source": [
    "dataframe.x.mean()"
   ]
  },
  {
   "cell_type": "code",
<<<<<<< HEAD
   "execution_count": 49,
=======
   "execution_count": 798,
>>>>>>> master
   "metadata": {
    "colab": {
     "base_uri": "https://localhost:8080/",
     "height": 315
    },
    "colab_type": "code",
    "id": "804Oa4U3iNpj",
    "outputId": "53a7f3c7-0996-4062-c26e-428d9e01270d"
   },
   "outputs": [
    {
     "data": {
      "text/plain": [
<<<<<<< HEAD
       "<matplotlib.axes._subplots.AxesSubplot at 0x7f85e09d9128>"
      ]
     },
     "execution_count": 49,
=======
       "<matplotlib.axes._subplots.AxesSubplot at 0x7f0f34c5d438>"
      ]
     },
     "execution_count": 798,
>>>>>>> master
     "metadata": {},
     "output_type": "execute_result"
    },
    {
     "data": {
      "image/png": "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\n",
      "text/plain": [
       "<Figure size 432x288 with 1 Axes>"
      ]
     },
     "metadata": {
      "needs_background": "light"
     },
     "output_type": "display_data"
    }
   ],
   "source": [
    "# checking if any outliers\n",
    "sns.boxplot(data = dataframe, palette='autumn')"
   ]
  },
  {
   "cell_type": "code",
<<<<<<< HEAD
   "execution_count": 50,
=======
   "execution_count": 799,
>>>>>>> master
   "metadata": {
    "colab": {
     "base_uri": "https://localhost:8080/",
     "height": 195
    },
    "colab_type": "code",
    "id": "QC8IRwzXiNpr",
    "outputId": "06557ffc-0c72-4c79-8c87-510aafc34809"
   },
   "outputs": [
    {
     "data": {
      "text/html": [
       "<div>\n",
       "<style scoped>\n",
       "    .dataframe tbody tr th:only-of-type {\n",
       "        vertical-align: middle;\n",
       "    }\n",
       "\n",
       "    .dataframe tbody tr th {\n",
       "        vertical-align: top;\n",
       "    }\n",
       "\n",
       "    .dataframe thead th {\n",
       "        text-align: right;\n",
       "    }\n",
       "</style>\n",
       "<table border=\"1\" class=\"dataframe\">\n",
       "  <thead>\n",
       "    <tr style=\"text-align: right;\">\n",
       "      <th></th>\n",
       "      <th>x</th>\n",
       "      <th>y</th>\n",
       "    </tr>\n",
       "  </thead>\n",
       "  <tbody>\n",
       "    <tr>\n",
       "      <th>0</th>\n",
       "      <td>24</td>\n",
       "      <td>21.549452</td>\n",
       "    </tr>\n",
       "    <tr>\n",
       "      <th>1</th>\n",
       "      <td>50</td>\n",
       "      <td>47.464463</td>\n",
       "    </tr>\n",
       "    <tr>\n",
       "      <th>2</th>\n",
       "      <td>15</td>\n",
       "      <td>17.218656</td>\n",
       "    </tr>\n",
       "    <tr>\n",
       "      <th>3</th>\n",
       "      <td>38</td>\n",
       "      <td>36.586398</td>\n",
       "    </tr>\n",
       "    <tr>\n",
       "      <th>4</th>\n",
       "      <td>87</td>\n",
       "      <td>87.288984</td>\n",
       "    </tr>\n",
       "  </tbody>\n",
       "</table>\n",
       "</div>"
      ],
      "text/plain": [
       "    x          y\n",
       "0  24  21.549452\n",
       "1  50  47.464463\n",
       "2  15  17.218656\n",
       "3  38  36.586398\n",
       "4  87  87.288984"
      ]
     },
<<<<<<< HEAD
     "execution_count": 50,
=======
     "execution_count": 799,
>>>>>>> master
     "metadata": {},
     "output_type": "execute_result"
    }
   ],
   "source": [
    "dataframe.head()"
   ]
  },
  {
   "cell_type": "code",
   "execution_count": null,
   "metadata": {
    "colab": {},
    "colab_type": "code",
    "id": "8P7kj8BSiNpz"
   },
   "outputs": [],
   "source": []
  },
  {
   "cell_type": "code",
<<<<<<< HEAD
   "execution_count": 51,
=======
   "execution_count": 800,
>>>>>>> master
   "metadata": {
    "colab": {},
    "colab_type": "code",
    "id": "mqX62REYiNp5"
   },
   "outputs": [],
   "source": [
    "def feature_scaling_column(dataframe, column_scaling):\n",
    "    mean_of_col = dataframe[column_scaling].mean()\n",
    "    std_of_col = dataframe[column_scaling].std()\n",
    "    print('for col= {} mean= {} and std={} '.format(column_scaling,mean_of_col,std_of_col))\n",
    "    for counter in range(0, len(dataframe)):\n",
    "        dataframe.loc[counter, column_scaling] =  ((dataframe.loc[counter, column_scaling] - mean_of_col) / std_of_col)\n",
    "    print(\"successfully scaled column \",column_scaling)\n",
    "    return dataframe  "
   ]
  },
  {
   "cell_type": "code",
<<<<<<< HEAD
   "execution_count": 52,
=======
   "execution_count": 801,
>>>>>>> master
   "metadata": {
    "colab": {
     "base_uri": "https://localhost:8080/",
     "height": 50
    },
    "colab_type": "code",
    "id": "uOk8s4ZfiNp_",
    "outputId": "56b77e2b-391c-4bf6-a68c-83f4c77338f1"
   },
   "outputs": [
    {
     "name": "stdout",
     "output_type": "stream",
     "text": [
      "for col= x mean= 50.01430615164521 and std=28.954560214557876 \n",
      "successfully scaled column  x\n"
     ]
    }
   ],
   "source": [
    "dataframe = feature_scaling_column(dataframe, 'x')"
   ]
  },
  {
   "cell_type": "code",
<<<<<<< HEAD
   "execution_count": 53,
=======
   "execution_count": 802,
>>>>>>> master
   "metadata": {
    "colab": {
     "base_uri": "https://localhost:8080/",
     "height": 195
    },
    "colab_type": "code",
    "id": "sRAvpJ-ZiNqD",
    "outputId": "bf2cf34e-4f98-46f2-dd18-d0f9c994c536"
   },
   "outputs": [
    {
     "data": {
      "text/html": [
       "<div>\n",
       "<style scoped>\n",
       "    .dataframe tbody tr th:only-of-type {\n",
       "        vertical-align: middle;\n",
       "    }\n",
       "\n",
       "    .dataframe tbody tr th {\n",
       "        vertical-align: top;\n",
       "    }\n",
       "\n",
       "    .dataframe thead th {\n",
       "        text-align: right;\n",
       "    }\n",
       "</style>\n",
       "<table border=\"1\" class=\"dataframe\">\n",
       "  <thead>\n",
       "    <tr style=\"text-align: right;\">\n",
       "      <th></th>\n",
       "      <th>x</th>\n",
       "      <th>y</th>\n",
       "    </tr>\n",
       "  </thead>\n",
       "  <tbody>\n",
       "    <tr>\n",
       "      <th>0</th>\n",
       "      <td>-0.898453</td>\n",
       "      <td>21.549452</td>\n",
       "    </tr>\n",
       "    <tr>\n",
       "      <th>1</th>\n",
       "      <td>-0.000494</td>\n",
       "      <td>47.464463</td>\n",
       "    </tr>\n",
       "    <tr>\n",
       "      <th>2</th>\n",
       "      <td>-1.209285</td>\n",
       "      <td>17.218656</td>\n",
       "    </tr>\n",
       "    <tr>\n",
       "      <th>3</th>\n",
       "      <td>-0.414937</td>\n",
       "      <td>36.586398</td>\n",
       "    </tr>\n",
       "    <tr>\n",
       "      <th>4</th>\n",
       "      <td>1.277370</td>\n",
       "      <td>87.288984</td>\n",
       "    </tr>\n",
       "  </tbody>\n",
       "</table>\n",
       "</div>"
      ],
      "text/plain": [
       "          x          y\n",
       "0 -0.898453  21.549452\n",
       "1 -0.000494  47.464463\n",
       "2 -1.209285  17.218656\n",
       "3 -0.414937  36.586398\n",
       "4  1.277370  87.288984"
      ]
     },
<<<<<<< HEAD
     "execution_count": 53,
=======
     "execution_count": 802,
>>>>>>> master
     "metadata": {},
     "output_type": "execute_result"
    }
   ],
   "source": [
    "dataframe.head()"
   ]
  },
  {
   "cell_type": "code",
<<<<<<< HEAD
   "execution_count": 54,
=======
   "execution_count": 803,
>>>>>>> master
   "metadata": {
    "colab": {
     "base_uri": "https://localhost:8080/",
     "height": 50
    },
    "colab_type": "code",
    "id": "S-i4dqBPiNqI",
    "outputId": "a65967d1-b3e0-4440-f14f-39826b42ec5e"
   },
   "outputs": [
    {
     "name": "stdout",
     "output_type": "stream",
     "text": [
      "for col= y mean= 49.939869170457804 and std=29.109217100389873 \n",
      "successfully scaled column  y\n"
     ]
    }
   ],
   "source": [
    "dataframe= feature_scaling_column(dataframe,'y')"
   ]
  },
  {
   "cell_type": "code",
<<<<<<< HEAD
   "execution_count": 55,
=======
   "execution_count": 804,
>>>>>>> master
   "metadata": {
    "colab": {
     "base_uri": "https://localhost:8080/",
     "height": 195
    },
    "colab_type": "code",
    "id": "xWoW78jniNqM",
    "outputId": "ee399e30-a75f-4bfe-823a-169398c0df45"
   },
   "outputs": [
    {
     "data": {
      "text/html": [
       "<div>\n",
       "<style scoped>\n",
       "    .dataframe tbody tr th:only-of-type {\n",
       "        vertical-align: middle;\n",
       "    }\n",
       "\n",
       "    .dataframe tbody tr th {\n",
       "        vertical-align: top;\n",
       "    }\n",
       "\n",
       "    .dataframe thead th {\n",
       "        text-align: right;\n",
       "    }\n",
       "</style>\n",
       "<table border=\"1\" class=\"dataframe\">\n",
       "  <thead>\n",
       "    <tr style=\"text-align: right;\">\n",
       "      <th></th>\n",
       "      <th>x</th>\n",
       "      <th>y</th>\n",
       "    </tr>\n",
       "  </thead>\n",
       "  <tbody>\n",
       "    <tr>\n",
       "      <th>0</th>\n",
       "      <td>-0.898453</td>\n",
       "      <td>-0.975307</td>\n",
       "    </tr>\n",
       "    <tr>\n",
       "      <th>1</th>\n",
       "      <td>-0.000494</td>\n",
       "      <td>-0.085039</td>\n",
       "    </tr>\n",
       "    <tr>\n",
       "      <th>2</th>\n",
       "      <td>-1.209285</td>\n",
       "      <td>-1.124084</td>\n",
       "    </tr>\n",
       "    <tr>\n",
       "      <th>3</th>\n",
       "      <td>-0.414937</td>\n",
       "      <td>-0.458737</td>\n",
       "    </tr>\n",
       "    <tr>\n",
       "      <th>4</th>\n",
       "      <td>1.277370</td>\n",
       "      <td>1.283068</td>\n",
       "    </tr>\n",
       "  </tbody>\n",
       "</table>\n",
       "</div>"
      ],
      "text/plain": [
       "          x         y\n",
       "0 -0.898453 -0.975307\n",
       "1 -0.000494 -0.085039\n",
       "2 -1.209285 -1.124084\n",
       "3 -0.414937 -0.458737\n",
       "4  1.277370  1.283068"
      ]
     },
<<<<<<< HEAD
     "execution_count": 55,
=======
     "execution_count": 804,
>>>>>>> master
     "metadata": {},
     "output_type": "execute_result"
    }
   ],
   "source": [
    "dataframe.head()"
   ]
  },
  {
   "cell_type": "code",
<<<<<<< HEAD
   "execution_count": 56,
=======
   "execution_count": 805,
>>>>>>> master
   "metadata": {
    "colab": {},
    "colab_type": "code",
    "id": "0qWSzwRYiNqT"
   },
   "outputs": [],
   "source": [
    "def Linear_Regression():\n",
    "    cost = np.empty(0)\n",
    "    # y = wx+b\n",
    "    learning_rate = 0.0001\n",
    "    weight = 0.5\n",
    "    bais = 0.5\n",
    "    fig = plt.figure()\n",
    "    fig, (ax0,ax1, ax2, ax3,ax4) = plt.subplots(nrows=5, ncols=1, figsize=(5, 20))\n",
<<<<<<< HEAD
    "    ax0.scatter(dataframe.x,dataframe.y,s=0.5,color='g')\n",
=======
    "    ax0.scatter(dataframe.x,dataframe.y, color='g')\n",
>>>>>>> master
    "    df_size = len(dataframe)\n",
    "    for counter in range(0,100000):\n",
    "        # creating the predicted output by our supposed values of w and b\n",
    "        Ypred = pd.Series(np.multiply(weight ,dataframe.x) + bais)\n",
    "        # loss =  1/2m sum of (y^ - y)**2\n",
    "        diff_pred = Ypred-dataframe.y\n",
    "        # squaring each term\n",
    "        loss = (diff_pred)**2\n",
    "        loss_error_sum = loss.sum()\n",
    "        loss_error_sum /= (2*df_size)\n",
    "        # storing the costs so that we can check which is min\n",
    "        # cost = np.append(cost, loss_error_sum)\n",
    "        \n",
    "        # calculate d/d0 of j0,01\n",
    "        derivate_b = (np.sum(diff_pred))\n",
    "        derivate_w = np.sum(np.multiply(dataframe.x, diff_pred))\n",
    "        # update w and b in line equation\n",
    "        weight = weight - learning_rate*(derivate_w/df_size)\n",
    "        bais = bais - learning_rate*(derivate_b/df_size)\n",
    "        if(counter%100 == 0):\n",
    "            # plt.plot(counter,loss_error_sum, marker='x', color='r')\n",
<<<<<<< HEAD
    "            ax1.plot(counter,weight,markersize=0.4,marker='o',color='r')\n",
    "            ax1.set_title('iteration vs weight')\n",
    "            ax2.plot(counter, bais,markersize=0.4,marker='x',color='g')\n",
    "            ax2.set_title('iteration vs basis')\n",
    "            ax3.plot(counter,loss_error_sum,markersize=0.4,marker='x',color='b')\n",
=======
    "            ax1.plot(counter,weight,marker='o',color='r')\n",
    "            ax1.set_title('iteration vs weight')\n",
    "            ax2.plot(counter, bais,marker='x',color='g')\n",
    "            ax2.set_title('iteration vs basis')\n",
    "            ax3.plot(counter,loss_error_sum,marker='x',color='b')\n",
>>>>>>> master
    "            ax3.set_title('iteration vs error')\n",
    "            ax4.plot(weight,bais,marker = 'x', color='black')\n",
    "            ax4.set_title('weight vs bais')\n",
    "        if(loss_error_sum<=0.00009): \n",
    "            break\n",
<<<<<<< HEAD
    "    ax0.plot([-2,2],[(-2*weight)+bais,(2*weight)+bais], markersize=0.4, color='r')\n",
=======
    "    ax0.plot([-2,2],[(-2*weight)+bais,(2*weight)+bais])\n",
>>>>>>> master
    "    ax0.set_title('prediction line vs given data')\n",
    "    plt.subplots_adjust(hspace=1)\n",
    "    plt.show()\n",
    "    print(\"counter = {} and cost function = {}\".format(counter, loss_error_sum))\n",
    "    return (weight, bais)\n",
    "            "
   ]
  },
  {
   "cell_type": "code",
<<<<<<< HEAD
   "execution_count": 57,
=======
   "execution_count": 806,
>>>>>>> master
   "metadata": {
    "colab": {
     "base_uri": "https://localhost:8080/",
     "height": 356
    },
    "colab_type": "code",
    "id": "yaBtESXFiNqX",
    "outputId": "684d52ec-d5e5-401a-88d9-1ea144272fbc",
    "scrolled": true
   },
   "outputs": [
    {
     "data": {
      "text/plain": [
       "<Figure size 432x288 with 0 Axes>"
      ]
     },
     "metadata": {},
     "output_type": "display_data"
    },
    {
     "data": {
<<<<<<< HEAD
      "image/png": "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\n",
=======
      "image/png": "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\n",
>>>>>>> master
      "text/plain": [
       "<Figure size 360x1440 with 5 Axes>"
      ]
     },
     "metadata": {
      "needs_background": "light"
     },
     "output_type": "display_data"
    },
    {
     "name": "stdout",
     "output_type": "stream",
     "text": [
      "counter = 99999 and cost function = 0.004642583301052875\n"
     ]
    }
   ],
   "source": [
    "weight, bais = Linear_Regression()"
   ]
  },
  {
   "cell_type": "code",
<<<<<<< HEAD
   "execution_count": 58,
=======
   "execution_count": 807,
>>>>>>> master
   "metadata": {
    "colab": {
     "base_uri": "https://localhost:8080/",
     "height": 34
    },
    "colab_type": "code",
    "id": "jaD8JI_JiNqf",
    "outputId": "d617df35-a737-4028-8535-2a4f0965b35d"
   },
   "outputs": [
    {
     "name": "stdout",
     "output_type": "stream",
     "text": [
      "w = 0.9953171066610226 and b = 2.2688616979240013e-05\n"
     ]
    }
   ],
   "source": [
    "print('w = {} and b = {}'.format(weight, bais))\n",
    "# np.sum(np.multiply(dataframe.x, 2))/4\n",
    "yarr = pd.Series(np.multiply(weight,dataframe.x) + bais)"
   ]
  },
  {
   "cell_type": "code",
<<<<<<< HEAD
   "execution_count": 59,
=======
   "execution_count": 808,
>>>>>>> master
   "metadata": {
    "colab": {},
    "colab_type": "code",
    "id": "PlUJyT_EiNqs"
   },
   "outputs": [
    {
     "data": {
      "text/plain": [
       "0   -1.593811\n",
       "1    1.998024\n",
       "2   -2.837139\n",
       "3    0.340254\n",
       "4    7.109481\n",
       "Name: x, dtype: float64"
      ]
     },
<<<<<<< HEAD
     "execution_count": 59,
=======
     "execution_count": 808,
>>>>>>> master
     "metadata": {},
     "output_type": "execute_result"
    }
   ],
   "source": [
    "(np.multiply(4,dataframe.x)+2).head()"
   ]
  },
  {
   "cell_type": "code",
<<<<<<< HEAD
   "execution_count": 60,
=======
   "execution_count": 809,
>>>>>>> master
   "metadata": {
    "colab": {
     "base_uri": "https://localhost:8080/",
     "height": 118
    },
    "colab_type": "code",
    "id": "9zIQXsZeiNqm",
    "outputId": "a0281e03-3b04-4166-9ce3-42d91945660c"
   },
   "outputs": [
    {
     "data": {
      "text/plain": [
       "0   -0.894223\n",
       "1   -0.000469\n",
       "2   -1.203599\n",
       "3   -0.412971\n",
       "4    1.271411\n",
       "Name: x, dtype: float64"
      ]
     },
<<<<<<< HEAD
     "execution_count": 60,
=======
     "execution_count": 809,
>>>>>>> master
     "metadata": {},
     "output_type": "execute_result"
    }
   ],
   "source": [
    "yarr.head()"
   ]
  },
  {
   "cell_type": "markdown",
   "metadata": {
    "colab_type": "text",
    "id": "1tt8lF2PiNq0"
   },
   "source": [
    "def testing()\n",
    "\n",
    "    "
   ]
  },
  {
   "cell_type": "code",
<<<<<<< HEAD
   "execution_count": 61,
=======
   "execution_count": 810,
>>>>>>> master
   "metadata": {
    "colab": {},
    "colab_type": "code",
    "id": "xivQmWsBiNq1"
   },
   "outputs": [],
   "source": [
    "def testing():\n",
    "    dataframe = pd.read_csv('test.csv')\n",
    "#     dataframe = pd.read_csv(io.BytesIO(uploaded['test.csv'])) # to upload on google colab\n",
    "    # calculating the \n",
    "    Ypred = pd.Series(np.multiply(weight, dataframe.x) + bais)\n",
    "    for counter in range(0, len(dataframe)):\n",
    "        Ypred[counter]=(abs(Ypred[counter]-dataframe.y[counter])/dataframe.y[counter])\n",
    "#     error_predicts = np.divide((abs(Ypred-dataframe.y)),dataframe.y)\n",
<<<<<<< HEAD
    "    plt.scatter(dataframe.x,dataframe.y, s=0.4, color='g')\n",
    "    plt.plot([-2,100],[(-2*weight)+bais,(100*weight)+bais], color='r')\n",
    "    plt.title(\"prediction vs test data\")\n",
    "    plt.show()\n",
=======
    "        plt.plot(counter,Ypred[counter],marker='+',color='g')\n",
    "    plt.scatter(dataframe.x, dataframe.y)\n",
    "    plt.plot([-2,2],[(-2*weight)+bais,(2*weight)+bais])\n",
    "    plt.title(\"iteration vs error\")\n",
    "    plt.show()\n",
    "\n",
>>>>>>> master
    "    error = np.sum(Ypred)/len(dataframe)\n",
    "    return (1-error)*100"
   ]
  },
  {
   "cell_type": "code",
<<<<<<< HEAD
   "execution_count": 62,
=======
   "execution_count": 811,
>>>>>>> master
   "metadata": {
    "colab": {},
    "colab_type": "code",
    "id": "eOAn2UtpiNq4"
   },
   "outputs": [
    {
     "data": {
      "text/html": [
       "<div>\n",
       "<style scoped>\n",
       "    .dataframe tbody tr th:only-of-type {\n",
       "        vertical-align: middle;\n",
       "    }\n",
       "\n",
       "    .dataframe tbody tr th {\n",
       "        vertical-align: top;\n",
       "    }\n",
       "\n",
       "    .dataframe thead th {\n",
       "        text-align: right;\n",
       "    }\n",
       "</style>\n",
       "<table border=\"1\" class=\"dataframe\">\n",
       "  <thead>\n",
       "    <tr style=\"text-align: right;\">\n",
       "      <th></th>\n",
       "      <th>x</th>\n",
       "      <th>y</th>\n",
       "    </tr>\n",
       "  </thead>\n",
       "  <tbody>\n",
       "    <tr>\n",
       "      <th>count</th>\n",
       "      <td>6.990000e+02</td>\n",
       "      <td>6.990000e+02</td>\n",
       "    </tr>\n",
       "    <tr>\n",
       "      <th>mean</th>\n",
       "      <td>-1.016513e-17</td>\n",
       "      <td>-2.642934e-16</td>\n",
       "    </tr>\n",
       "    <tr>\n",
       "      <th>std</th>\n",
       "      <td>1.000000e+00</td>\n",
       "      <td>1.000000e+00</td>\n",
       "    </tr>\n",
       "    <tr>\n",
       "      <th>min</th>\n",
       "      <td>-1.727338e+00</td>\n",
       "      <td>-1.847520e+00</td>\n",
       "    </tr>\n",
       "    <tr>\n",
       "      <th>25%</th>\n",
       "      <td>-8.639159e-01</td>\n",
       "      <td>-8.591747e-01</td>\n",
       "    </tr>\n",
       "    <tr>\n",
       "      <th>50%</th>\n",
       "      <td>-3.503096e-02</td>\n",
       "      <td>-3.321452e-02</td>\n",
       "    </tr>\n",
       "    <tr>\n",
       "      <th>75%</th>\n",
       "      <td>8.629278e-01</td>\n",
       "      <td>8.584924e-01</td>\n",
       "    </tr>\n",
       "    <tr>\n",
       "      <th>max</th>\n",
       "      <td>1.726350e+00</td>\n",
       "      <td>2.024505e+00</td>\n",
       "    </tr>\n",
       "  </tbody>\n",
       "</table>\n",
       "</div>"
      ],
      "text/plain": [
       "                  x             y\n",
       "count  6.990000e+02  6.990000e+02\n",
       "mean  -1.016513e-17 -2.642934e-16\n",
       "std    1.000000e+00  1.000000e+00\n",
       "min   -1.727338e+00 -1.847520e+00\n",
       "25%   -8.639159e-01 -8.591747e-01\n",
       "50%   -3.503096e-02 -3.321452e-02\n",
       "75%    8.629278e-01  8.584924e-01\n",
       "max    1.726350e+00  2.024505e+00"
      ]
     },
<<<<<<< HEAD
     "execution_count": 62,
=======
     "execution_count": 811,
>>>>>>> master
     "metadata": {},
     "output_type": "execute_result"
    }
   ],
   "source": [
    "dataframe.describe()"
   ]
  },
  {
   "cell_type": "code",
<<<<<<< HEAD
   "execution_count": 63,
=======
   "execution_count": null,
   "metadata": {},
   "outputs": [],
   "source": []
  },
  {
   "cell_type": "code",
   "execution_count": 812,
>>>>>>> master
   "metadata": {
    "colab": {},
    "colab_type": "code",
    "id": "sVKq6T5qiNq8"
   },
   "outputs": [
    {
     "data": {
<<<<<<< HEAD
      "image/png": "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\n",
=======
      "image/png": "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\n",
>>>>>>> master
      "text/plain": [
       "<Figure size 432x288 with 1 Axes>"
      ]
     },
     "metadata": {
      "needs_background": "light"
     },
     "output_type": "display_data"
    }
   ],
   "source": [
    "accuracy=testing()"
   ]
  },
  {
   "cell_type": "code",
<<<<<<< HEAD
   "execution_count": 64,
=======
   "execution_count": 813,
>>>>>>> master
   "metadata": {
    "colab": {
     "base_uri": "https://localhost:8080/",
     "height": 34
    },
    "colab_type": "code",
    "id": "F9WcQX9JiNrB",
    "outputId": "3f086df2-482f-4b54-ca60-0729f6de3fe8"
   },
   "outputs": [
    {
     "data": {
      "text/plain": [
       "91.69664860307354"
      ]
     },
<<<<<<< HEAD
     "execution_count": 64,
=======
     "execution_count": 813,
>>>>>>> master
     "metadata": {},
     "output_type": "execute_result"
    }
   ],
   "source": [
    "accuracy"
   ]
  }
 ],
 "metadata": {
  "colab": {
   "collapsed_sections": [],
   "name": "Linear_Regression.ipynb",
   "provenance": [],
   "version": "0.3.2"
  },
  "kernelspec": {
   "display_name": "Python 3",
   "language": "python",
   "name": "python3"
  },
  "language_info": {
   "codemirror_mode": {
    "name": "ipython",
    "version": 3
   },
   "file_extension": ".py",
   "mimetype": "text/x-python",
   "name": "python",
   "nbconvert_exporter": "python",
   "pygments_lexer": "ipython3",
   "version": "3.6.7rc1"
  }
 },
 "nbformat": 4,
 "nbformat_minor": 1
}
