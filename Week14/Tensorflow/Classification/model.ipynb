{
 "cells": [
  {
   "cell_type": "code",
   "execution_count": null,
   "metadata": {},
   "outputs": [],
   "source": [
    "import pandas as pd\n",
    "import numpy as np\n",
    "import seaborn as sns\n",
    "import matplotlib.pyplot as plt\n",
    "from sklearn.preprocessing import LabelBinarizer, StandardScaler, MinMaxScaler, Normalizer\n",
    "from sklearn.model_selection import train_test_split\n",
    "from sklearn.metrics import *\n",
    "import pickle\n",
    "# importin the necessary.\n",
    "import keras\n",
    "from keras.models import Sequential\n",
    "from keras.layers import Dense"
   ]
  },
  {
   "cell_type": "code",
   "execution_count": null,
   "metadata": {},
   "outputs": [],
   "source": [
    "dataframe = pd.read_csv('Data/Churn_Modelling.csv')"
   ]
  },
  {
   "cell_type": "code",
   "execution_count": null,
   "metadata": {},
   "outputs": [],
   "source": [
    "dataframe.head()"
   ]
  },
  {
   "cell_type": "code",
   "execution_count": null,
   "metadata": {},
   "outputs": [],
   "source": [
    "plt.figure(figsize=(10,8))\n",
    "sns.heatmap(dataframe.corr())"
   ]
  },
  {
   "cell_type": "code",
   "execution_count": null,
   "metadata": {},
   "outputs": [],
   "source": [
    "dataframe.info()"
   ]
  },
  {
   "cell_type": "code",
   "execution_count": null,
   "metadata": {},
   "outputs": [],
   "source": [
    "dataframe.nunique()"
   ]
  },
  {
   "cell_type": "code",
   "execution_count": null,
   "metadata": {},
   "outputs": [],
   "source": [
    "# Removing unwanted data\n",
    "dataframe.drop(['RowNumber','CustomerId','Surname'],inplace=True,axis=1)"
   ]
  },
  {
   "cell_type": "code",
   "execution_count": null,
   "metadata": {},
   "outputs": [],
   "source": [
    "# dataframe['Gender']= le.fit_transform(dataframe['Gender'])"
   ]
  },
  {
   "cell_type": "code",
   "execution_count": null,
   "metadata": {},
   "outputs": [],
   "source": [
    "dataframe.shape"
   ]
  },
  {
   "cell_type": "code",
   "execution_count": null,
   "metadata": {},
   "outputs": [],
   "source": [
    "dataframe.isna().sum()"
   ]
  },
  {
   "cell_type": "code",
   "execution_count": null,
   "metadata": {},
   "outputs": [],
   "source": [
    "plt.figure(figsize=(10,10))\n",
    "dataframe.boxplot(rot=45)"
   ]
  },
  {
   "cell_type": "code",
   "execution_count": null,
   "metadata": {},
   "outputs": [],
   "source": [
    "dataframe.hist(figsize=(10,10))"
   ]
  },
  {
   "cell_type": "code",
   "execution_count": null,
   "metadata": {},
   "outputs": [],
   "source": [
    "gender_label_encoder = LabelBinarizer()"
   ]
  },
  {
   "cell_type": "code",
   "execution_count": null,
   "metadata": {},
   "outputs": [],
   "source": [
    "gender_label_encoder.fit(dataframe['Gender'])"
   ]
  },
  {
   "cell_type": "code",
   "execution_count": null,
   "metadata": {},
   "outputs": [],
   "source": [
    "dataframe['Gender']=gender_label_encoder.transform(dataframe['Gender'])"
   ]
  },
  {
   "cell_type": "code",
   "execution_count": null,
   "metadata": {},
   "outputs": [],
   "source": [
    "with open('pickle/label_binarize_gender.pkl','wb') as f:\n",
    "    pickle.dump(gender_label_encoder,f)"
   ]
  },
  {
   "cell_type": "code",
   "execution_count": null,
   "metadata": {},
   "outputs": [],
   "source": [
    "train,test = train_test_split(dataframe,test_size=0.1)\n",
    "test.to_csv('Data/test.csv')"
   ]
  },
  {
   "cell_type": "code",
   "execution_count": null,
   "metadata": {},
   "outputs": [],
   "source": [
    "class One_Hot_encoder():\n",
    "        \n",
    "    def One_hot_encoder(self,dataframe,col,lb):\n",
    "        lb.fit(dataframe[col])\n",
    "        b = lb.transform(dataframe[col])\n",
    "        names = dataframe[col].unique()\n",
    "        for i in range(0,len(names)-1):\n",
    "            dataframe[names[i]]=b[:,i]\n",
    "        with open('pickle/label_binarizer_'+col+'.pkl','wb') as f:\n",
    "            pickle.dump(lb,f)\n",
    "        return dataframe.drop([col],axis=1)\n",
    "    \n",
    "    def sep(self,dataframe,col):\n",
    "        return dataframe.drop([col],axis=1),dataframe[col]"
   ]
  },
  {
   "cell_type": "code",
   "execution_count": null,
   "metadata": {},
   "outputs": [],
   "source": [
    "ohe = One_Hot_encoder()\n",
    "train = ohe.One_hot_encoder(train,'Geography',LabelBinarizer())"
   ]
  },
  {
   "cell_type": "code",
   "execution_count": null,
   "metadata": {},
   "outputs": [],
   "source": [
    "# dataframe"
   ]
  },
  {
   "cell_type": "code",
   "execution_count": null,
   "metadata": {},
   "outputs": [],
   "source": [
    "with open('Data/One_Hot_encoder_class_object.pkl','wb') as f:\n",
    "    pickle.dump(ohe,f)"
   ]
  },
  {
   "cell_type": "code",
   "execution_count": null,
   "metadata": {},
   "outputs": [],
   "source": [
    "plt.figure(figsize=(12,10))\n",
    "sns.heatmap(train.corr())"
   ]
  },
  {
   "cell_type": "code",
   "execution_count": null,
   "metadata": {},
   "outputs": [],
   "source": [
    "train = train.reset_index()\n",
    "test=test.reset_index()\n",
    "try:\n",
    "    train = train.drop(['index'],axis=1)\n",
    "except Exception as e:\n",
    "    pass\n",
    "try:\n",
    "    test = test.drop(['index'],axis=1)\n",
    "except Exception as e:\n",
    "    pass"
   ]
  },
  {
   "cell_type": "code",
   "execution_count": null,
   "metadata": {},
   "outputs": [],
   "source": [
    "train_x,train_y = ohe.sep(train,'Exited')"
   ]
  },
  {
   "cell_type": "code",
   "execution_count": null,
   "metadata": {},
   "outputs": [],
   "source": [
    "ss = StandardScaler()\n",
    "ss.fit(train_x)\n",
    "b = ss.transform(train_x)"
   ]
  },
  {
   "cell_type": "code",
   "execution_count": null,
   "metadata": {},
   "outputs": [],
   "source": [
    "with open('pickle/scaler.pkl','wb') as f:\n",
    "    pickle.dump(ss,f)"
   ]
  },
  {
   "cell_type": "code",
   "execution_count": null,
   "metadata": {},
   "outputs": [],
   "source": [
    "# WE CAN INITIALIZE our neural network by 2 ways:\n",
    "# either by defiining the sequence of layers or a graph\n",
    "# AS we'll be defining sequence of layers hence we initialize as sequnce\n",
    "clasifier = Sequential()"
   ]
  },
  {
   "cell_type": "code",
   "execution_count": null,
   "metadata": {},
   "outputs": [],
   "source": [
    "# Adding input layer\n",
    "# out_dim = nuber of nodes in hidden layer as output is 0 or 1 hence only 1 layer in output and as we have 11 features 1+11/2=6\n",
    "# We can decide it any number as we can choose any number of nodes\n",
    "# init it is a fucntion which initializes  uniform keeps small random weights close to 0\n",
    "# activation function\n",
    "# number of input nodes in input layer, and we have 11 independent variables. \n",
    "# Dence because: \n",
    "clasifier.add(Dense(output_dim=6, init='uniform', activation='relu',input_dim=11))\n",
    "# second layer again output 11+1/2 \n",
    "clasifier.add(Dense(output_dim=6, init='uniform', activation='relu'))\n",
    "# output layers \n",
    "# output node is 1 as here need only 1 output\n",
    "clasifier.add(Dense(output_dim=1, init='uniform', activation='sigmoid'))\n",
    "\n",
    "# running neural network\n",
    "# optimiser : algo to optimise weights: 1 of stochastic grad algo is adam  \n",
    "# loss: sum of sq of diff \n",
    "clasifier.compile(optimizer='adam', loss='binary_crossentropy', metrics=['accuracy'])"
   ]
  },
  {
   "cell_type": "code",
   "execution_count": null,
   "metadata": {},
   "outputs": [],
   "source": [
    "# number of epochs \n",
    "clasifier.fit(np.array(train_x),np.array(train_y).reshape(-1,1), batch_size=10, nb_epoch = 100)"
   ]
  },
  {
   "cell_type": "code",
   "execution_count": null,
   "metadata": {},
   "outputs": [],
   "source": [
    "print(\"accuracy using {}\".format(accuracy_score(test_y,y_pred),f1_score())\n",
    "cm = confusion_matrix(test_y,y_pred)"
   ]
  },
  {
   "cell_type": "code",
   "execution_count": null,
   "metadata": {},
   "outputs": [],
   "source": [
    "with open('pickle/classifier.pkl','wb') as f:\n",
    "    pickle.dump(clasifier,f)"
   ]
  }
 ],
 "metadata": {
  "kernelspec": {
   "display_name": "Python 3",
   "language": "python",
   "name": "python3"
  },
  "language_info": {
   "codemirror_mode": {
    "name": "ipython",
    "version": 3
   },
   "file_extension": ".py",
   "mimetype": "text/x-python",
   "name": "python",
   "nbconvert_exporter": "python",
   "pygments_lexer": "ipython3",
   "version": "3.7.1"
  }
 },
 "nbformat": 4,
 "nbformat_minor": 2
}
