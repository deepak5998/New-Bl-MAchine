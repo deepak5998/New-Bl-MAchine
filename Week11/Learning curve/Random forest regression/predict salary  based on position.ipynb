{
 "cells": [
  {
   "cell_type": "code",
   "execution_count": 1,
   "metadata": {},
   "outputs": [],
   "source": [
    "from sklearn.ensemble import RandomForestRegressor\n",
    "from sklearn.tree import DecisionTreeRegressor\n",
    "from sklearn.preprocessing import StandardScaler\n",
    "SS=StandardScaler()\n",
    "from sklearn.preprocessing import *\n",
    "# from sklearn \n",
    "import importlib.util\n",
    "import pandas as pd\n",
    "import numpy as np\n",
    "import matplotlib.pyplot as plt\n",
    "from mpl_toolkits.mplot3d import Axes3D\n",
    "import seaborn as sns\n",
    "# for error calculation MSE or MAE or Rsquare\n",
    "from sklearn.metrics import *\n",
    "# for spllititing the data_set\n",
    "from sklearn.model_selection import train_test_split\n",
    "# For support support vector regression\n",
    "from sklearn.svm import SVR\n",
    "# for time execution calculation\n",
    "from datetime import datetime\n",
    "from sklearn.model_selection import learning_curve, train_test_split\n",
    "from sklearn.preprocessing import OneHotEncoder, label_binarize\n",
    "from sklearn.model_selection import validation_curve"
   ]
  },
  {
   "cell_type": "code",
   "execution_count": 2,
   "metadata": {},
   "outputs": [
    {
     "name": "stdout",
     "output_type": "stream",
     "text": [
      "Data PreProcessign object created successfully\n"
     ]
    }
   ],
   "source": [
    "spec = importlib.util.spec_from_file_location(\"DataPreprocessing\", \"/home/admin1/PycharmProjects/Machine_learning_Python/Utility/DataPreprocessing.py\")\n",
    "#At home windows\n",
    "# spec = importlib.util.spec_from_file_location(\"DataPreprocessing\", \"C:/Users/PRAYAS/PycharmProjects/Machine_Learning_Python/Utility/DataPreprocessing.py\")\n",
    "# C:\\Users\\PRAYAS\\PycharmProjects\\Machine_Learning_Python\\Utility\n",
    "foo = importlib.util.module_from_spec(spec)\n",
    "spec.loader.exec_module(foo)\n",
    "preprocess_obj = foo.DataPreprocessing()\n"
   ]
  },
  {
   "cell_type": "code",
   "execution_count": 3,
   "metadata": {},
   "outputs": [],
   "source": [
    "dataframe = pd.read_csv('Data/bike_sharing.csv')"
   ]
  },
  {
   "cell_type": "code",
   "execution_count": 40,
   "metadata": {},
   "outputs": [
    {
     "data": {
      "text/html": [
       "<div>\n",
       "<style scoped>\n",
       "    .dataframe tbody tr th:only-of-type {\n",
       "        vertical-align: middle;\n",
       "    }\n",
       "\n",
       "    .dataframe tbody tr th {\n",
       "        vertical-align: top;\n",
       "    }\n",
       "\n",
       "    .dataframe thead th {\n",
       "        text-align: right;\n",
       "    }\n",
       "</style>\n",
       "<table border=\"1\" class=\"dataframe\">\n",
       "  <thead>\n",
       "    <tr style=\"text-align: right;\">\n",
       "      <th></th>\n",
       "      <th>instant</th>\n",
       "      <th>dteday</th>\n",
       "      <th>season</th>\n",
       "      <th>yr</th>\n",
       "      <th>mnth</th>\n",
       "      <th>hr</th>\n",
       "      <th>holiday</th>\n",
       "      <th>weekday</th>\n",
       "      <th>workingday</th>\n",
       "      <th>weathersit</th>\n",
       "      <th>temp</th>\n",
       "      <th>atemp</th>\n",
       "      <th>hum</th>\n",
       "      <th>windspeed</th>\n",
       "      <th>casual</th>\n",
       "      <th>registered</th>\n",
       "      <th>cnt</th>\n",
       "    </tr>\n",
       "  </thead>\n",
       "  <tbody>\n",
       "    <tr>\n",
       "      <th>4211</th>\n",
       "      <td>4212</td>\n",
       "      <td>2011-06-29</td>\n",
       "      <td>3</td>\n",
       "      <td>0</td>\n",
       "      <td>6</td>\n",
       "      <td>9</td>\n",
       "      <td>0</td>\n",
       "      <td>3</td>\n",
       "      <td>1</td>\n",
       "      <td>1</td>\n",
       "      <td>0.72</td>\n",
       "      <td>0.6515</td>\n",
       "      <td>0.45</td>\n",
       "      <td>0.3881</td>\n",
       "      <td>32</td>\n",
       "      <td>189</td>\n",
       "      <td>221</td>\n",
       "    </tr>\n",
       "  </tbody>\n",
       "</table>\n",
       "</div>"
      ],
      "text/plain": [
       "      instant      dteday  season  yr  mnth  hr  holiday  weekday  workingday  \\\n",
       "4211     4212  2011-06-29       3   0     6   9        0        3           1   \n",
       "\n",
       "      weathersit  temp   atemp   hum  windspeed  casual  registered  cnt  \n",
       "4211           1  0.72  0.6515  0.45     0.3881      32         189  221  "
      ]
     },
     "execution_count": 40,
     "metadata": {},
     "output_type": "execute_result"
    }
   ],
   "source": [
    "dataframe.sample()"
   ]
  },
  {
   "cell_type": "code",
   "execution_count": 41,
   "metadata": {},
   "outputs": [
    {
     "data": {
      "text/plain": [
       "<matplotlib.axes._subplots.AxesSubplot at 0x7fa173d45cf8>"
      ]
     },
     "execution_count": 41,
     "metadata": {},
     "output_type": "execute_result"
    },
    {
     "data": {
      "image/png": "[encoded data removed]",
      "text/plain": [
       "<Figure size 576x288 with 2 Axes>"
      ]
     },
     "metadata": {
      "needs_background": "light"
     },
     "output_type": "display_data"
    }
   ],
   "source": [
    "fig, ax = plt.subplots(figsize=(8,4))\n",
    "sns.heatmap(dataframe.corr())"
   ]
  },
  {
   "cell_type": "code",
   "execution_count": 42,
   "metadata": {},
   "outputs": [
    {
     "name": "stdout",
     "output_type": "stream",
     "text": [
      "<class 'pandas.core.frame.DataFrame'>\n",
      "RangeIndex: 17379 entries, 0 to 17378\n",
      "Data columns (total 17 columns):\n",
      "instant       17379 non-null int64\n",
      "dteday        17379 non-null object\n",
      "season        17379 non-null int64\n",
      "yr            17379 non-null int64\n",
      "mnth          17379 non-null int64\n",
      "hr            17379 non-null int64\n",
      "holiday       17379 non-null int64\n",
      "weekday       17379 non-null int64\n",
      "workingday    17379 non-null int64\n",
      "weathersit    17379 non-null int64\n",
      "temp          17379 non-null float64\n",
      "atemp         17379 non-null float64\n",
      "hum           17379 non-null float64\n",
      "windspeed     17379 non-null float64\n",
      "casual        17379 non-null int64\n",
      "registered    17379 non-null int64\n",
      "cnt           17379 non-null int64\n",
      "dtypes: float64(4), int64(12), object(1)\n",
      "memory usage: 2.3+ MB\n"
     ]
    }
   ],
   "source": [
    "dataframe.info()"
   ]
  },
  {
   "cell_type": "code",
   "execution_count": 43,
   "metadata": {},
   "outputs": [
    {
     "data": {
      "text/plain": [
       "731"
      ]
     },
     "execution_count": 43,
     "metadata": {},
     "output_type": "execute_result"
    }
   ],
   "source": [
    "dataframe['dteday'].nunique()"
   ]
  },
  {
   "cell_type": "code",
   "execution_count": 44,
   "metadata": {},
   "outputs": [],
   "source": [
    "dataframe=dataframe.drop(['hum','dteday'],axis=1)"
   ]
  },
  {
   "cell_type": "code",
   "execution_count": 45,
   "metadata": {},
   "outputs": [
    {
     "data": {
      "text/plain": [
       "instant       0\n",
       "season        0\n",
       "yr            0\n",
       "mnth          0\n",
       "hr            0\n",
       "holiday       0\n",
       "weekday       0\n",
       "workingday    0\n",
       "weathersit    0\n",
       "temp          0\n",
       "atemp         0\n",
       "windspeed     0\n",
       "casual        0\n",
       "registered    0\n",
       "cnt           0\n",
       "dtype: int64"
      ]
     },
     "execution_count": 45,
     "metadata": {},
     "output_type": "execute_result"
    }
   ],
   "source": [
    "dataframe.isna().sum()"
   ]
  },
  {
   "cell_type": "code",
   "execution_count": 46,
   "metadata": {},
   "outputs": [
    {
     "data": {
      "text/plain": [
       "<matplotlib.axes._subplots.AxesSubplot at 0x7fa173c2d8d0>"
      ]
     },
     "execution_count": 46,
     "metadata": {},
     "output_type": "execute_result"
    },
    {
     "data": {
      "image/png": "[encoded data removed]",
      "text/plain": [
       "<Figure size 720x360 with 1 Axes>"
      ]
     },
     "metadata": {
      "needs_background": "light"
     },
     "output_type": "display_data"
    }
   ],
   "source": [
    "plt.figure(figsize=(10,5))\n",
    "dataframe.boxplot(rot=45)"
   ]
  },
  {
   "cell_type": "code",
   "execution_count": 47,
   "metadata": {},
   "outputs": [],
   "source": [
    "# trial without removing outliers"
   ]
  },
  {
   "cell_type": "code",
   "execution_count": 48,
   "metadata": {},
   "outputs": [
    {
     "data": {
      "text/html": [
       "<div>\n",
       "<style scoped>\n",
       "    .dataframe tbody tr th:only-of-type {\n",
       "        vertical-align: middle;\n",
       "    }\n",
       "\n",
       "    .dataframe tbody tr th {\n",
       "        vertical-align: top;\n",
       "    }\n",
       "\n",
       "    .dataframe thead th {\n",
       "        text-align: right;\n",
       "    }\n",
       "</style>\n",
       "<table border=\"1\" class=\"dataframe\">\n",
       "  <thead>\n",
       "    <tr style=\"text-align: right;\">\n",
       "      <th></th>\n",
       "      <th>instant</th>\n",
       "      <th>season</th>\n",
       "      <th>yr</th>\n",
       "      <th>mnth</th>\n",
       "      <th>hr</th>\n",
       "      <th>holiday</th>\n",
       "      <th>weekday</th>\n",
       "      <th>workingday</th>\n",
       "      <th>weathersit</th>\n",
       "      <th>temp</th>\n",
       "      <th>atemp</th>\n",
       "      <th>windspeed</th>\n",
       "      <th>casual</th>\n",
       "      <th>registered</th>\n",
       "      <th>cnt</th>\n",
       "    </tr>\n",
       "  </thead>\n",
       "  <tbody>\n",
       "    <tr>\n",
       "      <th>0</th>\n",
       "      <td>1</td>\n",
       "      <td>1</td>\n",
       "      <td>0</td>\n",
       "      <td>1</td>\n",
       "      <td>0</td>\n",
       "      <td>0</td>\n",
       "      <td>6</td>\n",
       "      <td>0</td>\n",
       "      <td>1</td>\n",
       "      <td>0.24</td>\n",
       "      <td>0.2879</td>\n",
       "      <td>0.0</td>\n",
       "      <td>3</td>\n",
       "      <td>13</td>\n",
       "      <td>16</td>\n",
       "    </tr>\n",
       "    <tr>\n",
       "      <th>1</th>\n",
       "      <td>2</td>\n",
       "      <td>1</td>\n",
       "      <td>0</td>\n",
       "      <td>1</td>\n",
       "      <td>1</td>\n",
       "      <td>0</td>\n",
       "      <td>6</td>\n",
       "      <td>0</td>\n",
       "      <td>1</td>\n",
       "      <td>0.22</td>\n",
       "      <td>0.2727</td>\n",
       "      <td>0.0</td>\n",
       "      <td>8</td>\n",
       "      <td>32</td>\n",
       "      <td>40</td>\n",
       "    </tr>\n",
       "    <tr>\n",
       "      <th>2</th>\n",
       "      <td>3</td>\n",
       "      <td>1</td>\n",
       "      <td>0</td>\n",
       "      <td>1</td>\n",
       "      <td>2</td>\n",
       "      <td>0</td>\n",
       "      <td>6</td>\n",
       "      <td>0</td>\n",
       "      <td>1</td>\n",
       "      <td>0.22</td>\n",
       "      <td>0.2727</td>\n",
       "      <td>0.0</td>\n",
       "      <td>5</td>\n",
       "      <td>27</td>\n",
       "      <td>32</td>\n",
       "    </tr>\n",
       "    <tr>\n",
       "      <th>3</th>\n",
       "      <td>4</td>\n",
       "      <td>1</td>\n",
       "      <td>0</td>\n",
       "      <td>1</td>\n",
       "      <td>3</td>\n",
       "      <td>0</td>\n",
       "      <td>6</td>\n",
       "      <td>0</td>\n",
       "      <td>1</td>\n",
       "      <td>0.24</td>\n",
       "      <td>0.2879</td>\n",
       "      <td>0.0</td>\n",
       "      <td>3</td>\n",
       "      <td>10</td>\n",
       "      <td>13</td>\n",
       "    </tr>\n",
       "    <tr>\n",
       "      <th>4</th>\n",
       "      <td>5</td>\n",
       "      <td>1</td>\n",
       "      <td>0</td>\n",
       "      <td>1</td>\n",
       "      <td>4</td>\n",
       "      <td>0</td>\n",
       "      <td>6</td>\n",
       "      <td>0</td>\n",
       "      <td>1</td>\n",
       "      <td>0.24</td>\n",
       "      <td>0.2879</td>\n",
       "      <td>0.0</td>\n",
       "      <td>0</td>\n",
       "      <td>1</td>\n",
       "      <td>1</td>\n",
       "    </tr>\n",
       "  </tbody>\n",
       "</table>\n",
       "</div>"
      ],
      "text/plain": [
       "   instant  season  yr  mnth  hr  holiday  weekday  workingday  weathersit  \\\n",
       "0        1       1   0     1   0        0        6           0           1   \n",
       "1        2       1   0     1   1        0        6           0           1   \n",
       "2        3       1   0     1   2        0        6           0           1   \n",
       "3        4       1   0     1   3        0        6           0           1   \n",
       "4        5       1   0     1   4        0        6           0           1   \n",
       "\n",
       "   temp   atemp  windspeed  casual  registered  cnt  \n",
       "0  0.24  0.2879        0.0       3          13   16  \n",
       "1  0.22  0.2727        0.0       8          32   40  \n",
       "2  0.22  0.2727        0.0       5          27   32  \n",
       "3  0.24  0.2879        0.0       3          10   13  \n",
       "4  0.24  0.2879        0.0       0           1    1  "
      ]
     },
     "execution_count": 48,
     "metadata": {},
     "output_type": "execute_result"
    }
   ],
   "source": [
    "dataframe.head()"
   ]
  },
  {
   "cell_type": "code",
   "execution_count": 49,
   "metadata": {},
   "outputs": [
    {
     "data": {
      "text/plain": [
       "array([[<matplotlib.axes._subplots.AxesSubplot object at 0x7fa173aa1828>,\n",
       "        <matplotlib.axes._subplots.AxesSubplot object at 0x7fa173ac7940>,\n",
       "        <matplotlib.axes._subplots.AxesSubplot object at 0x7fa173a72ef0>,\n",
       "        <matplotlib.axes._subplots.AxesSubplot object at 0x7fa173a235c0>],\n",
       "       [<matplotlib.axes._subplots.AxesSubplot object at 0x7fa173a49c50>,\n",
       "        <matplotlib.axes._subplots.AxesSubplot object at 0x7fa173a49c88>,\n",
       "        <matplotlib.axes._subplots.AxesSubplot object at 0x7fa1739a49b0>,\n",
       "        <matplotlib.axes._subplots.AxesSubplot object at 0x7fa1739d4080>],\n",
       "       [<matplotlib.axes._subplots.AxesSubplot object at 0x7fa173d72b00>,\n",
       "        <matplotlib.axes._subplots.AxesSubplot object at 0x7fa173e5c390>,\n",
       "        <matplotlib.axes._subplots.AxesSubplot object at 0x7fa173ed1748>,\n",
       "        <matplotlib.axes._subplots.AxesSubplot object at 0x7fa173f50588>],\n",
       "       [<matplotlib.axes._subplots.AxesSubplot object at 0x7fa173fdd1d0>,\n",
       "        <matplotlib.axes._subplots.AxesSubplot object at 0x7fa174009eb8>,\n",
       "        <matplotlib.axes._subplots.AxesSubplot object at 0x7fa174028fd0>,\n",
       "        <matplotlib.axes._subplots.AxesSubplot object at 0x7fa173f33588>]],\n",
       "      dtype=object)"
      ]
     },
     "execution_count": 49,
     "metadata": {},
     "output_type": "execute_result"
    },
    {
     "data": {
      "image/png": "[encoded data removed]",
      "text/plain": [
       "<Figure size 720x720 with 16 Axes>"
      ]
     },
     "metadata": {
      "needs_background": "light"
     },
     "output_type": "display_data"
    }
   ],
   "source": [
    "\n",
    "dataframe.hist(figsize=(10,10))"
   ]
  },
  {
   "cell_type": "code",
   "execution_count": 50,
   "metadata": {},
   "outputs": [],
   "source": [
    "dataframe.nunique()\n",
    "dataframe=dataframe.rename(columns={'cnt':'y'})"
   ]
  },
  {
   "cell_type": "code",
   "execution_count": 51,
   "metadata": {},
   "outputs": [],
   "source": [
    "class Random_Forest_Regression:\n",
    "    \n",
    "    def __init__(self):\n",
    "        self.trees = 300\n",
    "        print(\"Random Forest Regression\")\n",
    "        \n",
    "    def plotter(self,X,Y,reg,plot_title):\n",
    "        # smoothening the plot so that we can see a smooth curve so getting points with difference 0.1\n",
    "        X_smooth = np.arange(X.min(),X.max(),0.01)\n",
    "        plt.title(plot_title)\n",
    "        if reg != '':\n",
    "            plt.plot(X_smooth,reg.predict(X_smooth.reshape(-1,1)),color='r')\n",
    "        else:\n",
    "#             Y_smooth = np.arange(Y.min(),Y.max(),0.01)\n",
    "            plt.plot(X,Y,color='g')            \n",
    "    \n",
    "    def Random_Forest_Regression_demo(self,dataframe):\n",
    "        # creating Linear regression object\n",
    "        reg = RandomForestRegressor(n_estimators=self.trees,random_state=0)\n",
    "        # creating decision regression object with random state =0 as if same function operated any where it'll give same resukt on the same set\n",
    "\n",
    "        # Splitting independent variables and the output variables\n",
    "        train_data = (dataframe.drop('y')).values\n",
    "        train_Y = dataframe['y'].values\n",
    "        # spilling train and test data\n",
    "        train_data, test_data, train_Y, test_Y = train_test_split(train_data,train_Y, test_size=0.2,random_state=0)\n",
    "        # geting the values of x till the degree provided\n",
    "        \n",
    "        reg.fit(train_data.reshape(-1,1),train_Y.reshape(-1,1))\n",
    "        \n",
    "        # predicting the values on basis of our input data\n",
    "        Ypred = reg.predict(test_data.reshape(-1,1))\n",
    "         \n",
    "        print(\"The value for 6.5 is \", reg.predict(np.array(6.5).reshape(-1,1)))\n",
    "        \n",
    "         # error calculations\n",
    "        mse = mean_squared_error(Ypred,test_Y)\n",
    "        mae = mean_absolute_error(Ypred,test_Y)\n",
    "        r_score = r2_score(Ypred,test_Y)\n",
    "        accuracy = r_score*100\n",
    "        print(\"Accuracy by r2 score is = {}\".format(accuracy))\n",
    "#         print(\"mae: {}, mse: {}, r2 score: {}\".format(mae,mse,r_score))\n",
    "        \n",
    "        # plotting\n",
    "        self.plotter(train_data,train_Y,reg,'train data vs predicted')\n",
    "        self.plotter(test_data,test_Y,reg,'test data vs predicted')\n",
    "    \n",
    "    def learning_curve(self,algo,features,output,train_sizes,cv_val):\n",
    "        train_sizes, train_scores,validation_scores = learning_curve(\n",
    "            estimator=algo,\n",
    "            X=features,\n",
    "            y=output,\n",
    "            train_sizes=train_sizes,\n",
    "            cv=cv_val,\n",
    "            scoring = 'neg_mean_squared_error'\n",
    "        )\n",
    "        print('Train scores: \\n{}\\n Validation scores: \\n{}\\n'.format(train_scores,validation_scores))\n",
    "        train_mean= -np.mean(train_scores,axis=1)\n",
    "        valid_mean= np.mean(validation_scores,axis=1)\n",
    "#         print(train_mean,valid_mean)\n",
    "        plt.plot(train_sizes,train_mean,label='training error curve',color='g')\n",
    "        plt.legend()\n",
    "        plt.show()\n",
    "        plt.plot(train_sizes,valid_mean,label='validation error curve',color='r')\n",
    "        plt.legend()\n",
    "        plt.show()\n",
    "        \n",
    "    def validation_Curve(self,algo,features,output,cv_val):\n",
    "        param_range = np.logspace(-6,-1,cv_val)\n",
    "        \n",
    "        train_scores, test_scores = validation_curve(\n",
    "        algo, param_name=\"max_depth\", X=features,y=output\n",
    "        ,param_range=param_range, cv=10, scoring=\"r2\"\n",
    "        )\n",
    "        train_mean=np.mean(train_scores,axis=1)\n",
    "        test_mean= np.mean(test_scores,axis=1)\n",
    "        train_std =np.std(train_scores,axis=1)\n",
    "        test_std =np.std(test_scores,axis=1)\n",
    "        plt.ylim(0.0,0.2)\n",
    "\n",
    "#         viz= validation_curve(\n",
    "#         algo, param_name=\"max_depth\", X=features,y=output\n",
    "#         ,param_range=param_range, cv=10, scoring=\"r2\"\n",
    "#         )\n",
    "        \n",
    "        plt.title('validation curve for random forest')\n",
    "        plt.semilogx(param_range, train_mean, label=\"Training score\",\n",
    "             color=\"darkorange\", lw=2)\n",
    "        plt.fill_between(param_range, train_mean - train_std,\n",
    "                 train_mean + train_std, alpha=0.2,\n",
    "                 color=\"darkorange\", lw=2)\n",
    "        plt.semilogx(param_range, train_mean, label=\"Validatgion score\",\n",
    "             color=\"g\", lw=2)\n",
    "        plt.fill_between(param_range, test_mean - train_std,\n",
    "                 train_mean + train_std, alpha=0.2,\n",
    "                 color='g', lw=2)\n",
    "        plt.legend()\n",
    "        plt.show()\n",
    "    \n",
    "    def main(self,dataframe):\n",
    "        try:\n",
    "            train_sizes = [1,50,100,200,500,2000,5000,7000,9000,12000,13000]\n",
    "            self.Random_Forest_Regression_demo(dataframe)\n",
    "            self.learning_curve(RandomForestRegressor(),dataframe.drop('y',axis=1),dataframe['y'],train_sizes,5)\n",
    "            \n",
    "            self.validation_Curve(DecisionTreeRegressor(),dataframe.drop('y',axis=1),dataframe['y'],5)\n",
    "        except Exception as e:\n",
    "            print(\"Process stopped because \",e)\n",
    "\n",
    "# if __name__ == '__main__':\n",
    "#     obj = Random_Forest_Regression()\n",
    "#     obj.main(dataframe)"
   ]
  },
  {
   "cell_type": "code",
   "execution_count": 52,
   "metadata": {},
   "outputs": [
    {
     "name": "stdout",
     "output_type": "stream",
     "text": [
      "Random Forest Regression\n"
     ]
    }
   ],
   "source": [
    "obj = Random_Forest_Regression()\n",
    "train_sizes = [1,50,100,200,500,2000,5000,7000,9000,12000,13000]"
   ]
  },
  {
   "cell_type": "code",
   "execution_count": 53,
   "metadata": {},
   "outputs": [],
   "source": [
    "samp = dataframe['weekday']"
   ]
  },
  {
   "cell_type": "code",
   "execution_count": 54,
   "metadata": {},
   "outputs": [
    {
     "name": "stdout",
     "output_type": "stream",
     "text": [
      "Train scores: \n",
      "[[  -0.           -0.           -0.           -0.           -0.        ]\n",
      " [-318.6924      -10.2082      -11.6346      -13.0342       -8.246     ]\n",
      " [ -70.9505       -8.4519      -13.6189      -11.4093       -8.5141    ]\n",
      " [ -71.68555      -4.8527       -6.13815      -5.2947       -3.66435   ]\n",
      " [ -19.03832      -3.0501       -1.61956      -1.64916      -1.8325    ]\n",
      " [  -6.18618      -2.71644      -2.828545     -2.457285     -3.46593   ]\n",
      " [  -2.881418     -2.30496      -2.054868     -2.306092     -2.419756  ]\n",
      " [  -3.13367429   -2.77587857   -2.57072286   -2.48247429   -2.28648571]\n",
      " [  -4.30781111   -3.42043667   -4.12374889   -1.70895222   -1.65187333]\n",
      " [  -2.68277167   -2.80042167   -2.60336667   -2.23702333   -2.29250083]\n",
      " [  -2.52629308   -2.43045      -2.49046462   -2.01211538   -2.17705846]]\n",
      " Validation scores: \n",
      "[[-6.09284658e+04 -5.12481821e+04 -3.25623300e+04 -1.08023467e+05\n",
      "  -1.02797324e+05]\n",
      " [-1.17636290e+03 -2.86614548e+04 -1.91365250e+04 -7.50903744e+04\n",
      "  -7.01146118e+04]\n",
      " [-4.51735541e+02 -1.30579455e+04 -7.55020875e+03 -4.37692491e+04\n",
      "  -4.08024603e+04]\n",
      " [-2.30059830e+02 -1.18911679e+04 -6.40664694e+03 -4.06335077e+04\n",
      "  -3.88293633e+04]\n",
      " [-1.06980236e+02 -1.09663106e+04 -5.24934539e+03 -3.63451227e+04\n",
      "  -3.44377393e+04]\n",
      " [-3.50723648e+01 -4.14073015e+03 -2.40578188e+03 -2.01668756e+04\n",
      "  -2.23820150e+04]\n",
      " [-1.17934148e+01 -4.41543930e+01 -5.59178510e+01 -2.35480289e+03\n",
      "  -3.05809578e+03]\n",
      " [-1.09110184e+01 -2.72853107e+01 -4.02807250e+01 -1.93092898e+03\n",
      "  -2.74220681e+03]\n",
      " [-9.04859896e+00 -1.32932336e+01 -7.99884062e+00 -2.05610375e+03\n",
      "  -2.56098130e+03]\n",
      " [-4.98634638e+00 -9.14065593e+00 -5.33543153e+00 -7.66120109e+01\n",
      "  -2.17090886e+02]\n",
      " [-5.23458285e+00 -5.78972382e+00 -4.09907365e+00 -5.20919160e+01\n",
      "  -8.47144058e+01]]\n",
      "\n"
     ]
    },
    {
     "data": {
      "image/png": "[encoded data removed]",
      "text/plain": [
       "<Figure size 432x288 with 1 Axes>"
      ]
     },
     "metadata": {
      "needs_background": "light"
     },
     "output_type": "display_data"
    },
    {
     "data": {
      "image/png": "[encoded data removed]",
      "text/plain": [
       "<Figure size 432x288 with 1 Axes>"
      ]
     },
     "metadata": {
      "needs_background": "light"
     },
     "output_type": "display_data"
    }
   ],
   "source": [
    "obj.learning_curve(RandomForestRegressor(),dataframe.drop('y',axis=1),dataframe['y'],train_sizes,5)"
   ]
  },
  {
   "cell_type": "markdown",
   "metadata": {},
   "source": [
    "# The curve shows that it is converging and hence adding more sample won't help in increasing accuracy."
   ]
  },
  {
   "cell_type": "code",
   "execution_count": 55,
   "metadata": {},
   "outputs": [
    {
     "data": {
      "image/png": "[encoded data removed]",
      "text/plain": [
       "<Figure size 432x288 with 1 Axes>"
      ]
     },
     "metadata": {
      "needs_background": "light"
     },
     "output_type": "display_data"
    }
   ],
   "source": [
    "obj.validation_Curve(RandomForestRegressor(),dataframe.drop('y',axis=1),dataframe['y'],5)"
   ]
  }
 ],
 "metadata": {
  "kernelspec": {
   "display_name": "Python 3",
   "language": "python",
   "name": "python3"
  },
  "language_info": {
   "codemirror_mode": {
    "name": "ipython",
    "version": 3
   },
   "file_extension": ".py",
   "mimetype": "text/x-python",
   "name": "python",
   "nbconvert_exporter": "python",
   "pygments_lexer": "ipython3",
   "version": "3.7.2"
  }
 },
 "nbformat": 4,
 "nbformat_minor": 2
}
