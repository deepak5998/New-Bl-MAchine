{
 "cells": [
  {
   "cell_type": "code",
   "execution_count": 2,
   "metadata": {},
   "outputs": [],
   "source": [
    "from sklearn.neighbors import KNeighborsClassifier\n",
    "from sklearn.preprocessing import *\n",
    "from sklearn.metrics import *\n",
    "import pandas as pd\n",
    "import numpy as np\n",
    "import seaborn as sns\n",
    "import matplotlib.pyplot as plt\n",
    "from sklearn.datasets import load_iris"
   ]
  },
  {
   "cell_type": "code",
   "execution_count": 11,
   "metadata": {},
   "outputs": [],
   "source": [
    "columns = ['sepal_length_cm', 'sepal_width_cm','petal_length_cm', 'petal_width_cm']"
   ]
  },
  {
   "cell_type": "code",
   "execution_count": 6,
   "metadata": {},
   "outputs": [],
   "source": [
    "data_x = pd.DataFrame(load_iris()['data'])"
   ]
  },
  {
   "cell_type": "code",
   "execution_count": 12,
   "metadata": {},
   "outputs": [],
   "source": [
    "data_x.columns=columns"
   ]
  },
  {
   "cell_type": "code",
   "execution_count": 15,
   "metadata": {},
   "outputs": [],
   "source": [
    "data_y = pd.DataFrame(load_iris()['target'])"
   ]
  },
  {
   "cell_type": "code",
   "execution_count": 14,
   "metadata": {},
   "outputs": [
    {
     "data": {
      "text/html": [
       "<div>\n",
       "<style scoped>\n",
       "    .dataframe tbody tr th:only-of-type {\n",
       "        vertical-align: middle;\n",
       "    }\n",
       "\n",
       "    .dataframe tbody tr th {\n",
       "        vertical-align: top;\n",
       "    }\n",
       "\n",
       "    .dataframe thead th {\n",
       "        text-align: right;\n",
       "    }\n",
       "</style>\n",
       "<table border=\"1\" class=\"dataframe\">\n",
       "  <thead>\n",
       "    <tr style=\"text-align: right;\">\n",
       "      <th></th>\n",
       "      <th>sepal_length_cm</th>\n",
       "      <th>sepal_width_cm</th>\n",
       "      <th>petal_length_cm</th>\n",
       "      <th>petal_width_cm</th>\n",
       "    </tr>\n",
       "  </thead>\n",
       "  <tbody>\n",
       "    <tr>\n",
       "      <th>0</th>\n",
       "      <td>5.1</td>\n",
       "      <td>3.5</td>\n",
       "      <td>1.4</td>\n",
       "      <td>0.2</td>\n",
       "    </tr>\n",
       "    <tr>\n",
       "      <th>1</th>\n",
       "      <td>4.9</td>\n",
       "      <td>3.0</td>\n",
       "      <td>1.4</td>\n",
       "      <td>0.2</td>\n",
       "    </tr>\n",
       "    <tr>\n",
       "      <th>2</th>\n",
       "      <td>4.7</td>\n",
       "      <td>3.2</td>\n",
       "      <td>1.3</td>\n",
       "      <td>0.2</td>\n",
       "    </tr>\n",
       "    <tr>\n",
       "      <th>3</th>\n",
       "      <td>4.6</td>\n",
       "      <td>3.1</td>\n",
       "      <td>1.5</td>\n",
       "      <td>0.2</td>\n",
       "    </tr>\n",
       "    <tr>\n",
       "      <th>4</th>\n",
       "      <td>5.0</td>\n",
       "      <td>3.6</td>\n",
       "      <td>1.4</td>\n",
       "      <td>0.2</td>\n",
       "    </tr>\n",
       "  </tbody>\n",
       "</table>\n",
       "</div>"
      ],
      "text/plain": [
       "   sepal_length_cm  sepal_width_cm  petal_length_cm  petal_width_cm\n",
       "0              5.1             3.5              1.4             0.2\n",
       "1              4.9             3.0              1.4             0.2\n",
       "2              4.7             3.2              1.3             0.2\n",
       "3              4.6             3.1              1.5             0.2\n",
       "4              5.0             3.6              1.4             0.2"
      ]
     },
     "execution_count": 14,
     "metadata": {},
     "output_type": "execute_result"
    }
   ],
   "source": [
    "data_x.head()"
   ]
  },
  {
   "cell_type": "code",
   "execution_count": 26,
   "metadata": {},
   "outputs": [
    {
     "data": {
      "text/plain": [
       "(150, 1)"
      ]
     },
     "execution_count": 26,
     "metadata": {},
     "output_type": "execute_result"
    }
   ],
   "source": [
    "data_y.shape"
   ]
  },
  {
   "cell_type": "code",
   "execution_count": 20,
   "metadata": {},
   "outputs": [],
   "source": [
    "a=np.array([[1,2,3,4]])\n",
    "b=np.array([[2,3,4,5],[3,4,5,6]])"
   ]
  },
  {
   "cell_type": "code",
   "execution_count": 25,
   "metadata": {},
   "outputs": [
    {
     "name": "stdout",
     "output_type": "stream",
     "text": [
      "-4\n",
      "-8\n"
     ]
    }
   ],
   "source": [
    "for i in a:\n",
    "    for j in b:\n",
    "        print(np.sum(np.subtract(i,j)))"
   ]
  },
  {
   "cell_type": "code",
   "execution_count": 27,
   "metadata": {},
   "outputs": [],
   "source": [
    "def split(dataframe,n):\n",
    "    test_data = dataframe.tail(n).reset_index(drop=True)\n",
    "    return dataframe.head(dataframe.shape[0]-n).reset_index(), test_data.reset_index()"
   ]
  },
  {
   "cell_type": "code",
   "execution_count": 29,
   "metadata": {},
   "outputs": [],
   "source": [
    "features_train,features_test = split(data_x,30)"
   ]
  },
  {
   "cell_type": "code",
   "execution_count": 30,
   "metadata": {},
   "outputs": [],
   "source": [
    "output_train , output_test = split(data_y,30)"
   ]
  },
  {
   "cell_type": "code",
   "execution_count": null,
   "metadata": {},
   "outputs": [],
   "source": []
  },
  {
   "cell_type": "code",
   "execution_count": null,
   "metadata": {},
   "outputs": [],
   "source": [
    "def KNN_Algo(dataframe,data_outputs,test_data):\n",
    "    # stores the num rows in test data\n",
    "    test_size = test_data.shape[0]\n",
    "    # stores the num rows in dataframe\n",
    "    data_size = dataframe.shape[0]\n",
    "    # storing original outputs\n",
    "    original_outputs = test_data.loc[:,'y']\n",
    "    # storing the outputs of dataframe\n",
    "    data_outputs = dataframe['y']\n",
    "    # deleting the outputs from dataframe for computing\n",
    "    dataframe = dataframe.drop('y',axis=1)\n",
    "    #deleting the output rows as we'll be compuing on the basis of other rows\n",
    "    test_data = test_data.drop('y', axis=1)\n",
    "    predicted_outputs = pd.Series(np.zeros(test_size))\n",
    "    # Data frame to store the distances using Eucledian distance\n",
    "    Eucledian_dist = pd.DataFrame(columns=['dist','y'])\n",
    "    k = 5\n",
    "    for counter1 in range(0,test_size):\n",
    "        for counter2 in range(0,data_size):\n",
    "            Eucledian_dist.loc[counter2,'dist'] = np.sum(np.square(\n",
    "                                                  np.subtract(test_data.iloc[counter1,:],dataframe.iloc[counter2,:]\n",
    "                                                  )\n",
    "                                                )\n",
    "                                             )\n",
    "            # storing the values of the output as well so that when we sort the outputs should also be sorted for comparison\n",
    "            Eucledian_dist.loc[counter2,'y'] = data_outputs[counter2]\n",
    "        # taking square roots \n",
    "        Eucledian_dist.dist = np.power(Eucledian_dist.dist,0.5)\n",
    "        Eucledian_dist = Eucledian_dist.sort_values(by=['dist'])\n",
    "#         print(Eucledian_dist.head(),'tail', Eucledian_dist.tail(),'uniques', Eucledian_dist.nunique())\n",
    "        # If the sum of top k elements more than half of the value of K \n",
    "        # eg. k = 5 and number of 1 is 3 that is greater than 2.5 then it sores 1 else 0\n",
    "        if((Eucledian_dist.y[:k]==1).sum() >(k/2)):\n",
    "            predicted_outputs[counter1] = 1\n",
    "        else: \n",
    "            predicted_outputs[counter1] = 0\n",
    "#         print(\"Testcase:{}, predicted:{}\".format(counter1,predicted_outputs[counter1]))\n",
    "    # taking count of similar elements\n",
    "    similars = (original_outputs[:]==predicted_outputs[:]).sum()\n",
    "    accuracy  = similars/test_size\n",
    "    print(\"Accuracy\",accuracy*100)"
   ]
  }
 ],
 "metadata": {
  "kernelspec": {
   "display_name": "Python 3",
   "language": "python",
   "name": "python3"
  },
  "language_info": {
   "codemirror_mode": {
    "name": "ipython",
    "version": 3
   },
   "file_extension": ".py",
   "mimetype": "text/x-python",
   "name": "python",
   "nbconvert_exporter": "python",
   "pygments_lexer": "ipython3",
   "version": "3.7.1"
  }
 },
 "nbformat": 4,
 "nbformat_minor": 2
}
