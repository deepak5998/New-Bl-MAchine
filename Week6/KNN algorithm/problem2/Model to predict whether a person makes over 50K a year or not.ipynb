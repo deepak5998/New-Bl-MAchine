{
 "cells": [
  {
   "cell_type": "code",
   "execution_count": 340,
   "metadata": {},
   "outputs": [],
   "source": [
    "import numpy as np\n",
    "import pandas as pd\n",
    "import matplotlib.pyplot as plt"
   ]
  },
  {
   "cell_type": "code",
   "execution_count": 341,
   "metadata": {},
   "outputs": [],
   "source": [
    "dataframe = pd.read_csv('Data/classification_2.csv')"
   ]
  },
  {
   "cell_type": "code",
   "execution_count": 342,
   "metadata": {},
   "outputs": [],
   "source": [
    "dataframe = dataframe.head(1500)"
   ]
  },
  {
   "cell_type": "code",
   "execution_count": 343,
   "metadata": {},
   "outputs": [
    {
     "data": {
      "text/plain": [
       "39                  67\n",
       " State-gov           7\n",
       " 77516            1465\n",
       " Bachelors          16\n",
       " 13                 16\n",
       " Never-married       7\n",
       " Adm-clerical       15\n",
       " Not-in-family       6\n",
       " White               5\n",
       " Male                2\n",
       " 2174               43\n",
       " 0                  35\n",
       " 40                 64\n",
       " United-States      32\n",
       " <=50K               2\n",
       "dtype: int64"
      ]
     },
     "execution_count": 343,
     "metadata": {},
     "output_type": "execute_result"
    }
   ],
   "source": [
    "dataframe.nunique()"
   ]
  },
  {
   "cell_type": "code",
   "execution_count": 344,
   "metadata": {},
   "outputs": [],
   "source": [
    "# as there were spaces in the cloumn names we had to remove the spaces form the column names\n",
    "dataframe.columns = dataframe.columns.str.strip()"
   ]
  },
  {
   "cell_type": "code",
   "execution_count": 345,
   "metadata": {},
   "outputs": [],
   "source": [
    "dataframe = dataframe.drop(['State-gov', 'Bachelors','Adm-clerical', 'Not-in-family', 'White', 'United-States', 'Male'], axis=1)"
   ]
  },
  {
   "cell_type": "code",
   "execution_count": 346,
   "metadata": {},
   "outputs": [],
   "source": [
    "new_columns = {'<=50K':'y'}\n",
    "dataframe.rename(columns=new_columns, inplace=True)"
   ]
  },
  {
   "cell_type": "code",
   "execution_count": 347,
   "metadata": {},
   "outputs": [
    {
     "name": "stdout",
     "output_type": "stream",
     "text": [
      "<class 'pandas.core.frame.DataFrame'>\n",
      "RangeIndex: 1500 entries, 0 to 1499\n",
      "Data columns (total 8 columns):\n",
      "39               1500 non-null int64\n",
      "77516            1500 non-null int64\n",
      "13               1500 non-null int64\n",
      "Never-married    1500 non-null object\n",
      "2174             1500 non-null int64\n",
      "0                1500 non-null int64\n",
      "40               1500 non-null int64\n",
      "y                1500 non-null object\n",
      "dtypes: int64(6), object(2)\n",
      "memory usage: 93.8+ KB\n"
     ]
    }
   ],
   "source": [
    "dataframe.info()"
   ]
  },
  {
   "cell_type": "code",
   "execution_count": 348,
   "metadata": {},
   "outputs": [],
   "source": [
    "dataframe.y = dataframe.y.str.strip()"
   ]
  },
  {
   "cell_type": "code",
   "execution_count": 349,
   "metadata": {},
   "outputs": [
    {
     "data": {
      "text/plain": [
       "39               0\n",
       "77516            0\n",
       "13               0\n",
       "Never-married    0\n",
       "2174             0\n",
       "0                0\n",
       "40               0\n",
       "y                0\n",
       "dtype: int64"
      ]
     },
     "execution_count": 349,
     "metadata": {},
     "output_type": "execute_result"
    }
   ],
   "source": [
    "(dataframe.isna()).sum()"
   ]
  },
  {
   "cell_type": "code",
   "execution_count": 350,
   "metadata": {},
   "outputs": [
    {
     "data": {
      "text/html": [
       "<div>\n",
       "<style scoped>\n",
       "    .dataframe tbody tr th:only-of-type {\n",
       "        vertical-align: middle;\n",
       "    }\n",
       "\n",
       "    .dataframe tbody tr th {\n",
       "        vertical-align: top;\n",
       "    }\n",
       "\n",
       "    .dataframe thead th {\n",
       "        text-align: right;\n",
       "    }\n",
       "</style>\n",
       "<table border=\"1\" class=\"dataframe\">\n",
       "  <thead>\n",
       "    <tr style=\"text-align: right;\">\n",
       "      <th></th>\n",
       "      <th>39</th>\n",
       "      <th>77516</th>\n",
       "      <th>13</th>\n",
       "      <th>Never-married</th>\n",
       "      <th>2174</th>\n",
       "      <th>0</th>\n",
       "      <th>40</th>\n",
       "      <th>y</th>\n",
       "    </tr>\n",
       "  </thead>\n",
       "  <tbody>\n",
       "    <tr>\n",
       "      <th>0</th>\n",
       "      <td>50</td>\n",
       "      <td>83311</td>\n",
       "      <td>13</td>\n",
       "      <td>Married-civ-spouse</td>\n",
       "      <td>0</td>\n",
       "      <td>0</td>\n",
       "      <td>13</td>\n",
       "      <td>&lt;=50K</td>\n",
       "    </tr>\n",
       "    <tr>\n",
       "      <th>1</th>\n",
       "      <td>38</td>\n",
       "      <td>215646</td>\n",
       "      <td>9</td>\n",
       "      <td>Divorced</td>\n",
       "      <td>0</td>\n",
       "      <td>0</td>\n",
       "      <td>40</td>\n",
       "      <td>&lt;=50K</td>\n",
       "    </tr>\n",
       "    <tr>\n",
       "      <th>2</th>\n",
       "      <td>53</td>\n",
       "      <td>234721</td>\n",
       "      <td>7</td>\n",
       "      <td>Married-civ-spouse</td>\n",
       "      <td>0</td>\n",
       "      <td>0</td>\n",
       "      <td>40</td>\n",
       "      <td>&lt;=50K</td>\n",
       "    </tr>\n",
       "    <tr>\n",
       "      <th>3</th>\n",
       "      <td>28</td>\n",
       "      <td>338409</td>\n",
       "      <td>13</td>\n",
       "      <td>Married-civ-spouse</td>\n",
       "      <td>0</td>\n",
       "      <td>0</td>\n",
       "      <td>40</td>\n",
       "      <td>&lt;=50K</td>\n",
       "    </tr>\n",
       "    <tr>\n",
       "      <th>4</th>\n",
       "      <td>37</td>\n",
       "      <td>284582</td>\n",
       "      <td>14</td>\n",
       "      <td>Married-civ-spouse</td>\n",
       "      <td>0</td>\n",
       "      <td>0</td>\n",
       "      <td>40</td>\n",
       "      <td>&lt;=50K</td>\n",
       "    </tr>\n",
       "  </tbody>\n",
       "</table>\n",
       "</div>"
      ],
      "text/plain": [
       "   39   77516  13        Never-married  2174  0  40      y\n",
       "0  50   83311  13   Married-civ-spouse     0  0  13  <=50K\n",
       "1  38  215646   9             Divorced     0  0  40  <=50K\n",
       "2  53  234721   7   Married-civ-spouse     0  0  40  <=50K\n",
       "3  28  338409  13   Married-civ-spouse     0  0  40  <=50K\n",
       "4  37  284582  14   Married-civ-spouse     0  0  40  <=50K"
      ]
     },
     "execution_count": 350,
     "metadata": {},
     "output_type": "execute_result"
    }
   ],
   "source": [
    "dataframe.head()"
   ]
  },
  {
   "cell_type": "code",
   "execution_count": 351,
   "metadata": {},
   "outputs": [],
   "source": [
    "dataframe = pd.concat((dataframe, pd.get_dummies(dataframe['Never-married'])),1)\n",
    "column=['Never-married']\n",
    "dataframe = dataframe.drop(column,axis=1)"
   ]
  },
  {
   "cell_type": "code",
   "execution_count": 352,
   "metadata": {},
   "outputs": [
    {
     "data": {
      "text/html": [
       "<div>\n",
       "<style scoped>\n",
       "    .dataframe tbody tr th:only-of-type {\n",
       "        vertical-align: middle;\n",
       "    }\n",
       "\n",
       "    .dataframe tbody tr th {\n",
       "        vertical-align: top;\n",
       "    }\n",
       "\n",
       "    .dataframe thead th {\n",
       "        text-align: right;\n",
       "    }\n",
       "</style>\n",
       "<table border=\"1\" class=\"dataframe\">\n",
       "  <thead>\n",
       "    <tr style=\"text-align: right;\">\n",
       "      <th></th>\n",
       "      <th>39</th>\n",
       "      <th>77516</th>\n",
       "      <th>13</th>\n",
       "      <th>2174</th>\n",
       "      <th>0</th>\n",
       "      <th>40</th>\n",
       "      <th>y</th>\n",
       "      <th>Divorced</th>\n",
       "      <th>Married-AF-spouse</th>\n",
       "      <th>Married-civ-spouse</th>\n",
       "      <th>Married-spouse-absent</th>\n",
       "      <th>Never-married</th>\n",
       "      <th>Separated</th>\n",
       "      <th>Widowed</th>\n",
       "    </tr>\n",
       "  </thead>\n",
       "  <tbody>\n",
       "    <tr>\n",
       "      <th>0</th>\n",
       "      <td>50</td>\n",
       "      <td>83311</td>\n",
       "      <td>13</td>\n",
       "      <td>0</td>\n",
       "      <td>0</td>\n",
       "      <td>13</td>\n",
       "      <td>&lt;=50K</td>\n",
       "      <td>0</td>\n",
       "      <td>0</td>\n",
       "      <td>1</td>\n",
       "      <td>0</td>\n",
       "      <td>0</td>\n",
       "      <td>0</td>\n",
       "      <td>0</td>\n",
       "    </tr>\n",
       "    <tr>\n",
       "      <th>1</th>\n",
       "      <td>38</td>\n",
       "      <td>215646</td>\n",
       "      <td>9</td>\n",
       "      <td>0</td>\n",
       "      <td>0</td>\n",
       "      <td>40</td>\n",
       "      <td>&lt;=50K</td>\n",
       "      <td>1</td>\n",
       "      <td>0</td>\n",
       "      <td>0</td>\n",
       "      <td>0</td>\n",
       "      <td>0</td>\n",
       "      <td>0</td>\n",
       "      <td>0</td>\n",
       "    </tr>\n",
       "    <tr>\n",
       "      <th>2</th>\n",
       "      <td>53</td>\n",
       "      <td>234721</td>\n",
       "      <td>7</td>\n",
       "      <td>0</td>\n",
       "      <td>0</td>\n",
       "      <td>40</td>\n",
       "      <td>&lt;=50K</td>\n",
       "      <td>0</td>\n",
       "      <td>0</td>\n",
       "      <td>1</td>\n",
       "      <td>0</td>\n",
       "      <td>0</td>\n",
       "      <td>0</td>\n",
       "      <td>0</td>\n",
       "    </tr>\n",
       "    <tr>\n",
       "      <th>3</th>\n",
       "      <td>28</td>\n",
       "      <td>338409</td>\n",
       "      <td>13</td>\n",
       "      <td>0</td>\n",
       "      <td>0</td>\n",
       "      <td>40</td>\n",
       "      <td>&lt;=50K</td>\n",
       "      <td>0</td>\n",
       "      <td>0</td>\n",
       "      <td>1</td>\n",
       "      <td>0</td>\n",
       "      <td>0</td>\n",
       "      <td>0</td>\n",
       "      <td>0</td>\n",
       "    </tr>\n",
       "    <tr>\n",
       "      <th>4</th>\n",
       "      <td>37</td>\n",
       "      <td>284582</td>\n",
       "      <td>14</td>\n",
       "      <td>0</td>\n",
       "      <td>0</td>\n",
       "      <td>40</td>\n",
       "      <td>&lt;=50K</td>\n",
       "      <td>0</td>\n",
       "      <td>0</td>\n",
       "      <td>1</td>\n",
       "      <td>0</td>\n",
       "      <td>0</td>\n",
       "      <td>0</td>\n",
       "      <td>0</td>\n",
       "    </tr>\n",
       "  </tbody>\n",
       "</table>\n",
       "</div>"
      ],
      "text/plain": [
       "   39   77516  13  2174  0  40      y   Divorced   Married-AF-spouse  \\\n",
       "0  50   83311  13     0  0  13  <=50K          0                   0   \n",
       "1  38  215646   9     0  0  40  <=50K          1                   0   \n",
       "2  53  234721   7     0  0  40  <=50K          0                   0   \n",
       "3  28  338409  13     0  0  40  <=50K          0                   0   \n",
       "4  37  284582  14     0  0  40  <=50K          0                   0   \n",
       "\n",
       "    Married-civ-spouse   Married-spouse-absent   Never-married   Separated  \\\n",
       "0                    1                       0               0           0   \n",
       "1                    0                       0               0           0   \n",
       "2                    1                       0               0           0   \n",
       "3                    1                       0               0           0   \n",
       "4                    1                       0               0           0   \n",
       "\n",
       "    Widowed  \n",
       "0         0  \n",
       "1         0  \n",
       "2         0  \n",
       "3         0  \n",
       "4         0  "
      ]
     },
     "execution_count": 352,
     "metadata": {},
     "output_type": "execute_result"
    }
   ],
   "source": [
    "dataframe.head()"
   ]
  },
  {
   "cell_type": "code",
   "execution_count": 353,
   "metadata": {},
   "outputs": [
    {
     "data": {
      "text/plain": [
       "<matplotlib.axes._subplots.AxesSubplot at 0x24ce0cf11d0>"
      ]
     },
     "execution_count": 353,
     "metadata": {},
     "output_type": "execute_result"
    },
    {
     "data": {
      "image/png": "[encoded data removed]",
      "text/plain": [
       "<Figure size 432x288 with 1 Axes>"
      ]
     },
     "metadata": {
      "needs_background": "light"
     },
     "output_type": "display_data"
    }
   ],
   "source": [
    "dataframe.boxplot(rot=45)"
   ]
  },
  {
   "cell_type": "code",
   "execution_count": 354,
   "metadata": {},
   "outputs": [
    {
     "name": "stdout",
     "output_type": "stream",
     "text": [
      "<class 'pandas.core.frame.DataFrame'>\n",
      "RangeIndex: 1500 entries, 0 to 1499\n",
      "Data columns (total 14 columns):\n",
      "39                        1500 non-null int64\n",
      "77516                     1500 non-null int64\n",
      "13                        1500 non-null int64\n",
      "2174                      1500 non-null int64\n",
      "0                         1500 non-null int64\n",
      "40                        1500 non-null int64\n",
      "y                         1500 non-null object\n",
      " Divorced                 1500 non-null uint8\n",
      " Married-AF-spouse        1500 non-null uint8\n",
      " Married-civ-spouse       1500 non-null uint8\n",
      " Married-spouse-absent    1500 non-null uint8\n",
      " Never-married            1500 non-null uint8\n",
      " Separated                1500 non-null uint8\n",
      " Widowed                  1500 non-null uint8\n",
      "dtypes: int64(6), object(1), uint8(7)\n",
      "memory usage: 92.4+ KB\n"
     ]
    }
   ],
   "source": [
    "dataframe.info()"
   ]
  },
  {
   "cell_type": "code",
   "execution_count": 355,
   "metadata": {},
   "outputs": [],
   "source": [
    "def feature_scaling(dataframe,column):\n",
    "    dataframe[column] = np.divide(np.subtract(dataframe[column],dataframe[column].mean()),\n",
    "                                  dataframe[column].std())\n",
    "    return dataframe[column]"
   ]
  },
  {
   "cell_type": "code",
   "execution_count": 356,
   "metadata": {},
   "outputs": [],
   "source": [
    "column = ['77516','2174','13','39','40','0']\n",
    "for item in column:\n",
    "    dataframe[item] = dataframe[item].astype(float)\n",
    "for item in column:\n",
    "    dataframe[item] = feature_scaling(dataframe,item)"
   ]
  },
  {
   "cell_type": "code",
   "execution_count": 357,
   "metadata": {},
   "outputs": [
    {
     "data": {
      "text/html": [
       "<div>\n",
       "<style scoped>\n",
       "    .dataframe tbody tr th:only-of-type {\n",
       "        vertical-align: middle;\n",
       "    }\n",
       "\n",
       "    .dataframe tbody tr th {\n",
       "        vertical-align: top;\n",
       "    }\n",
       "\n",
       "    .dataframe thead th {\n",
       "        text-align: right;\n",
       "    }\n",
       "</style>\n",
       "<table border=\"1\" class=\"dataframe\">\n",
       "  <thead>\n",
       "    <tr style=\"text-align: right;\">\n",
       "      <th></th>\n",
       "      <th>39</th>\n",
       "      <th>77516</th>\n",
       "      <th>13</th>\n",
       "      <th>2174</th>\n",
       "      <th>0</th>\n",
       "      <th>40</th>\n",
       "      <th>y</th>\n",
       "      <th>Divorced</th>\n",
       "      <th>Married-AF-spouse</th>\n",
       "      <th>Married-civ-spouse</th>\n",
       "      <th>Married-spouse-absent</th>\n",
       "      <th>Never-married</th>\n",
       "      <th>Separated</th>\n",
       "      <th>Widowed</th>\n",
       "    </tr>\n",
       "  </thead>\n",
       "  <tbody>\n",
       "    <tr>\n",
       "      <th>0</th>\n",
       "      <td>0.844325</td>\n",
       "      <td>-1.012325</td>\n",
       "      <td>1.152291</td>\n",
       "      <td>-0.151273</td>\n",
       "      <td>-0.232798</td>\n",
       "      <td>-2.252985</td>\n",
       "      <td>&lt;=50K</td>\n",
       "      <td>0</td>\n",
       "      <td>0</td>\n",
       "      <td>1</td>\n",
       "      <td>0</td>\n",
       "      <td>0</td>\n",
       "      <td>0</td>\n",
       "      <td>0</td>\n",
       "    </tr>\n",
       "    <tr>\n",
       "      <th>1</th>\n",
       "      <td>-0.055222</td>\n",
       "      <td>0.219254</td>\n",
       "      <td>-0.457054</td>\n",
       "      <td>-0.151273</td>\n",
       "      <td>-0.232798</td>\n",
       "      <td>-0.036073</td>\n",
       "      <td>&lt;=50K</td>\n",
       "      <td>1</td>\n",
       "      <td>0</td>\n",
       "      <td>0</td>\n",
       "      <td>0</td>\n",
       "      <td>0</td>\n",
       "      <td>0</td>\n",
       "      <td>0</td>\n",
       "    </tr>\n",
       "    <tr>\n",
       "      <th>2</th>\n",
       "      <td>1.069212</td>\n",
       "      <td>0.396776</td>\n",
       "      <td>-1.261727</td>\n",
       "      <td>-0.151273</td>\n",
       "      <td>-0.232798</td>\n",
       "      <td>-0.036073</td>\n",
       "      <td>&lt;=50K</td>\n",
       "      <td>0</td>\n",
       "      <td>0</td>\n",
       "      <td>1</td>\n",
       "      <td>0</td>\n",
       "      <td>0</td>\n",
       "      <td>0</td>\n",
       "      <td>0</td>\n",
       "    </tr>\n",
       "    <tr>\n",
       "      <th>3</th>\n",
       "      <td>-0.804845</td>\n",
       "      <td>1.361751</td>\n",
       "      <td>1.152291</td>\n",
       "      <td>-0.151273</td>\n",
       "      <td>-0.232798</td>\n",
       "      <td>-0.036073</td>\n",
       "      <td>&lt;=50K</td>\n",
       "      <td>0</td>\n",
       "      <td>0</td>\n",
       "      <td>1</td>\n",
       "      <td>0</td>\n",
       "      <td>0</td>\n",
       "      <td>0</td>\n",
       "      <td>0</td>\n",
       "    </tr>\n",
       "    <tr>\n",
       "      <th>4</th>\n",
       "      <td>-0.130185</td>\n",
       "      <td>0.860808</td>\n",
       "      <td>1.554628</td>\n",
       "      <td>-0.151273</td>\n",
       "      <td>-0.232798</td>\n",
       "      <td>-0.036073</td>\n",
       "      <td>&lt;=50K</td>\n",
       "      <td>0</td>\n",
       "      <td>0</td>\n",
       "      <td>1</td>\n",
       "      <td>0</td>\n",
       "      <td>0</td>\n",
       "      <td>0</td>\n",
       "      <td>0</td>\n",
       "    </tr>\n",
       "  </tbody>\n",
       "</table>\n",
       "</div>"
      ],
      "text/plain": [
       "         39     77516        13      2174         0        40      y  \\\n",
       "0  0.844325 -1.012325  1.152291 -0.151273 -0.232798 -2.252985  <=50K   \n",
       "1 -0.055222  0.219254 -0.457054 -0.151273 -0.232798 -0.036073  <=50K   \n",
       "2  1.069212  0.396776 -1.261727 -0.151273 -0.232798 -0.036073  <=50K   \n",
       "3 -0.804845  1.361751  1.152291 -0.151273 -0.232798 -0.036073  <=50K   \n",
       "4 -0.130185  0.860808  1.554628 -0.151273 -0.232798 -0.036073  <=50K   \n",
       "\n",
       "    Divorced   Married-AF-spouse   Married-civ-spouse   Married-spouse-absent  \\\n",
       "0          0                   0                    1                       0   \n",
       "1          1                   0                    0                       0   \n",
       "2          0                   0                    1                       0   \n",
       "3          0                   0                    1                       0   \n",
       "4          0                   0                    1                       0   \n",
       "\n",
       "    Never-married   Separated   Widowed  \n",
       "0               0           0         0  \n",
       "1               0           0         0  \n",
       "2               0           0         0  \n",
       "3               0           0         0  \n",
       "4               0           0         0  "
      ]
     },
     "execution_count": 357,
     "metadata": {},
     "output_type": "execute_result"
    }
   ],
   "source": [
    "dataframe.head()"
   ]
  },
  {
   "cell_type": "code",
   "execution_count": 358,
   "metadata": {},
   "outputs": [],
   "source": [
    "def split(dataframe):\n",
    "    test_data = dataframe.tail(500).reset_index(drop=True)\n",
    "    # here we reset index as if the index remain same for accessing by index could be difficult\n",
    "    return dataframe.head(len(dataframe)-500).reset_index(), test_data.reset_index()"
   ]
  },
  {
   "cell_type": "code",
   "execution_count": 359,
   "metadata": {},
   "outputs": [],
   "source": [
    "# def Eucledian_distance(dataframe,test_data):\n",
    "    "
   ]
  },
  {
   "cell_type": "code",
   "execution_count": 360,
   "metadata": {},
   "outputs": [
    {
     "data": {
      "text/html": [
       "<div>\n",
       "<style scoped>\n",
       "    .dataframe tbody tr th:only-of-type {\n",
       "        vertical-align: middle;\n",
       "    }\n",
       "\n",
       "    .dataframe tbody tr th {\n",
       "        vertical-align: top;\n",
       "    }\n",
       "\n",
       "    .dataframe thead th {\n",
       "        text-align: right;\n",
       "    }\n",
       "</style>\n",
       "<table border=\"1\" class=\"dataframe\">\n",
       "  <thead>\n",
       "    <tr style=\"text-align: right;\">\n",
       "      <th></th>\n",
       "      <th>39</th>\n",
       "      <th>77516</th>\n",
       "      <th>13</th>\n",
       "      <th>2174</th>\n",
       "      <th>0</th>\n",
       "      <th>40</th>\n",
       "      <th>y</th>\n",
       "      <th>Divorced</th>\n",
       "      <th>Married-AF-spouse</th>\n",
       "      <th>Married-civ-spouse</th>\n",
       "      <th>Married-spouse-absent</th>\n",
       "      <th>Never-married</th>\n",
       "      <th>Separated</th>\n",
       "      <th>Widowed</th>\n",
       "    </tr>\n",
       "  </thead>\n",
       "  <tbody>\n",
       "    <tr>\n",
       "      <th>0</th>\n",
       "      <td>0.844325</td>\n",
       "      <td>-1.012325</td>\n",
       "      <td>1.152291</td>\n",
       "      <td>-0.151273</td>\n",
       "      <td>-0.232798</td>\n",
       "      <td>-2.252985</td>\n",
       "      <td>0</td>\n",
       "      <td>0</td>\n",
       "      <td>0</td>\n",
       "      <td>1</td>\n",
       "      <td>0</td>\n",
       "      <td>0</td>\n",
       "      <td>0</td>\n",
       "      <td>0</td>\n",
       "    </tr>\n",
       "    <tr>\n",
       "      <th>1</th>\n",
       "      <td>-0.055222</td>\n",
       "      <td>0.219254</td>\n",
       "      <td>-0.457054</td>\n",
       "      <td>-0.151273</td>\n",
       "      <td>-0.232798</td>\n",
       "      <td>-0.036073</td>\n",
       "      <td>0</td>\n",
       "      <td>1</td>\n",
       "      <td>0</td>\n",
       "      <td>0</td>\n",
       "      <td>0</td>\n",
       "      <td>0</td>\n",
       "      <td>0</td>\n",
       "      <td>0</td>\n",
       "    </tr>\n",
       "    <tr>\n",
       "      <th>2</th>\n",
       "      <td>1.069212</td>\n",
       "      <td>0.396776</td>\n",
       "      <td>-1.261727</td>\n",
       "      <td>-0.151273</td>\n",
       "      <td>-0.232798</td>\n",
       "      <td>-0.036073</td>\n",
       "      <td>0</td>\n",
       "      <td>0</td>\n",
       "      <td>0</td>\n",
       "      <td>1</td>\n",
       "      <td>0</td>\n",
       "      <td>0</td>\n",
       "      <td>0</td>\n",
       "      <td>0</td>\n",
       "    </tr>\n",
       "    <tr>\n",
       "      <th>3</th>\n",
       "      <td>-0.804845</td>\n",
       "      <td>1.361751</td>\n",
       "      <td>1.152291</td>\n",
       "      <td>-0.151273</td>\n",
       "      <td>-0.232798</td>\n",
       "      <td>-0.036073</td>\n",
       "      <td>0</td>\n",
       "      <td>0</td>\n",
       "      <td>0</td>\n",
       "      <td>1</td>\n",
       "      <td>0</td>\n",
       "      <td>0</td>\n",
       "      <td>0</td>\n",
       "      <td>0</td>\n",
       "    </tr>\n",
       "    <tr>\n",
       "      <th>4</th>\n",
       "      <td>-0.130185</td>\n",
       "      <td>0.860808</td>\n",
       "      <td>1.554628</td>\n",
       "      <td>-0.151273</td>\n",
       "      <td>-0.232798</td>\n",
       "      <td>-0.036073</td>\n",
       "      <td>0</td>\n",
       "      <td>0</td>\n",
       "      <td>0</td>\n",
       "      <td>1</td>\n",
       "      <td>0</td>\n",
       "      <td>0</td>\n",
       "      <td>0</td>\n",
       "      <td>0</td>\n",
       "    </tr>\n",
       "  </tbody>\n",
       "</table>\n",
       "</div>"
      ],
      "text/plain": [
       "         39     77516        13      2174         0        40  y   Divorced  \\\n",
       "0  0.844325 -1.012325  1.152291 -0.151273 -0.232798 -2.252985  0          0   \n",
       "1 -0.055222  0.219254 -0.457054 -0.151273 -0.232798 -0.036073  0          1   \n",
       "2  1.069212  0.396776 -1.261727 -0.151273 -0.232798 -0.036073  0          0   \n",
       "3 -0.804845  1.361751  1.152291 -0.151273 -0.232798 -0.036073  0          0   \n",
       "4 -0.130185  0.860808  1.554628 -0.151273 -0.232798 -0.036073  0          0   \n",
       "\n",
       "    Married-AF-spouse   Married-civ-spouse   Married-spouse-absent  \\\n",
       "0                   0                    1                       0   \n",
       "1                   0                    0                       0   \n",
       "2                   0                    1                       0   \n",
       "3                   0                    1                       0   \n",
       "4                   0                    1                       0   \n",
       "\n",
       "    Never-married   Separated   Widowed  \n",
       "0               0           0         0  \n",
       "1               0           0         0  \n",
       "2               0           0         0  \n",
       "3               0           0         0  \n",
       "4               0           0         0  "
      ]
     },
     "execution_count": 360,
     "metadata": {},
     "output_type": "execute_result"
    }
   ],
   "source": [
    "dataframe.y = dataframe.y.replace({'<=50K': 0, '>50K': 1})\n",
    "dataframe.head()"
   ]
  },
  {
   "cell_type": "code",
   "execution_count": 361,
   "metadata": {},
   "outputs": [],
   "source": [
    "dataframe, test_data = split(dataframe)"
   ]
  },
  {
   "cell_type": "code",
   "execution_count": 362,
   "metadata": {},
   "outputs": [],
   "source": [
    "class KNN_Algo:\n",
    "    def KNN_Algo_demo(dataframe,test_data):\n",
    "        # stores the num rows in test data\n",
    "        test_size = test_data.shape[0]\n",
    "        # stores the num rows in dataframe\n",
    "        data_size = dataframe.shape[0]\n",
    "        # storing original outputs\n",
    "        original_outputs = test_data.loc[:,'y']\n",
    "        # storing the outputs of dataframe\n",
    "        data_outputs = dataframe['y']\n",
    "        # deleting the outputs from dataframe for computing\n",
    "        dataframe = dataframe.drop('y',axis=1)\n",
    "        #deleting the output rows as we'll be compuing on the basis of other rows\n",
    "        test_data = test_data.drop('y', axis=1)\n",
    "        predicted_outputs = pd.Series(np.zeros(test_size))\n",
    "        Eucledian_dist = pd.DataFrame(columns=['dist','y'])\n",
    "        k = 5\n",
    "        for counter1 in range(0,test_size):\n",
    "            for counter2 in range(0,data_size):\n",
    "                Eucledian_dist.loc[counter2,'dist'] = np.sum(\n",
    "                    np.square(\n",
    "                        np.subtract(\n",
    "                            test_data.iloc[counter1,:],dataframe.iloc[counter2,:]\n",
    "                        )\n",
    "                    )\n",
    "                )\n",
    "                Eucledian_dist.loc[counter2,'y'] = data_outputs[counter2]\n",
    "            Eucledian_dist.dist = np.power(Eucledian_dist.dist,0.5)\n",
    "            Eucledian_dist = Eucledian_dist.sort_values(by=['dist'])\n",
    "    #         print(Eucledian_dist.head(),'tail', Eucledian_dist.tail(),'uniques', Eucledian_dist.nunique())\n",
    "            # If the sum of top k elements are x\n",
    "            if((Eucledian_dist.y[:k]=='1').sum() >(k/2)):\n",
    "                predicted_outputs[counter1] = 1\n",
    "            else:\n",
    "                predicted_outputs[counter1] = 0\n",
    "            if(counter1%100 ==0):\n",
    "                print(\"iteration : {}, predicted: {}\".format(counter1,predicted_outputs[counter1]))\n",
    "        similars = (original_outputs[:]==predicted_outputs[:]).sum()\n",
    "        accuracy  = similars/test_size\n",
    "        print(\"Accuracy\",accuracy*100)"
   ]
  },
  {
   "cell_type": "code",
   "execution_count": 363,
   "metadata": {},
   "outputs": [],
   "source": [
    "def main(dataframe,test_data):\n",
    "    KNN_Algo.KNN_Algo_demo(dataframe,test_data)"
   ]
  },
  {
   "cell_type": "code",
   "execution_count": 364,
   "metadata": {},
   "outputs": [
    {
     "name": "stdout",
     "output_type": "stream",
     "text": [
      "iteration : 0, predicted: 0.0\n",
      "iteration : 100, predicted: 0.0\n",
      "iteration : 200, predicted: 0.0\n",
      "iteration : 300, predicted: 0.0\n",
      "iteration : 400, predicted: 0.0\n",
      "Accuracy 72.0\n"
     ]
    }
   ],
   "source": [
    "main(dataframe,test_data)"
   ]
  }
 ],
 "metadata": {
  "kernelspec": {
   "display_name": "Python 3",
   "language": "python",
   "name": "python3"
  },
  "language_info": {
   "codemirror_mode": {
    "name": "ipython",
    "version": 3
   },
   "file_extension": ".py",
   "mimetype": "text/x-python",
   "name": "python",
   "nbconvert_exporter": "python",
   "pygments_lexer": "ipython3",
   "version": "3.7.2"
  }
 },
 "nbformat": 4,
 "nbformat_minor": 2
}
