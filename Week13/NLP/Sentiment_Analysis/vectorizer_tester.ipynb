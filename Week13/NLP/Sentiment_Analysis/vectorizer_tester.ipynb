{
 "cells": [
  {
   "cell_type": "code",
   "execution_count": 8,
   "metadata": {},
   "outputs": [],
   "source": [
    "import pickle\n",
    "import nltk\n",
    "import import_ipynb\n",
    "from sklearn.feature_extraction.text import TfidfVectorizer, CountVectorizer\n",
    "from sklearn.metrics import *"
   ]
  },
  {
   "cell_type": "code",
   "execution_count": 22,
   "metadata": {},
   "outputs": [],
   "source": [
    "def check_result(feature,classifier):\n",
    "    if(classifier.predict(feature)==1):\n",
    "        print('positive')\n",
    "    else:\n",
    "        print('negetive')"
   ]
  },
  {
   "cell_type": "code",
   "execution_count": 23,
   "metadata": {},
   "outputs": [
    {
     "name": "stdout",
     "output_type": "stream",
     "text": [
      "Accurcy score is 0.7157001414427157, f1score is 0.6931297709923664\n",
      "positive\n",
      "negetive\n"
     ]
    }
   ],
   "source": [
    "test_file = open('Data/X_test_cv_data.pkl','rb')\n",
    "x_test_cv = pickle.load(test_file)\n",
    "test_file.close()\n",
    "test_file = open('Data/Y_test_cv_data.pkl','rb')\n",
    "y_test_cv = pickle.load(test_file)\n",
    "test_file.close()\n",
    "model_file = open('model_pickle/Count_vectorizer/classifier.pkl','rb')\n",
    "classifier = pickle.load(model_file)\n",
    "model_file.close()\n",
    "file = open('model_pickle/Count_vectorizer/count_vect.pkl','rb')\n",
    "count_vectorizer = pickle.load(file)\n",
    "file.close()\n",
    "y_pred = classifier.predict(x_test_cv)\n",
    "print(\"Accurcy score is {}, f1score is {}\".format(accuracy_score(y_test_cv,y_pred),f1_score(y_test_cv,y_pred)))\n",
    "feature = count_vectorizer.transform(['movie was good it has romance. wonderful movie.'])\n",
    "check_result(feature,classifier)\n",
    "feature = count_vectorizer.transform(['movie had no scenes and worst acting it was bad.'])\n",
    "check_result(feature,classifier)"
   ]
  },
  {
   "cell_type": "code",
   "execution_count": 25,
   "metadata": {},
   "outputs": [
    {
     "name": "stdout",
     "output_type": "stream",
     "text": [
      "Accurcy score is 0.7065063649222065, f1score is 0.6919079435783222\n",
      "positive\n",
      "negetive\n"
     ]
    }
   ],
   "source": [
    "test_file = open('Data/X_test_tfidf_data.pkl','rb')\n",
    "x_test_cv = pickle.load(test_file)\n",
    "test_file.close()\n",
    "test_file = open('Data/Y_test_tfidf_data.pkl','rb')\n",
    "y_test_cv = pickle.load(test_file)\n",
    "test_file.close()\n",
    "model_file = open('model_pickle/TFidf_vectorizer/classifier.pkl','rb')\n",
    "classifier = pickle.load(model_file)\n",
    "model_file.close()\n",
    "file = open('model_pickle/TFidf_vectorizer/tfid_vectorizer.pkl','rb')\n",
    "count_vectorizer = pickle.load(file)\n",
    "file.close()\n",
    "y_pred = classifier.predict(x_test_cv)\n",
    "print(\"Accurcy score is {}, f1score is {}\".format(accuracy_score(y_test_cv,y_pred),f1_score(y_test_cv,y_pred)))\n",
    "feature = count_vectorizer.transform([\"movie was good it has romance\"])\n",
    "check_result(feature,classifier)\n",
    "feature = count_vectorizer.transform([\"movie had no scenes and worst acting it was bad\"])\n",
    "check_result(feature,classifier)"
   ]
  }
 ],
 "metadata": {
  "kernelspec": {
   "display_name": "Python 3",
   "language": "python",
   "name": "python3"
  },
  "language_info": {
   "codemirror_mode": {
    "name": "ipython",
    "version": 3
   },
   "file_extension": ".py",
   "mimetype": "text/x-python",
   "name": "python",
   "nbconvert_exporter": "python",
   "pygments_lexer": "ipython3",
   "version": "3.7.1"
  }
 },
 "nbformat": 4,
 "nbformat_minor": 2
}
