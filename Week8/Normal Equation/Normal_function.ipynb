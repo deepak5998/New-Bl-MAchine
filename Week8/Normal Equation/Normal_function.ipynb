{
 "cells": [
  {
   "cell_type": "code",
   "execution_count": 545,
   "metadata": {},
   "outputs": [],
   "source": [
    "import importlib.util\n",
    "import pandas as pd\n",
    "import numpy as np\n",
    "import matplotlib.pyplot as plt\n",
    "import seaborn as sns"
   ]
  },
  {
   "cell_type": "code",
   "execution_count": 546,
   "metadata": {},
   "outputs": [
    {
     "name": "stdout",
     "output_type": "stream",
     "text": [
      "Data PreProcessign object created successfully\n"
     ]
    }
   ],
   "source": [
    "spec = importlib.util.spec_from_file_location(\"DataPreprocessing\", \"/home/admin1/PycharmProjects/Machine_learning_Python/Utility/DataPreprocessing.py\")\n",
    "foo = importlib.util.module_from_spec(spec)\n",
    "spec.loader.exec_module(foo)\n",
    "preprocess_obj = foo.DataPreprocessing()"
   ]
  },
  {
   "cell_type": "code",
   "execution_count": 547,
   "metadata": {},
   "outputs": [],
   "source": [
    "dataframe = pd.read_csv(\"https://raw.githubusercontent.com/AkankshaKaple/Machine_Learning_Algorithms/master/ML_Algorithms/Regression/Multi%20linear%20regression/airfoil_self_noise.dat.txt\",sep='\\t')"
   ]
  },
  {
   "cell_type": "code",
   "execution_count": 548,
   "metadata": {},
   "outputs": [
    {
     "data": {
      "text/html": [
       "<div>\n",
       "<style scoped>\n",
       "    .dataframe tbody tr th:only-of-type {\n",
       "        vertical-align: middle;\n",
       "    }\n",
       "\n",
       "    .dataframe tbody tr th {\n",
       "        vertical-align: top;\n",
       "    }\n",
       "\n",
       "    .dataframe thead th {\n",
       "        text-align: right;\n",
       "    }\n",
       "</style>\n",
       "<table border=\"1\" class=\"dataframe\">\n",
       "  <thead>\n",
       "    <tr style=\"text-align: right;\">\n",
       "      <th></th>\n",
       "      <th>800</th>\n",
       "      <th>0</th>\n",
       "      <th>0.3048</th>\n",
       "      <th>71.3</th>\n",
       "      <th>0.00266337</th>\n",
       "      <th>126.201</th>\n",
       "    </tr>\n",
       "  </thead>\n",
       "  <tbody>\n",
       "    <tr>\n",
       "      <th>1220</th>\n",
       "      <td>4000</td>\n",
       "      <td>22.2</td>\n",
       "      <td>0.0254</td>\n",
       "      <td>71.3</td>\n",
       "      <td>0.021418</td>\n",
       "      <td>123.917</td>\n",
       "    </tr>\n",
       "  </tbody>\n",
       "</table>\n",
       "</div>"
      ],
      "text/plain": [
       "       800     0  0.3048  71.3  0.00266337  126.201\n",
       "1220  4000  22.2  0.0254  71.3    0.021418  123.917"
      ]
     },
     "execution_count": 548,
     "metadata": {},
     "output_type": "execute_result"
    }
   ],
   "source": [
    "dataframe.sample()"
   ]
  },
  {
   "cell_type": "code",
   "execution_count": 549,
   "metadata": {},
   "outputs": [],
   "source": [
    "dataframe.columns = ['x1', 'x2', 'x3', 'x4', 'x5', 'y']"
   ]
  },
  {
   "cell_type": "code",
   "execution_count": 550,
   "metadata": {},
   "outputs": [
    {
     "data": {
      "text/plain": [
       "x1    0\n",
       "x2    0\n",
       "x3    0\n",
       "x4    0\n",
       "x5    0\n",
       "y     0\n",
       "dtype: int64"
      ]
     },
     "execution_count": 550,
     "metadata": {},
     "output_type": "execute_result"
    }
   ],
   "source": [
    "dataframe.isna().sum()"
   ]
  },
  {
   "cell_type": "code",
   "execution_count": 551,
   "metadata": {},
   "outputs": [
    {
     "data": {
      "text/plain": [
       "<matplotlib.axes._subplots.AxesSubplot at 0x7fb2ddfb1400>"
      ]
     },
     "execution_count": 551,
     "metadata": {},
     "output_type": "execute_result"
    },
    {
     "data": {
      "image/png": "[encoded data removed]",
      "text/plain": [
       "<Figure size 432x288 with 1 Axes>"
      ]
     },
     "metadata": {
      "needs_background": "light"
     },
     "output_type": "display_data"
    }
   ],
   "source": [
    "dataframe.boxplot()"
   ]
  },
  {
   "cell_type": "code",
   "execution_count": 552,
   "metadata": {},
   "outputs": [],
   "source": [
    "dataframe = preprocess_obj.remove_outlier(dataframe)"
   ]
  },
  {
   "cell_type": "code",
   "execution_count": 553,
   "metadata": {},
   "outputs": [
    {
     "data": {
      "text/plain": [
       "<matplotlib.axes._subplots.AxesSubplot at 0x7fb2ddeab828>"
      ]
     },
     "execution_count": 553,
     "metadata": {},
     "output_type": "execute_result"
    },
    {
     "data": {
      "image/png": "[encoded data removed]",
      "text/plain": [
       "<Figure size 432x288 with 1 Axes>"
      ]
     },
     "metadata": {
      "needs_background": "light"
     },
     "output_type": "display_data"
    }
   ],
   "source": [
    "dataframe.boxplot()"
   ]
  },
  {
   "cell_type": "code",
   "execution_count": 554,
   "metadata": {},
   "outputs": [
    {
     "data": {
      "text/plain": [
       "x1    44\n",
       "x2     0\n",
       "x3     0\n",
       "x4     0\n",
       "x5    32\n",
       "y      2\n",
       "dtype: int64"
      ]
     },
     "execution_count": 554,
     "metadata": {},
     "output_type": "execute_result"
    }
   ],
   "source": [
    "dataframe.isna().sum()"
   ]
  },
  {
   "cell_type": "code",
   "execution_count": 555,
   "metadata": {},
   "outputs": [],
   "source": [
    "dataframe = dataframe.dropna()"
   ]
  },
  {
   "cell_type": "code",
   "execution_count": 556,
   "metadata": {},
   "outputs": [
    {
     "data": {
      "text/plain": [
       "x1    0\n",
       "x2    0\n",
       "x3    0\n",
       "x4    0\n",
       "x5    0\n",
       "y     0\n",
       "dtype: int64"
      ]
     },
     "execution_count": 556,
     "metadata": {},
     "output_type": "execute_result"
    }
   ],
   "source": [
    "dataframe.isna().sum()"
   ]
  },
  {
   "cell_type": "code",
   "execution_count": 557,
   "metadata": {},
   "outputs": [
    {
     "data": {
      "text/plain": [
       "(1426, 6)"
      ]
     },
     "execution_count": 557,
     "metadata": {},
     "output_type": "execute_result"
    }
   ],
   "source": [
    "dataframe.shape"
   ]
  },
  {
   "cell_type": "code",
   "execution_count": 558,
   "metadata": {},
   "outputs": [
    {
     "data": {
      "text/plain": [
       "x1    0\n",
       "x2    0\n",
       "x3    0\n",
       "x4    0\n",
       "x5    0\n",
       "y     0\n",
       "dtype: int64"
      ]
     },
     "execution_count": 558,
     "metadata": {},
     "output_type": "execute_result"
    }
   ],
   "source": [
    "dataframe.isna().sum()"
   ]
  },
  {
   "cell_type": "code",
   "execution_count": 559,
   "metadata": {},
   "outputs": [
    {
     "data": {
      "text/plain": [
       "array([[<matplotlib.axes._subplots.AxesSubplot object at 0x7fb2ddde72e8>,\n",
       "        <matplotlib.axes._subplots.AxesSubplot object at 0x7fb2ddd959b0>],\n",
       "       [<matplotlib.axes._subplots.AxesSubplot object at 0x7fb2dddbec88>,\n",
       "        <matplotlib.axes._subplots.AxesSubplot object at 0x7fb2ddd70240>],\n",
       "       [<matplotlib.axes._subplots.AxesSubplot object at 0x7fb2ddd177b8>,\n",
       "        <matplotlib.axes._subplots.AxesSubplot object at 0x7fb2ddd3cd30>]],\n",
       "      dtype=object)"
      ]
     },
     "execution_count": 559,
     "metadata": {},
     "output_type": "execute_result"
    },
    {
     "data": {
      "image/png": "[encoded data removed]",
      "text/plain": [
       "<Figure size 720x720 with 6 Axes>"
      ]
     },
     "metadata": {
      "needs_background": "light"
     },
     "output_type": "display_data"
    }
   ],
   "source": [
    "dataframe.hist(figsize=(10,10))"
   ]
  },
  {
   "cell_type": "code",
   "execution_count": 560,
   "metadata": {},
   "outputs": [],
   "source": [
    "dataframe, test_data = preprocess_obj.split(dataframe,400)"
   ]
  },
  {
   "cell_type": "code",
   "execution_count": 561,
   "metadata": {},
   "outputs": [
    {
     "data": {
      "text/html": [
       "<div>\n",
       "<style scoped>\n",
       "    .dataframe tbody tr th:only-of-type {\n",
       "        vertical-align: middle;\n",
       "    }\n",
       "\n",
       "    .dataframe tbody tr th {\n",
       "        vertical-align: top;\n",
       "    }\n",
       "\n",
       "    .dataframe thead th {\n",
       "        text-align: right;\n",
       "    }\n",
       "</style>\n",
       "<table border=\"1\" class=\"dataframe\">\n",
       "  <thead>\n",
       "    <tr style=\"text-align: right;\">\n",
       "      <th></th>\n",
       "      <th>x1</th>\n",
       "      <th>x2</th>\n",
       "      <th>x3</th>\n",
       "      <th>x4</th>\n",
       "      <th>x5</th>\n",
       "      <th>y</th>\n",
       "    </tr>\n",
       "  </thead>\n",
       "  <tbody>\n",
       "    <tr>\n",
       "      <th>0</th>\n",
       "      <td>1000.0</td>\n",
       "      <td>0.0</td>\n",
       "      <td>0.3048</td>\n",
       "      <td>71.3</td>\n",
       "      <td>0.002663</td>\n",
       "      <td>125.201</td>\n",
       "    </tr>\n",
       "    <tr>\n",
       "      <th>1</th>\n",
       "      <td>1250.0</td>\n",
       "      <td>0.0</td>\n",
       "      <td>0.3048</td>\n",
       "      <td>71.3</td>\n",
       "      <td>0.002663</td>\n",
       "      <td>125.951</td>\n",
       "    </tr>\n",
       "    <tr>\n",
       "      <th>2</th>\n",
       "      <td>1600.0</td>\n",
       "      <td>0.0</td>\n",
       "      <td>0.3048</td>\n",
       "      <td>71.3</td>\n",
       "      <td>0.002663</td>\n",
       "      <td>127.591</td>\n",
       "    </tr>\n",
       "    <tr>\n",
       "      <th>3</th>\n",
       "      <td>2000.0</td>\n",
       "      <td>0.0</td>\n",
       "      <td>0.3048</td>\n",
       "      <td>71.3</td>\n",
       "      <td>0.002663</td>\n",
       "      <td>127.461</td>\n",
       "    </tr>\n",
       "    <tr>\n",
       "      <th>4</th>\n",
       "      <td>2500.0</td>\n",
       "      <td>0.0</td>\n",
       "      <td>0.3048</td>\n",
       "      <td>71.3</td>\n",
       "      <td>0.002663</td>\n",
       "      <td>125.571</td>\n",
       "    </tr>\n",
       "  </tbody>\n",
       "</table>\n",
       "</div>"
      ],
      "text/plain": [
       "       x1   x2      x3    x4        x5        y\n",
       "0  1000.0  0.0  0.3048  71.3  0.002663  125.201\n",
       "1  1250.0  0.0  0.3048  71.3  0.002663  125.951\n",
       "2  1600.0  0.0  0.3048  71.3  0.002663  127.591\n",
       "3  2000.0  0.0  0.3048  71.3  0.002663  127.461\n",
       "4  2500.0  0.0  0.3048  71.3  0.002663  125.571"
      ]
     },
     "execution_count": 561,
     "metadata": {},
     "output_type": "execute_result"
    }
   ],
   "source": [
    "dataframe.head()"
   ]
  },
  {
   "cell_type": "code",
   "execution_count": 562,
   "metadata": {},
   "outputs": [],
   "source": [
    "# normalize\n",
    "dataframe = np.sqrt(np.sqrt(dataframe))"
   ]
  },
  {
   "cell_type": "code",
   "execution_count": 563,
   "metadata": {},
   "outputs": [
    {
     "data": {
      "text/html": [
       "<div>\n",
       "<style scoped>\n",
       "    .dataframe tbody tr th:only-of-type {\n",
       "        vertical-align: middle;\n",
       "    }\n",
       "\n",
       "    .dataframe tbody tr th {\n",
       "        vertical-align: top;\n",
       "    }\n",
       "\n",
       "    .dataframe thead th {\n",
       "        text-align: right;\n",
       "    }\n",
       "</style>\n",
       "<table border=\"1\" class=\"dataframe\">\n",
       "  <thead>\n",
       "    <tr style=\"text-align: right;\">\n",
       "      <th></th>\n",
       "      <th>x1</th>\n",
       "      <th>x2</th>\n",
       "      <th>x3</th>\n",
       "      <th>x4</th>\n",
       "      <th>x5</th>\n",
       "      <th>y</th>\n",
       "    </tr>\n",
       "  </thead>\n",
       "  <tbody>\n",
       "    <tr>\n",
       "      <th>0</th>\n",
       "      <td>5.623413</td>\n",
       "      <td>0.0</td>\n",
       "      <td>0.743026</td>\n",
       "      <td>2.905845</td>\n",
       "      <td>0.227174</td>\n",
       "      <td>3.345045</td>\n",
       "    </tr>\n",
       "    <tr>\n",
       "      <th>1</th>\n",
       "      <td>5.946036</td>\n",
       "      <td>0.0</td>\n",
       "      <td>0.743026</td>\n",
       "      <td>2.905845</td>\n",
       "      <td>0.227174</td>\n",
       "      <td>3.350043</td>\n",
       "    </tr>\n",
       "    <tr>\n",
       "      <th>2</th>\n",
       "      <td>6.324555</td>\n",
       "      <td>0.0</td>\n",
       "      <td>0.743026</td>\n",
       "      <td>2.905845</td>\n",
       "      <td>0.227174</td>\n",
       "      <td>3.360896</td>\n",
       "    </tr>\n",
       "    <tr>\n",
       "      <th>3</th>\n",
       "      <td>6.687403</td>\n",
       "      <td>0.0</td>\n",
       "      <td>0.743026</td>\n",
       "      <td>2.905845</td>\n",
       "      <td>0.227174</td>\n",
       "      <td>3.360039</td>\n",
       "    </tr>\n",
       "    <tr>\n",
       "      <th>4</th>\n",
       "      <td>7.071068</td>\n",
       "      <td>0.0</td>\n",
       "      <td>0.743026</td>\n",
       "      <td>2.905845</td>\n",
       "      <td>0.227174</td>\n",
       "      <td>3.347514</td>\n",
       "    </tr>\n",
       "  </tbody>\n",
       "</table>\n",
       "</div>"
      ],
      "text/plain": [
       "         x1   x2        x3        x4        x5         y\n",
       "0  5.623413  0.0  0.743026  2.905845  0.227174  3.345045\n",
       "1  5.946036  0.0  0.743026  2.905845  0.227174  3.350043\n",
       "2  6.324555  0.0  0.743026  2.905845  0.227174  3.360896\n",
       "3  6.687403  0.0  0.743026  2.905845  0.227174  3.360039\n",
       "4  7.071068  0.0  0.743026  2.905845  0.227174  3.347514"
      ]
     },
     "execution_count": 563,
     "metadata": {},
     "output_type": "execute_result"
    }
   ],
   "source": [
    "dataframe.head()"
   ]
  },
  {
   "cell_type": "code",
   "execution_count": 564,
   "metadata": {},
   "outputs": [
    {
     "data": {
      "text/plain": [
       "array([[<matplotlib.axes._subplots.AxesSubplot object at 0x7fb2df160c50>,\n",
       "        <matplotlib.axes._subplots.AxesSubplot object at 0x7fb2ddb13b70>],\n",
       "       [<matplotlib.axes._subplots.AxesSubplot object at 0x7fb2ddb31dd8>,\n",
       "        <matplotlib.axes._subplots.AxesSubplot object at 0x7fb2ddae4080>],\n",
       "       [<matplotlib.axes._subplots.AxesSubplot object at 0x7fb2dda8b2e8>,\n",
       "        <matplotlib.axes._subplots.AxesSubplot object at 0x7fb2ddab5550>]],\n",
       "      dtype=object)"
      ]
     },
     "execution_count": 564,
     "metadata": {},
     "output_type": "execute_result"
    },
    {
     "data": {
      "image/png": "[encoded data removed]",
      "text/plain": [
       "<Figure size 720x720 with 6 Axes>"
      ]
     },
     "metadata": {
      "needs_background": "light"
     },
     "output_type": "display_data"
    }
   ],
   "source": [
    "dataframe.hist(figsize=(10,10))"
   ]
  },
  {
   "cell_type": "code",
   "execution_count": 565,
   "metadata": {},
   "outputs": [],
   "source": [
    "# standardize\n",
    "dataframe = preprocess_obj.standardize(dataframe)"
   ]
  },
  {
   "cell_type": "code",
   "execution_count": 566,
   "metadata": {},
   "outputs": [
    {
     "data": {
      "text/html": [
       "<div>\n",
       "<style scoped>\n",
       "    .dataframe tbody tr th:only-of-type {\n",
       "        vertical-align: middle;\n",
       "    }\n",
       "\n",
       "    .dataframe tbody tr th {\n",
       "        vertical-align: top;\n",
       "    }\n",
       "\n",
       "    .dataframe thead th {\n",
       "        text-align: right;\n",
       "    }\n",
       "</style>\n",
       "<table border=\"1\" class=\"dataframe\">\n",
       "  <thead>\n",
       "    <tr style=\"text-align: right;\">\n",
       "      <th></th>\n",
       "      <th>x1</th>\n",
       "      <th>x2</th>\n",
       "      <th>x3</th>\n",
       "      <th>x4</th>\n",
       "      <th>x5</th>\n",
       "      <th>y</th>\n",
       "    </tr>\n",
       "  </thead>\n",
       "  <tbody>\n",
       "    <tr>\n",
       "      <th>0</th>\n",
       "      <td>1.577729</td>\n",
       "      <td>-0.969811</td>\n",
       "      <td>-0.633202</td>\n",
       "      <td>0.346606</td>\n",
       "      <td>-0.866896</td>\n",
       "      <td>0.545574</td>\n",
       "    </tr>\n",
       "    <tr>\n",
       "      <th>1</th>\n",
       "      <td>1.622827</td>\n",
       "      <td>-0.949875</td>\n",
       "      <td>-0.628386</td>\n",
       "      <td>0.307412</td>\n",
       "      <td>-0.851583</td>\n",
       "      <td>0.499605</td>\n",
       "    </tr>\n",
       "    <tr>\n",
       "      <th>2</th>\n",
       "      <td>1.667861</td>\n",
       "      <td>-0.927534</td>\n",
       "      <td>-0.622620</td>\n",
       "      <td>0.264932</td>\n",
       "      <td>-0.834309</td>\n",
       "      <td>0.451670</td>\n",
       "    </tr>\n",
       "    <tr>\n",
       "      <th>3</th>\n",
       "      <td>1.706304</td>\n",
       "      <td>-0.906750</td>\n",
       "      <td>-0.616418</td>\n",
       "      <td>0.228687</td>\n",
       "      <td>-0.817984</td>\n",
       "      <td>0.406161</td>\n",
       "    </tr>\n",
       "    <tr>\n",
       "      <th>4</th>\n",
       "      <td>1.742578</td>\n",
       "      <td>-0.885457</td>\n",
       "      <td>-0.609304</td>\n",
       "      <td>0.194530</td>\n",
       "      <td>-0.801026</td>\n",
       "      <td>0.358680</td>\n",
       "    </tr>\n",
       "  </tbody>\n",
       "</table>\n",
       "</div>"
      ],
      "text/plain": [
       "         x1        x2        x3        x4        x5         y\n",
       "0  1.577729 -0.969811 -0.633202  0.346606 -0.866896  0.545574\n",
       "1  1.622827 -0.949875 -0.628386  0.307412 -0.851583  0.499605\n",
       "2  1.667861 -0.927534 -0.622620  0.264932 -0.834309  0.451670\n",
       "3  1.706304 -0.906750 -0.616418  0.228687 -0.817984  0.406161\n",
       "4  1.742578 -0.885457 -0.609304  0.194530 -0.801026  0.358680"
      ]
     },
     "execution_count": 566,
     "metadata": {},
     "output_type": "execute_result"
    }
   ],
   "source": [
    "dataframe.head()"
   ]
  },
  {
   "cell_type": "code",
   "execution_count": 567,
   "metadata": {},
   "outputs": [
    {
     "data": {
      "text/plain": [
       "array([[<matplotlib.axes._subplots.AxesSubplot object at 0x7fb2ddbb4a90>,\n",
       "        <matplotlib.axes._subplots.AxesSubplot object at 0x7fb2dd8a7d30>],\n",
       "       [<matplotlib.axes._subplots.AxesSubplot object at 0x7fb2dd8552e8>,\n",
       "        <matplotlib.axes._subplots.AxesSubplot object at 0x7fb2dd87b860>],\n",
       "       [<matplotlib.axes._subplots.AxesSubplot object at 0x7fb2dd824dd8>,\n",
       "        <matplotlib.axes._subplots.AxesSubplot object at 0x7fb2dd7d4390>]],\n",
       "      dtype=object)"
      ]
     },
     "execution_count": 567,
     "metadata": {},
     "output_type": "execute_result"
    },
    {
     "data": {
      "image/png": "[encoded data removed]",
      "text/plain": [
       "<Figure size 720x720 with 6 Axes>"
      ]
     },
     "metadata": {
      "needs_background": "light"
     },
     "output_type": "display_data"
    }
   ],
   "source": [
    "dataframe.hist(figsize=(10,10))"
   ]
  },
  {
   "cell_type": "code",
   "execution_count": 568,
   "metadata": {},
   "outputs": [
    {
     "data": {
      "text/html": [
       "<div>\n",
       "<style scoped>\n",
       "    .dataframe tbody tr th:only-of-type {\n",
       "        vertical-align: middle;\n",
       "    }\n",
       "\n",
       "    .dataframe tbody tr th {\n",
       "        vertical-align: top;\n",
       "    }\n",
       "\n",
       "    .dataframe thead th {\n",
       "        text-align: right;\n",
       "    }\n",
       "</style>\n",
       "<table border=\"1\" class=\"dataframe\">\n",
       "  <thead>\n",
       "    <tr style=\"text-align: right;\">\n",
       "      <th></th>\n",
       "      <th>x1</th>\n",
       "      <th>x2</th>\n",
       "      <th>x3</th>\n",
       "      <th>x4</th>\n",
       "      <th>x5</th>\n",
       "      <th>y</th>\n",
       "    </tr>\n",
       "  </thead>\n",
       "  <tbody>\n",
       "    <tr>\n",
       "      <th>0</th>\n",
       "      <td>1.577729</td>\n",
       "      <td>-0.969811</td>\n",
       "      <td>-0.633202</td>\n",
       "      <td>0.346606</td>\n",
       "      <td>-0.866896</td>\n",
       "      <td>0.545574</td>\n",
       "    </tr>\n",
       "    <tr>\n",
       "      <th>1</th>\n",
       "      <td>1.622827</td>\n",
       "      <td>-0.949875</td>\n",
       "      <td>-0.628386</td>\n",
       "      <td>0.307412</td>\n",
       "      <td>-0.851583</td>\n",
       "      <td>0.499605</td>\n",
       "    </tr>\n",
       "    <tr>\n",
       "      <th>2</th>\n",
       "      <td>1.667861</td>\n",
       "      <td>-0.927534</td>\n",
       "      <td>-0.622620</td>\n",
       "      <td>0.264932</td>\n",
       "      <td>-0.834309</td>\n",
       "      <td>0.451670</td>\n",
       "    </tr>\n",
       "    <tr>\n",
       "      <th>3</th>\n",
       "      <td>1.706304</td>\n",
       "      <td>-0.906750</td>\n",
       "      <td>-0.616418</td>\n",
       "      <td>0.228687</td>\n",
       "      <td>-0.817984</td>\n",
       "      <td>0.406161</td>\n",
       "    </tr>\n",
       "    <tr>\n",
       "      <th>4</th>\n",
       "      <td>1.742578</td>\n",
       "      <td>-0.885457</td>\n",
       "      <td>-0.609304</td>\n",
       "      <td>0.194530</td>\n",
       "      <td>-0.801026</td>\n",
       "      <td>0.358680</td>\n",
       "    </tr>\n",
       "  </tbody>\n",
       "</table>\n",
       "</div>"
      ],
      "text/plain": [
       "         x1        x2        x3        x4        x5         y\n",
       "0  1.577729 -0.969811 -0.633202  0.346606 -0.866896  0.545574\n",
       "1  1.622827 -0.949875 -0.628386  0.307412 -0.851583  0.499605\n",
       "2  1.667861 -0.927534 -0.622620  0.264932 -0.834309  0.451670\n",
       "3  1.706304 -0.906750 -0.616418  0.228687 -0.817984  0.406161\n",
       "4  1.742578 -0.885457 -0.609304  0.194530 -0.801026  0.358680"
      ]
     },
     "execution_count": 568,
     "metadata": {},
     "output_type": "execute_result"
    }
   ],
   "source": [
    "dataframe.head()"
   ]
  },
  {
   "cell_type": "code",
   "execution_count": 569,
   "metadata": {},
   "outputs": [],
   "source": [
    "class Normal_Function:\n",
    "    \n",
    "    def init(self):\n",
    "        pass\n",
    "    \n",
    "    def train(self,dataframe):\n",
    "        dataframe,Y = preprocess_obj.separate(dataframe,'y')\n",
    "#         dataframe.insert(loc=0, column='dummy', value=pd.Series(np.ones(dataframe.shape[0])))\n",
    "        left = np.linalg.inv(np.matmul(dataframe.T,dataframe))\n",
    "        right = np.matmul(dataframe.T,Y)\n",
    "        print(left,\"\\n\",right)\n",
    "        weights = np.matmul(left,right)\n",
    "        return weights\n",
    "    \n",
    "    def test(self,test_data,weights):\n",
    "#         test_data.insert(loc=0, column='dummy', value=pd.Series(np.ones(test_data.shape[0])))\n",
    "        test_data,Y = preprocess_obj.separate(test_data,'y')\n",
    "        Y = np.array(Y).reshape(Y.shape[0],1)\n",
    "#         print(test_data.shape,\"\\n\",Y.shape)\n",
    "#         weights=weights.T\n",
    "        Ypred = np.matmul(test_data,weights)\n",
    "        error = np.divide(np.subtract(Ypred,Y),Y.sum())\n",
    "        error = np.divide(np.abs(np.sum(error)),test_data.shape[0])\n",
    "        print(\"Accuracy = \",(1-error)*100)\n",
    "\n",
    "    def main(dataframe,test_data):\n",
    "        weights = self.train(dataframe)\n",
    "        print(\"Weights\\n\",weights)\n",
    "        self.test(test_data,weights)\n",
    "        "
   ]
  },
  {
   "cell_type": "code",
   "execution_count": 570,
   "metadata": {},
   "outputs": [],
   "source": [
    "normal = Normal_Function()\n",
    "# normal.main(dataframe,test_data)"
   ]
  },
  {
   "cell_type": "code",
   "execution_count": 571,
   "metadata": {},
   "outputs": [
    {
     "name": "stdout",
     "output_type": "stream",
     "text": [
      "[[ 0.08285194  0.08837548  0.12396507  0.16035578  0.01653318]\n",
      " [ 0.08837548  0.11214066  0.17464346  0.16466466 -0.02806496]\n",
      " [ 0.12396507  0.17464346  0.51492161  0.19825698 -0.28076314]\n",
      " [ 0.16035578  0.16466466  0.19825698  0.36692513  0.07804324]\n",
      " [ 0.01653318 -0.02806496 -0.28076314  0.07804324  0.29187712]] \n",
      " [ 699.87845172 -216.61984809 -364.2005349    77.94469844 -435.07277803]\n"
     ]
    }
   ],
   "source": [
    "weights = normal.train(dataframe)"
   ]
  },
  {
   "cell_type": "code",
   "execution_count": 574,
   "metadata": {},
   "outputs": [
    {
     "name": "stdout",
     "output_type": "stream",
     "text": [
      "(400, 5) \n",
      " (400, 1)\n",
      "Accuracy =  95.02794143689502\n"
     ]
    }
   ],
   "source": [
    "normal.test(test_data,weights)"
   ]
  }
 ],
 "metadata": {
  "kernelspec": {
   "display_name": "Python 3",
   "language": "python",
   "name": "python3"
  },
  "language_info": {
   "codemirror_mode": {
    "name": "ipython",
    "version": 3
   },
   "file_extension": ".py",
   "mimetype": "text/x-python",
   "name": "python",
   "nbconvert_exporter": "python",
   "pygments_lexer": "ipython3",
   "version": "3.7.1"
  }
 },
 "nbformat": 4,
 "nbformat_minor": 2
}
