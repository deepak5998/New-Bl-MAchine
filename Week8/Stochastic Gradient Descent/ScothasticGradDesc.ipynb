{
 "cells": [
  {
   "cell_type": "code",
   "execution_count": 162,
   "metadata": {},
   "outputs": [],
   "source": [
    "# stochastic gradient Descent\n",
    "import importlib.util\n",
    "import pandas as pd\n",
    "import numpy as np\n",
    "import matplotlib.pyplot as plt\n",
    "import seaborn as sns"
   ]
  },
  {
   "cell_type": "code",
   "execution_count": 163,
   "metadata": {},
   "outputs": [
    {
     "name": "stdout",
     "output_type": "stream",
     "text": [
      "Data PreProcessign object created successfully\n"
     ]
    }
   ],
   "source": [
    "spec = importlib.util.spec_from_file_location(\"DataPreprocessing\", \"/home/admin1/PycharmProjects/Machine_learning_Python/Utility/DataPreprocessing.py\")\n",
    "foo = importlib.util.module_from_spec(spec)\n",
    "spec.loader.exec_module(foo)\n",
    "preprocess_obj = foo.DataPreprocessing()"
   ]
  },
  {
   "cell_type": "code",
   "execution_count": 164,
   "metadata": {},
   "outputs": [],
   "source": [
    "dataframe = pd.read_csv('Data/weatherHistory.csv')"
   ]
  },
  {
   "cell_type": "code",
   "execution_count": 165,
   "metadata": {},
   "outputs": [
    {
     "data": {
      "text/html": [
       "<div>\n",
       "<style scoped>\n",
       "    .dataframe tbody tr th:only-of-type {\n",
       "        vertical-align: middle;\n",
       "    }\n",
       "\n",
       "    .dataframe tbody tr th {\n",
       "        vertical-align: top;\n",
       "    }\n",
       "\n",
       "    .dataframe thead th {\n",
       "        text-align: right;\n",
       "    }\n",
       "</style>\n",
       "<table border=\"1\" class=\"dataframe\">\n",
       "  <thead>\n",
       "    <tr style=\"text-align: right;\">\n",
       "      <th></th>\n",
       "      <th>Formatted Date</th>\n",
       "      <th>Summary</th>\n",
       "      <th>Precip Type</th>\n",
       "      <th>Temperature (C)</th>\n",
       "      <th>Apparent Temperature (C)</th>\n",
       "      <th>Humidity</th>\n",
       "      <th>Wind Speed (km/h)</th>\n",
       "      <th>Wind Bearing (degrees)</th>\n",
       "      <th>Visibility (km)</th>\n",
       "      <th>Loud Cover</th>\n",
       "      <th>Pressure (millibars)</th>\n",
       "      <th>Daily Summary</th>\n",
       "    </tr>\n",
       "  </thead>\n",
       "  <tbody>\n",
       "    <tr>\n",
       "      <th>0</th>\n",
       "      <td>2006-04-01 00:00:00.000 +0200</td>\n",
       "      <td>Partly Cloudy</td>\n",
       "      <td>rain</td>\n",
       "      <td>9.472222</td>\n",
       "      <td>7.388889</td>\n",
       "      <td>0.89</td>\n",
       "      <td>14.1197</td>\n",
       "      <td>251.0</td>\n",
       "      <td>15.8263</td>\n",
       "      <td>0.0</td>\n",
       "      <td>1015.13</td>\n",
       "      <td>Partly cloudy throughout the day.</td>\n",
       "    </tr>\n",
       "    <tr>\n",
       "      <th>1</th>\n",
       "      <td>2006-04-01 01:00:00.000 +0200</td>\n",
       "      <td>Partly Cloudy</td>\n",
       "      <td>rain</td>\n",
       "      <td>9.355556</td>\n",
       "      <td>7.227778</td>\n",
       "      <td>0.86</td>\n",
       "      <td>14.2646</td>\n",
       "      <td>259.0</td>\n",
       "      <td>15.8263</td>\n",
       "      <td>0.0</td>\n",
       "      <td>1015.63</td>\n",
       "      <td>Partly cloudy throughout the day.</td>\n",
       "    </tr>\n",
       "    <tr>\n",
       "      <th>2</th>\n",
       "      <td>2006-04-01 02:00:00.000 +0200</td>\n",
       "      <td>Mostly Cloudy</td>\n",
       "      <td>rain</td>\n",
       "      <td>9.377778</td>\n",
       "      <td>9.377778</td>\n",
       "      <td>0.89</td>\n",
       "      <td>3.9284</td>\n",
       "      <td>204.0</td>\n",
       "      <td>14.9569</td>\n",
       "      <td>0.0</td>\n",
       "      <td>1015.94</td>\n",
       "      <td>Partly cloudy throughout the day.</td>\n",
       "    </tr>\n",
       "    <tr>\n",
       "      <th>3</th>\n",
       "      <td>2006-04-01 03:00:00.000 +0200</td>\n",
       "      <td>Partly Cloudy</td>\n",
       "      <td>rain</td>\n",
       "      <td>8.288889</td>\n",
       "      <td>5.944444</td>\n",
       "      <td>0.83</td>\n",
       "      <td>14.1036</td>\n",
       "      <td>269.0</td>\n",
       "      <td>15.8263</td>\n",
       "      <td>0.0</td>\n",
       "      <td>1016.41</td>\n",
       "      <td>Partly cloudy throughout the day.</td>\n",
       "    </tr>\n",
       "    <tr>\n",
       "      <th>4</th>\n",
       "      <td>2006-04-01 04:00:00.000 +0200</td>\n",
       "      <td>Mostly Cloudy</td>\n",
       "      <td>rain</td>\n",
       "      <td>8.755556</td>\n",
       "      <td>6.977778</td>\n",
       "      <td>0.83</td>\n",
       "      <td>11.0446</td>\n",
       "      <td>259.0</td>\n",
       "      <td>15.8263</td>\n",
       "      <td>0.0</td>\n",
       "      <td>1016.51</td>\n",
       "      <td>Partly cloudy throughout the day.</td>\n",
       "    </tr>\n",
       "  </tbody>\n",
       "</table>\n",
       "</div>"
      ],
      "text/plain": [
       "                  Formatted Date        Summary Precip Type  Temperature (C)  \\\n",
       "0  2006-04-01 00:00:00.000 +0200  Partly Cloudy        rain         9.472222   \n",
       "1  2006-04-01 01:00:00.000 +0200  Partly Cloudy        rain         9.355556   \n",
       "2  2006-04-01 02:00:00.000 +0200  Mostly Cloudy        rain         9.377778   \n",
       "3  2006-04-01 03:00:00.000 +0200  Partly Cloudy        rain         8.288889   \n",
       "4  2006-04-01 04:00:00.000 +0200  Mostly Cloudy        rain         8.755556   \n",
       "\n",
       "   Apparent Temperature (C)  Humidity  Wind Speed (km/h)  \\\n",
       "0                  7.388889      0.89            14.1197   \n",
       "1                  7.227778      0.86            14.2646   \n",
       "2                  9.377778      0.89             3.9284   \n",
       "3                  5.944444      0.83            14.1036   \n",
       "4                  6.977778      0.83            11.0446   \n",
       "\n",
       "   Wind Bearing (degrees)  Visibility (km)  Loud Cover  Pressure (millibars)  \\\n",
       "0                   251.0          15.8263         0.0               1015.13   \n",
       "1                   259.0          15.8263         0.0               1015.63   \n",
       "2                   204.0          14.9569         0.0               1015.94   \n",
       "3                   269.0          15.8263         0.0               1016.41   \n",
       "4                   259.0          15.8263         0.0               1016.51   \n",
       "\n",
       "                       Daily Summary  \n",
       "0  Partly cloudy throughout the day.  \n",
       "1  Partly cloudy throughout the day.  \n",
       "2  Partly cloudy throughout the day.  \n",
       "3  Partly cloudy throughout the day.  \n",
       "4  Partly cloudy throughout the day.  "
      ]
     },
     "execution_count": 165,
     "metadata": {},
     "output_type": "execute_result"
    }
   ],
   "source": [
    "dataframe.head()"
   ]
  },
  {
   "cell_type": "code",
   "execution_count": 166,
   "metadata": {},
   "outputs": [
    {
     "data": {
      "text/html": [
       "<div>\n",
       "<style scoped>\n",
       "    .dataframe tbody tr th:only-of-type {\n",
       "        vertical-align: middle;\n",
       "    }\n",
       "\n",
       "    .dataframe tbody tr th {\n",
       "        vertical-align: top;\n",
       "    }\n",
       "\n",
       "    .dataframe thead th {\n",
       "        text-align: right;\n",
       "    }\n",
       "</style>\n",
       "<table border=\"1\" class=\"dataframe\">\n",
       "  <thead>\n",
       "    <tr style=\"text-align: right;\">\n",
       "      <th></th>\n",
       "      <th>Temperature (C)</th>\n",
       "      <th>Apparent Temperature (C)</th>\n",
       "      <th>Humidity</th>\n",
       "      <th>Wind Speed (km/h)</th>\n",
       "      <th>Wind Bearing (degrees)</th>\n",
       "      <th>Visibility (km)</th>\n",
       "      <th>Pressure (millibars)</th>\n",
       "    </tr>\n",
       "  </thead>\n",
       "  <tbody>\n",
       "    <tr>\n",
       "      <th>0</th>\n",
       "      <td>9.472222</td>\n",
       "      <td>7.388889</td>\n",
       "      <td>0.89</td>\n",
       "      <td>14.1197</td>\n",
       "      <td>251.0</td>\n",
       "      <td>15.8263</td>\n",
       "      <td>1015.13</td>\n",
       "    </tr>\n",
       "    <tr>\n",
       "      <th>1</th>\n",
       "      <td>9.355556</td>\n",
       "      <td>7.227778</td>\n",
       "      <td>0.86</td>\n",
       "      <td>14.2646</td>\n",
       "      <td>259.0</td>\n",
       "      <td>15.8263</td>\n",
       "      <td>1015.63</td>\n",
       "    </tr>\n",
       "    <tr>\n",
       "      <th>2</th>\n",
       "      <td>9.377778</td>\n",
       "      <td>9.377778</td>\n",
       "      <td>0.89</td>\n",
       "      <td>3.9284</td>\n",
       "      <td>204.0</td>\n",
       "      <td>14.9569</td>\n",
       "      <td>1015.94</td>\n",
       "    </tr>\n",
       "    <tr>\n",
       "      <th>3</th>\n",
       "      <td>8.288889</td>\n",
       "      <td>5.944444</td>\n",
       "      <td>0.83</td>\n",
       "      <td>14.1036</td>\n",
       "      <td>269.0</td>\n",
       "      <td>15.8263</td>\n",
       "      <td>1016.41</td>\n",
       "    </tr>\n",
       "    <tr>\n",
       "      <th>4</th>\n",
       "      <td>8.755556</td>\n",
       "      <td>6.977778</td>\n",
       "      <td>0.83</td>\n",
       "      <td>11.0446</td>\n",
       "      <td>259.0</td>\n",
       "      <td>15.8263</td>\n",
       "      <td>1016.51</td>\n",
       "    </tr>\n",
       "  </tbody>\n",
       "</table>\n",
       "</div>"
      ],
      "text/plain": [
       "   Temperature (C)  Apparent Temperature (C)  Humidity  Wind Speed (km/h)  \\\n",
       "0         9.472222                  7.388889      0.89            14.1197   \n",
       "1         9.355556                  7.227778      0.86            14.2646   \n",
       "2         9.377778                  9.377778      0.89             3.9284   \n",
       "3         8.288889                  5.944444      0.83            14.1036   \n",
       "4         8.755556                  6.977778      0.83            11.0446   \n",
       "\n",
       "   Wind Bearing (degrees)  Visibility (km)  Pressure (millibars)  \n",
       "0                   251.0          15.8263               1015.13  \n",
       "1                   259.0          15.8263               1015.63  \n",
       "2                   204.0          14.9569               1015.94  \n",
       "3                   269.0          15.8263               1016.41  \n",
       "4                   259.0          15.8263               1016.51  "
      ]
     },
     "execution_count": 166,
     "metadata": {},
     "output_type": "execute_result"
    }
   ],
   "source": [
    "dataframe = dataframe.drop(['Formatted Date', 'Summary', 'Precip Type', 'Loud Cover', 'Daily Summary'], axis=1)\n",
    "dataframe.head()"
   ]
  },
  {
   "cell_type": "code",
   "execution_count": 167,
   "metadata": {},
   "outputs": [
    {
     "data": {
      "text/html": [
       "<div>\n",
       "<style scoped>\n",
       "    .dataframe tbody tr th:only-of-type {\n",
       "        vertical-align: middle;\n",
       "    }\n",
       "\n",
       "    .dataframe tbody tr th {\n",
       "        vertical-align: top;\n",
       "    }\n",
       "\n",
       "    .dataframe thead th {\n",
       "        text-align: right;\n",
       "    }\n",
       "</style>\n",
       "<table border=\"1\" class=\"dataframe\">\n",
       "  <thead>\n",
       "    <tr style=\"text-align: right;\">\n",
       "      <th></th>\n",
       "      <th>x1</th>\n",
       "      <th>y</th>\n",
       "      <th>x2</th>\n",
       "      <th>x3</th>\n",
       "      <th>x4</th>\n",
       "      <th>x5</th>\n",
       "      <th>x6</th>\n",
       "    </tr>\n",
       "  </thead>\n",
       "  <tbody>\n",
       "    <tr>\n",
       "      <th>0</th>\n",
       "      <td>9.472222</td>\n",
       "      <td>7.388889</td>\n",
       "      <td>0.89</td>\n",
       "      <td>14.1197</td>\n",
       "      <td>251.0</td>\n",
       "      <td>15.8263</td>\n",
       "      <td>1015.13</td>\n",
       "    </tr>\n",
       "    <tr>\n",
       "      <th>1</th>\n",
       "      <td>9.355556</td>\n",
       "      <td>7.227778</td>\n",
       "      <td>0.86</td>\n",
       "      <td>14.2646</td>\n",
       "      <td>259.0</td>\n",
       "      <td>15.8263</td>\n",
       "      <td>1015.63</td>\n",
       "    </tr>\n",
       "    <tr>\n",
       "      <th>2</th>\n",
       "      <td>9.377778</td>\n",
       "      <td>9.377778</td>\n",
       "      <td>0.89</td>\n",
       "      <td>3.9284</td>\n",
       "      <td>204.0</td>\n",
       "      <td>14.9569</td>\n",
       "      <td>1015.94</td>\n",
       "    </tr>\n",
       "    <tr>\n",
       "      <th>3</th>\n",
       "      <td>8.288889</td>\n",
       "      <td>5.944444</td>\n",
       "      <td>0.83</td>\n",
       "      <td>14.1036</td>\n",
       "      <td>269.0</td>\n",
       "      <td>15.8263</td>\n",
       "      <td>1016.41</td>\n",
       "    </tr>\n",
       "    <tr>\n",
       "      <th>4</th>\n",
       "      <td>8.755556</td>\n",
       "      <td>6.977778</td>\n",
       "      <td>0.83</td>\n",
       "      <td>11.0446</td>\n",
       "      <td>259.0</td>\n",
       "      <td>15.8263</td>\n",
       "      <td>1016.51</td>\n",
       "    </tr>\n",
       "  </tbody>\n",
       "</table>\n",
       "</div>"
      ],
      "text/plain": [
       "         x1         y    x2       x3     x4       x5       x6\n",
       "0  9.472222  7.388889  0.89  14.1197  251.0  15.8263  1015.13\n",
       "1  9.355556  7.227778  0.86  14.2646  259.0  15.8263  1015.63\n",
       "2  9.377778  9.377778  0.89   3.9284  204.0  14.9569  1015.94\n",
       "3  8.288889  5.944444  0.83  14.1036  269.0  15.8263  1016.41\n",
       "4  8.755556  6.977778  0.83  11.0446  259.0  15.8263  1016.51"
      ]
     },
     "execution_count": 167,
     "metadata": {},
     "output_type": "execute_result"
    }
   ],
   "source": [
    "new_columns = {'Temperature (C)':'x1', 'Apparent Temperature (C)':'y', 'Humidity':'x2', 'Wind Speed (km/h)':'x3',\n",
    "          'Wind Bearing (degrees)':'x4', 'Visibility (km)':'x5', 'Pressure (millibars)':'x6'}\n",
    "dataframe.rename(columns=new_columns,inplace=True)\n",
    "dataframe.head()"
   ]
  },
  {
   "cell_type": "code",
   "execution_count": 168,
   "metadata": {},
   "outputs": [
    {
     "data": {
      "text/plain": [
       "(96453, 7)"
      ]
     },
     "execution_count": 168,
     "metadata": {},
     "output_type": "execute_result"
    }
   ],
   "source": [
    "dataframe.shape"
   ]
  },
  {
   "cell_type": "code",
   "execution_count": 169,
   "metadata": {},
   "outputs": [
    {
     "data": {
      "text/plain": [
       "<matplotlib.axes._subplots.AxesSubplot at 0x7f449c194f28>"
      ]
     },
     "execution_count": 169,
     "metadata": {},
     "output_type": "execute_result"
    },
    {
     "data": {
      "image/png": "[encoded data removed]",
      "text/plain": [
       "<Figure size 432x288 with 1 Axes>"
      ]
     },
     "metadata": {
      "needs_background": "light"
     },
     "output_type": "display_data"
    }
   ],
   "source": [
    "dataframe.boxplot()"
   ]
  },
  {
   "cell_type": "code",
   "execution_count": 170,
   "metadata": {},
   "outputs": [],
   "source": [
    "dataframe = preprocess_obj.remove_outlier(dataframe)"
   ]
  },
  {
   "cell_type": "code",
   "execution_count": 171,
   "metadata": {},
   "outputs": [
    {
     "data": {
      "text/plain": [
       "x1      39\n",
       "y       40\n",
       "x2      28\n",
       "x3    1208\n",
       "x4       0\n",
       "x5       0\n",
       "x6    1288\n",
       "dtype: int64"
      ]
     },
     "execution_count": 171,
     "metadata": {},
     "output_type": "execute_result"
    }
   ],
   "source": [
    "dataframe.isna().sum()"
   ]
  },
  {
   "cell_type": "code",
   "execution_count": 172,
   "metadata": {},
   "outputs": [],
   "source": [
    "dataframe = dataframe.dropna()\n",
    "dataframe = dataframe.reset_index(drop=True)"
   ]
  },
  {
   "cell_type": "code",
   "execution_count": 173,
   "metadata": {},
   "outputs": [
    {
     "data": {
      "text/plain": [
       "<matplotlib.axes._subplots.AxesSubplot at 0x7f4497f7c2b0>"
      ]
     },
     "execution_count": 173,
     "metadata": {},
     "output_type": "execute_result"
    },
    {
     "data": {
      "image/png": "[encoded data removed]",
      "text/plain": [
       "<Figure size 432x288 with 1 Axes>"
      ]
     },
     "metadata": {
      "needs_background": "light"
     },
     "output_type": "display_data"
    }
   ],
   "source": [
    "dataframe.boxplot()"
   ]
  },
  {
   "cell_type": "code",
   "execution_count": 174,
   "metadata": {},
   "outputs": [
    {
     "data": {
      "text/plain": [
       "array([[<matplotlib.axes._subplots.AxesSubplot object at 0x7f4497f41e10>,\n",
       "        <matplotlib.axes._subplots.AxesSubplot object at 0x7f4497e6ca58>,\n",
       "        <matplotlib.axes._subplots.AxesSubplot object at 0x7f4497e15cc0>],\n",
       "       [<matplotlib.axes._subplots.AxesSubplot object at 0x7f4497dc0f28>,\n",
       "        <matplotlib.axes._subplots.AxesSubplot object at 0x7f4497df14e0>,\n",
       "        <matplotlib.axes._subplots.AxesSubplot object at 0x7f4497d96a58>],\n",
       "       [<matplotlib.axes._subplots.AxesSubplot object at 0x7f4497dbefd0>,\n",
       "        <matplotlib.axes._subplots.AxesSubplot object at 0x7f4497d705c0>,\n",
       "        <matplotlib.axes._subplots.AxesSubplot object at 0x7f4497d705f8>]],\n",
       "      dtype=object)"
      ]
     },
     "execution_count": 174,
     "metadata": {},
     "output_type": "execute_result"
    },
    {
     "data": {
      "image/png": "[encoded data removed]",
      "text/plain": [
       "<Figure size 720x720 with 9 Axes>"
      ]
     },
     "metadata": {
      "needs_background": "light"
     },
     "output_type": "display_data"
    }
   ],
   "source": [
    "dataframe.hist(figsize=(10,10))"
   ]
  },
  {
   "cell_type": "code",
   "execution_count": 175,
   "metadata": {},
   "outputs": [],
   "source": [
    "# Y = dataframe['y']\n",
    "dataframe = preprocess_obj.standardize(dataframe)\n",
    "# dataframe['y']=Y"
   ]
  },
  {
   "cell_type": "code",
   "execution_count": 176,
   "metadata": {},
   "outputs": [
    {
     "data": {
      "text/plain": [
       "array([[<matplotlib.axes._subplots.AxesSubplot object at 0x7f4497e4e748>,\n",
       "        <matplotlib.axes._subplots.AxesSubplot object at 0x7f4497b26fd0>,\n",
       "        <matplotlib.axes._subplots.AxesSubplot object at 0x7f4497ad1588>],\n",
       "       [<matplotlib.axes._subplots.AxesSubplot object at 0x7f4497af6b00>,\n",
       "        <matplotlib.axes._subplots.AxesSubplot object at 0x7f4497aa70b8>,\n",
       "        <matplotlib.axes._subplots.AxesSubplot object at 0x7f4497a4e630>],\n",
       "       [<matplotlib.axes._subplots.AxesSubplot object at 0x7f4497a75ba8>,\n",
       "        <matplotlib.axes._subplots.AxesSubplot object at 0x7f4497a27198>,\n",
       "        <matplotlib.axes._subplots.AxesSubplot object at 0x7f4497a271d0>]],\n",
       "      dtype=object)"
      ]
     },
     "execution_count": 176,
     "metadata": {},
     "output_type": "execute_result"
    },
    {
     "data": {
      "image/png": "[encoded data removed]",
      "text/plain": [
       "<Figure size 720x720 with 9 Axes>"
      ]
     },
     "metadata": {
      "needs_background": "light"
     },
     "output_type": "display_data"
    }
   ],
   "source": [
    "dataframe.hist(figsize=(10,10))"
   ]
  },
  {
   "cell_type": "code",
   "execution_count": 177,
   "metadata": {},
   "outputs": [
    {
     "data": {
      "text/plain": [
       "<matplotlib.axes._subplots.AxesSubplot at 0x7f44979878d0>"
      ]
     },
     "execution_count": 177,
     "metadata": {},
     "output_type": "execute_result"
    },
    {
     "data": {
      "image/png": "[encoded data removed]",
      "text/plain": [
       "<Figure size 432x288 with 1 Axes>"
      ]
     },
     "metadata": {
      "needs_background": "light"
     },
     "output_type": "display_data"
    }
   ],
   "source": [
    "dataframe.boxplot()"
   ]
  },
  {
   "cell_type": "code",
   "execution_count": 178,
   "metadata": {},
   "outputs": [
    {
     "data": {
      "text/plain": [
       "x1    0\n",
       "y     0\n",
       "x2    0\n",
       "x3    0\n",
       "x4    0\n",
       "x5    0\n",
       "x6    0\n",
       "dtype: int64"
      ]
     },
     "execution_count": 178,
     "metadata": {},
     "output_type": "execute_result"
    }
   ],
   "source": [
    "dataframe.isnull().sum()"
   ]
  },
  {
   "cell_type": "code",
   "execution_count": 179,
   "metadata": {},
   "outputs": [],
   "source": [
    "dataframe,test_data = preprocess_obj.split(dataframe,500)"
   ]
  },
  {
   "cell_type": "code",
   "execution_count": 180,
   "metadata": {},
   "outputs": [],
   "source": [
    "dataframe = dataframe.head(15000)"
   ]
  },
  {
   "cell_type": "code",
   "execution_count": 181,
   "metadata": {},
   "outputs": [],
   "source": [
    "try:\n",
    "    dataframe = dataframe.drop('index',axis=1).reset_index()\n",
    "except Exception as e:\n",
    "    pass"
   ]
  },
  {
   "cell_type": "code",
   "execution_count": 182,
   "metadata": {},
   "outputs": [],
   "source": [
    "try:\n",
    "    test_data = test_data.drop('index',axis=1).reset_index()\n",
    "except Exception as e:\n",
    "    pass"
   ]
  },
  {
   "cell_type": "code",
   "execution_count": 183,
   "metadata": {},
   "outputs": [],
   "source": [
    "class Scothastic_Gradient:\n",
    "    def __init__(self):\n",
    "        self.learning_rate = 0.01\n",
    "        self.iteration = 45\n",
    "    def train(self,dataframe):\n",
    "        dataframe.insert(loc=0, column='dummy', value=pd.Series(np.ones(dataframe.shape[0])))\n",
    "        dataframe = dataframe[dataframe['y']!=0]\n",
    "        dataframe = dataframe.reset_index()\n",
    "        dataframe, Y = preprocess_obj.separate(dataframe,'y')\n",
    "        weights = np.full((1,dataframe.shape[1]),1.0)\n",
    "        print(\"weights:\\n\",weights.shape,\"X head :\\n\",dataframe.head())\n",
    "        for iterations in range(0,self.iteration):\n",
    "            for counter in range(0,dataframe.shape[0]):\n",
    "                X = dataframe.loc[counter,:]\n",
    "                X = np.array(X).reshape(1,dataframe.shape[1])\n",
    "                y = Y[counter]\n",
    "                Ypred = np.matmul(weights,X.T)\n",
    "                diff = np.array(Ypred-y).reshape(1,1)\n",
    "                cost = (np.power(diff,2))\n",
    "                if(diff==np.nan or diff == -1*np.inf or cost == np.nan or cost == np.inf): \n",
    "                    print(\"pred {},\\n Y orig {},\\nweights: {},\\nX: {},\\ncounter {},iteration: {}\"\n",
    "                          .format(Ypred,y,weights,X,counter,iterations))\n",
    "                    exit()\n",
    "                dw = np.matmul(abs(diff),X)/dataframe.shape[0]\n",
    "                weights = np.subtract(weights,np.multiply(dw,self.learning_rate))\n",
    "            print(\"iteration {}, cost {}\".format(iterations,cost))\n",
    "        return weights\n",
    "    \n",
    "    def test(self,test_data,weights):\n",
    "        test_data.insert(loc=0, column='dummy', value=pd.Series(np.ones(test_data.shape[0])))\n",
    "        test_data = test_data[test_data['y'] != 0]\n",
    "        test_data = test_data.reset_index()\n",
    "        test_data,Y =preprocess_obj.separate(test_data,'y')\n",
    "        Y = np.array(Y).reshape(Y.shape[0],1)\n",
    "#         Ypred = np.matmul(weights,test_data.T)\n",
    "#         error = np.divide(np.abs(np.subtract(Ypred,Y)),Y)\n",
    "#         error = np.divide(np.sum(error),test_data.shape[0])\n",
    "#         print ((1-error)*100)\n",
    "        Ypred = np.matmul(test_data,weights.T)\n",
    "        error = np.divide(np.abs(np.subtract(Ypred,Y)),Y)\n",
    "        error = np.divide(np.abs(np.sum(error)),test_data.shape[0])\n",
    "        print(\"error :\",error,\"Accuracy = \",(1-error)*100)\n",
    "        \n",
    "    def main(self,dataframe,test_data):\n",
    "        weights = self.train(dataframe)\n",
    "        print(weights)\n",
    "        self.test(test_data,weights)"
   ]
  },
  {
   "cell_type": "code",
   "execution_count": 184,
   "metadata": {},
   "outputs": [
    {
     "name": "stdout",
     "output_type": "stream",
     "text": [
      "weights:\n",
      " (1, 7) X head :\n",
      "    dummy        x1        x2        x3        x4        x5        x6\n",
      "0    1.0 -0.474196 -0.497031 -0.461830  0.168455 -0.457289  2.201630\n",
      "1    1.0 -0.477125 -0.499704 -0.464078  0.186357 -0.459928  2.197258\n",
      "2    1.0 -0.453292 -0.475871 -0.467788  0.064424 -0.438451  2.224271\n",
      "3    1.0 -0.482039 -0.501819 -0.466618  0.209350 -0.462050  2.191432\n",
      "4    1.0 -0.476682 -0.497710 -0.470609  0.187259 -0.457922  2.197062\n",
      "iteration 0, cost [[3.32075211]]\n",
      "iteration 1, cost [[2.91359448]]\n",
      "iteration 2, cost [[2.55703641]]\n",
      "iteration 3, cost [[2.24474691]]\n",
      "iteration 4, cost [[1.97118994]]\n",
      "iteration 5, cost [[1.73152442]]\n",
      "iteration 6, cost [[1.5215168]]\n",
      "iteration 7, cost [[1.33746466]]\n",
      "iteration 8, cost [[1.17612994]]\n",
      "iteration 9, cost [[1.03468054]]\n",
      "iteration 10, cost [[0.91063929]]\n",
      "iteration 11, cost [[0.80183937]]\n",
      "iteration 12, cost [[0.70638527]]\n",
      "iteration 13, cost [[0.62261878]]\n",
      "iteration 14, cost [[0.5490891]]\n",
      "iteration 15, cost [[0.48452686]]\n",
      "iteration 16, cost [[0.42782133]]\n",
      "iteration 17, cost [[0.3780005]]\n",
      "iteration 18, cost [[0.3342137]]\n",
      "iteration 19, cost [[0.29571636]]\n",
      "iteration 20, cost [[0.26185672]]\n",
      "iteration 21, cost [[0.23206421]]\n",
      "iteration 22, cost [[0.20583924]]\n",
      "iteration 23, cost [[0.18274438]]\n",
      "iteration 24, cost [[0.1623965]]\n",
      "iteration 25, cost [[0.14446005]]\n",
      "iteration 26, cost [[0.12864106]]\n",
      "iteration 27, cost [[0.11468197]]\n",
      "iteration 28, cost [[0.10235707]]\n",
      "iteration 29, cost [[0.09146856]]\n",
      "iteration 30, cost [[0.081843]]\n",
      "iteration 31, cost [[0.07332833]]\n",
      "iteration 32, cost [[0.06579109]]\n",
      "iteration 33, cost [[0.05911323]]\n",
      "iteration 34, cost [[0.05318927]]\n",
      "iteration 35, cost [[0.04792595]]\n",
      "iteration 36, cost [[0.04324041]]\n",
      "iteration 37, cost [[0.03905865]]\n",
      "iteration 38, cost [[0.03531652]]\n",
      "iteration 39, cost [[0.03195797]]\n",
      "iteration 40, cost [[0.0289358]]\n",
      "iteration 41, cost [[0.02620941]]\n",
      "iteration 42, cost [[0.02374339]]\n",
      "iteration 43, cost [[0.02150692]]\n",
      "iteration 44, cost [[0.0194733]]\n",
      "[[0.73258245 1.1197725  1.12728777 1.12055525 0.98284276 1.1206514\n",
      "  0.40833298]]\n",
      "error : 0.22918211519779036 Accuracy =  77.08178848022096\n"
     ]
    }
   ],
   "source": [
    "stochastic_object = Scothastic_Gradient()\n",
    "stochastic_object.main(dataframe,test_data)"
   ]
  },
  {
   "cell_type": "code",
   "execution_count": null,
   "metadata": {},
   "outputs": [],
   "source": []
  }
 ],
 "metadata": {
  "kernelspec": {
   "display_name": "Python 3",
   "language": "python",
   "name": "python3"
  },
  "language_info": {
   "codemirror_mode": {
    "name": "ipython",
    "version": 3
   },
   "file_extension": ".py",
   "mimetype": "text/x-python",
   "name": "python",
   "nbconvert_exporter": "python",
   "pygments_lexer": "ipython3",
   "version": "3.7.2"
  }
 },
 "nbformat": 4,
 "nbformat_minor": 2
}
