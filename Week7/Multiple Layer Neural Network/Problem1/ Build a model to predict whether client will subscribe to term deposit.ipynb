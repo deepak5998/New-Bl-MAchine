{
 "cells": [
  {
   "cell_type": "code",
   "execution_count": 109,
   "metadata": {},
   "outputs": [],
   "source": [
    "# multineural Network\n",
    "import numpy as np\n",
    "import pandas as pd\n",
    "import matplotlib.pyplot as plt\n",
    "# from Machine_learning_Python.Utility.DataPreprocessing.DataPreprocessing import DataPreprocessing"
   ]
  },
  {
   "cell_type": "code",
   "execution_count": 110,
   "metadata": {},
   "outputs": [],
   "source": [
    "dataframe = pd.read_csv('Data/bank.csv',sep=\";\")"
   ]
  },
  {
   "cell_type": "code",
   "execution_count": 111,
   "metadata": {},
   "outputs": [
    {
     "data": {
      "text/html": [
       "<div>\n",
       "<style scoped>\n",
       "    .dataframe tbody tr th:only-of-type {\n",
       "        vertical-align: middle;\n",
       "    }\n",
       "\n",
       "    .dataframe tbody tr th {\n",
       "        vertical-align: top;\n",
       "    }\n",
       "\n",
       "    .dataframe thead th {\n",
       "        text-align: right;\n",
       "    }\n",
       "</style>\n",
       "<table border=\"1\" class=\"dataframe\">\n",
       "  <thead>\n",
       "    <tr style=\"text-align: right;\">\n",
       "      <th></th>\n",
       "      <th>age</th>\n",
       "      <th>job</th>\n",
       "      <th>marital</th>\n",
       "      <th>education</th>\n",
       "      <th>default</th>\n",
       "      <th>balance</th>\n",
       "      <th>housing</th>\n",
       "      <th>loan</th>\n",
       "      <th>contact</th>\n",
       "      <th>day</th>\n",
       "      <th>month</th>\n",
       "      <th>duration</th>\n",
       "      <th>campaign</th>\n",
       "      <th>pdays</th>\n",
       "      <th>previous</th>\n",
       "      <th>poutcome</th>\n",
       "      <th>y</th>\n",
       "    </tr>\n",
       "  </thead>\n",
       "  <tbody>\n",
       "    <tr>\n",
       "      <th>0</th>\n",
       "      <td>30</td>\n",
       "      <td>unemployed</td>\n",
       "      <td>married</td>\n",
       "      <td>primary</td>\n",
       "      <td>no</td>\n",
       "      <td>1787</td>\n",
       "      <td>no</td>\n",
       "      <td>no</td>\n",
       "      <td>cellular</td>\n",
       "      <td>19</td>\n",
       "      <td>oct</td>\n",
       "      <td>79</td>\n",
       "      <td>1</td>\n",
       "      <td>-1</td>\n",
       "      <td>0</td>\n",
       "      <td>unknown</td>\n",
       "      <td>no</td>\n",
       "    </tr>\n",
       "    <tr>\n",
       "      <th>1</th>\n",
       "      <td>33</td>\n",
       "      <td>services</td>\n",
       "      <td>married</td>\n",
       "      <td>secondary</td>\n",
       "      <td>no</td>\n",
       "      <td>4789</td>\n",
       "      <td>yes</td>\n",
       "      <td>yes</td>\n",
       "      <td>cellular</td>\n",
       "      <td>11</td>\n",
       "      <td>may</td>\n",
       "      <td>220</td>\n",
       "      <td>1</td>\n",
       "      <td>339</td>\n",
       "      <td>4</td>\n",
       "      <td>failure</td>\n",
       "      <td>no</td>\n",
       "    </tr>\n",
       "    <tr>\n",
       "      <th>2</th>\n",
       "      <td>35</td>\n",
       "      <td>management</td>\n",
       "      <td>single</td>\n",
       "      <td>tertiary</td>\n",
       "      <td>no</td>\n",
       "      <td>1350</td>\n",
       "      <td>yes</td>\n",
       "      <td>no</td>\n",
       "      <td>cellular</td>\n",
       "      <td>16</td>\n",
       "      <td>apr</td>\n",
       "      <td>185</td>\n",
       "      <td>1</td>\n",
       "      <td>330</td>\n",
       "      <td>1</td>\n",
       "      <td>failure</td>\n",
       "      <td>no</td>\n",
       "    </tr>\n",
       "    <tr>\n",
       "      <th>3</th>\n",
       "      <td>30</td>\n",
       "      <td>management</td>\n",
       "      <td>married</td>\n",
       "      <td>tertiary</td>\n",
       "      <td>no</td>\n",
       "      <td>1476</td>\n",
       "      <td>yes</td>\n",
       "      <td>yes</td>\n",
       "      <td>unknown</td>\n",
       "      <td>3</td>\n",
       "      <td>jun</td>\n",
       "      <td>199</td>\n",
       "      <td>4</td>\n",
       "      <td>-1</td>\n",
       "      <td>0</td>\n",
       "      <td>unknown</td>\n",
       "      <td>no</td>\n",
       "    </tr>\n",
       "    <tr>\n",
       "      <th>4</th>\n",
       "      <td>59</td>\n",
       "      <td>blue-collar</td>\n",
       "      <td>married</td>\n",
       "      <td>secondary</td>\n",
       "      <td>no</td>\n",
       "      <td>0</td>\n",
       "      <td>yes</td>\n",
       "      <td>no</td>\n",
       "      <td>unknown</td>\n",
       "      <td>5</td>\n",
       "      <td>may</td>\n",
       "      <td>226</td>\n",
       "      <td>1</td>\n",
       "      <td>-1</td>\n",
       "      <td>0</td>\n",
       "      <td>unknown</td>\n",
       "      <td>no</td>\n",
       "    </tr>\n",
       "  </tbody>\n",
       "</table>\n",
       "</div>"
      ],
      "text/plain": [
       "   age          job  marital  education default  balance housing loan  \\\n",
       "0   30   unemployed  married    primary      no     1787      no   no   \n",
       "1   33     services  married  secondary      no     4789     yes  yes   \n",
       "2   35   management   single   tertiary      no     1350     yes   no   \n",
       "3   30   management  married   tertiary      no     1476     yes  yes   \n",
       "4   59  blue-collar  married  secondary      no        0     yes   no   \n",
       "\n",
       "    contact  day month  duration  campaign  pdays  previous poutcome   y  \n",
       "0  cellular   19   oct        79         1     -1         0  unknown  no  \n",
       "1  cellular   11   may       220         1    339         4  failure  no  \n",
       "2  cellular   16   apr       185         1    330         1  failure  no  \n",
       "3   unknown    3   jun       199         4     -1         0  unknown  no  \n",
       "4   unknown    5   may       226         1     -1         0  unknown  no  "
      ]
     },
     "execution_count": 111,
     "metadata": {},
     "output_type": "execute_result"
    }
   ],
   "source": [
    "dataframe.head()"
   ]
  },
  {
   "cell_type": "code",
   "execution_count": 112,
   "metadata": {},
   "outputs": [
    {
     "name": "stdout",
     "output_type": "stream",
     "text": [
      "<class 'pandas.core.frame.DataFrame'>\n",
      "RangeIndex: 4521 entries, 0 to 4520\n",
      "Data columns (total 17 columns):\n",
      "age          4521 non-null int64\n",
      "job          4521 non-null object\n",
      "marital      4521 non-null object\n",
      "education    4521 non-null object\n",
      "default      4521 non-null object\n",
      "balance      4521 non-null int64\n",
      "housing      4521 non-null object\n",
      "loan         4521 non-null object\n",
      "contact      4521 non-null object\n",
      "day          4521 non-null int64\n",
      "month        4521 non-null object\n",
      "duration     4521 non-null int64\n",
      "campaign     4521 non-null int64\n",
      "pdays        4521 non-null int64\n",
      "previous     4521 non-null int64\n",
      "poutcome     4521 non-null object\n",
      "y            4521 non-null object\n",
      "dtypes: int64(7), object(10)\n",
      "memory usage: 600.5+ KB\n"
     ]
    }
   ],
   "source": [
    "dataframe.info()"
   ]
  },
  {
   "cell_type": "code",
   "execution_count": 113,
   "metadata": {},
   "outputs": [],
   "source": [
    "dataframe = dataframe.drop(['marital', 'housing','education', 'contact', 'day', 'month', 'poutcome','job'], axis=1)"
   ]
  },
  {
   "cell_type": "code",
   "execution_count": 114,
   "metadata": {},
   "outputs": [
    {
     "data": {
      "text/plain": [
       "age           67\n",
       "default        2\n",
       "balance     2353\n",
       "loan           2\n",
       "duration     875\n",
       "campaign      32\n",
       "pdays        292\n",
       "previous      24\n",
       "y              2\n",
       "dtype: int64"
      ]
     },
     "execution_count": 114,
     "metadata": {},
     "output_type": "execute_result"
    }
   ],
   "source": [
    "dataframe.nunique()"
   ]
  },
  {
   "cell_type": "code",
   "execution_count": 115,
   "metadata": {},
   "outputs": [],
   "source": [
    "dataframe.replace(['yes','no'],[1,0],inplace=True)"
   ]
  },
  {
   "cell_type": "code",
   "execution_count": 116,
   "metadata": {},
   "outputs": [
    {
     "data": {
      "text/html": [
       "<div>\n",
       "<style scoped>\n",
       "    .dataframe tbody tr th:only-of-type {\n",
       "        vertical-align: middle;\n",
       "    }\n",
       "\n",
       "    .dataframe tbody tr th {\n",
       "        vertical-align: top;\n",
       "    }\n",
       "\n",
       "    .dataframe thead th {\n",
       "        text-align: right;\n",
       "    }\n",
       "</style>\n",
       "<table border=\"1\" class=\"dataframe\">\n",
       "  <thead>\n",
       "    <tr style=\"text-align: right;\">\n",
       "      <th></th>\n",
       "      <th>age</th>\n",
       "      <th>default</th>\n",
       "      <th>balance</th>\n",
       "      <th>loan</th>\n",
       "      <th>duration</th>\n",
       "      <th>campaign</th>\n",
       "      <th>pdays</th>\n",
       "      <th>previous</th>\n",
       "      <th>y</th>\n",
       "    </tr>\n",
       "  </thead>\n",
       "  <tbody>\n",
       "    <tr>\n",
       "      <th>0</th>\n",
       "      <td>30</td>\n",
       "      <td>0</td>\n",
       "      <td>1787</td>\n",
       "      <td>0</td>\n",
       "      <td>79</td>\n",
       "      <td>1</td>\n",
       "      <td>-1</td>\n",
       "      <td>0</td>\n",
       "      <td>0</td>\n",
       "    </tr>\n",
       "    <tr>\n",
       "      <th>1</th>\n",
       "      <td>33</td>\n",
       "      <td>0</td>\n",
       "      <td>4789</td>\n",
       "      <td>1</td>\n",
       "      <td>220</td>\n",
       "      <td>1</td>\n",
       "      <td>339</td>\n",
       "      <td>4</td>\n",
       "      <td>0</td>\n",
       "    </tr>\n",
       "    <tr>\n",
       "      <th>2</th>\n",
       "      <td>35</td>\n",
       "      <td>0</td>\n",
       "      <td>1350</td>\n",
       "      <td>0</td>\n",
       "      <td>185</td>\n",
       "      <td>1</td>\n",
       "      <td>330</td>\n",
       "      <td>1</td>\n",
       "      <td>0</td>\n",
       "    </tr>\n",
       "    <tr>\n",
       "      <th>3</th>\n",
       "      <td>30</td>\n",
       "      <td>0</td>\n",
       "      <td>1476</td>\n",
       "      <td>1</td>\n",
       "      <td>199</td>\n",
       "      <td>4</td>\n",
       "      <td>-1</td>\n",
       "      <td>0</td>\n",
       "      <td>0</td>\n",
       "    </tr>\n",
       "    <tr>\n",
       "      <th>4</th>\n",
       "      <td>59</td>\n",
       "      <td>0</td>\n",
       "      <td>0</td>\n",
       "      <td>0</td>\n",
       "      <td>226</td>\n",
       "      <td>1</td>\n",
       "      <td>-1</td>\n",
       "      <td>0</td>\n",
       "      <td>0</td>\n",
       "    </tr>\n",
       "  </tbody>\n",
       "</table>\n",
       "</div>"
      ],
      "text/plain": [
       "   age  default  balance  loan  duration  campaign  pdays  previous  y\n",
       "0   30        0     1787     0        79         1     -1         0  0\n",
       "1   33        0     4789     1       220         1    339         4  0\n",
       "2   35        0     1350     0       185         1    330         1  0\n",
       "3   30        0     1476     1       199         4     -1         0  0\n",
       "4   59        0        0     0       226         1     -1         0  0"
      ]
     },
     "execution_count": 116,
     "metadata": {},
     "output_type": "execute_result"
    }
   ],
   "source": [
    "dataframe.head()"
   ]
  },
  {
   "cell_type": "code",
   "execution_count": 117,
   "metadata": {},
   "outputs": [
    {
     "data": {
      "text/plain": [
       "array([[<matplotlib.axes._subplots.AxesSubplot object at 0x7ff89c038748>,\n",
       "        <matplotlib.axes._subplots.AxesSubplot object at 0x7ff89c062e10>,\n",
       "        <matplotlib.axes._subplots.AxesSubplot object at 0x7ff89c0140b8>],\n",
       "       [<matplotlib.axes._subplots.AxesSubplot object at 0x7ff89bfbc320>,\n",
       "        <matplotlib.axes._subplots.AxesSubplot object at 0x7ff89bfe5588>,\n",
       "        <matplotlib.axes._subplots.AxesSubplot object at 0x7ff89bf8d7f0>],\n",
       "       [<matplotlib.axes._subplots.AxesSubplot object at 0x7ff89bfb6a58>,\n",
       "        <matplotlib.axes._subplots.AxesSubplot object at 0x7ff89bf5fe80>,\n",
       "        <matplotlib.axes._subplots.AxesSubplot object at 0x7ff89bf5feb8>]],\n",
       "      dtype=object)"
      ]
     },
     "execution_count": 117,
     "metadata": {},
     "output_type": "execute_result"
    },
    {
     "data": {
      "image/png": "[encoded data removed]",
      "text/plain": [
       "<Figure size 720x720 with 9 Axes>"
      ]
     },
     "metadata": {
      "needs_background": "light"
     },
     "output_type": "display_data"
    }
   ],
   "source": [
    "dataframe.hist(figsize=(10,10))"
   ]
  },
  {
   "cell_type": "code",
   "execution_count": 118,
   "metadata": {},
   "outputs": [
    {
     "data": {
      "text/plain": [
       "<matplotlib.axes._subplots.AxesSubplot at 0x7ff89bda4518>"
      ]
     },
     "execution_count": 118,
     "metadata": {},
     "output_type": "execute_result"
    },
    {
     "data": {
      "image/png": "[encoded data removed]",
      "text/plain": [
       "<Figure size 432x288 with 1 Axes>"
      ]
     },
     "metadata": {
      "needs_background": "light"
     },
     "output_type": "display_data"
    }
   ],
   "source": [
    "dataframe.boxplot()"
   ]
  },
  {
   "cell_type": "code",
   "execution_count": 119,
   "metadata": {},
   "outputs": [
    {
     "data": {
      "text/plain": [
       "age         0\n",
       "default     0\n",
       "balance     0\n",
       "loan        0\n",
       "duration    0\n",
       "campaign    0\n",
       "pdays       0\n",
       "previous    0\n",
       "y           0\n",
       "dtype: int64"
      ]
     },
     "execution_count": 119,
     "metadata": {},
     "output_type": "execute_result"
    }
   ],
   "source": [
    "dataframe.isna().sum()"
   ]
  },
  {
   "cell_type": "code",
   "execution_count": 120,
   "metadata": {},
   "outputs": [],
   "source": [
    "class DataPreprocessing:\n",
    "\n",
    "    def __init__(self):\n",
    "        print()\n",
    "\n",
    "    @staticmethod\n",
    "    def complete_Replace(dataframe, original, new):\n",
    "        return dataframe[original].replace(original, new, inplace=True)\n",
    "\n",
    "    @staticmethod\n",
    "    def one_hot_encoder(dataframe):\n",
    "        return pd.get_dummies(dataframe)\n",
    "\n",
    "    @staticmethod\n",
    "    def fill_Na(dataframe, column, fill):\n",
    "        dataframe[column] = dataframe[column].fillna(fill)\n",
    "        return dataframe\n",
    "\n",
    "    @staticmethod\n",
    "    def feature_scaling(dataframe, column):\n",
    "        dataframe[column] = np.divide(np.subtract(dataframe, dataframe[column].mean()),\n",
    "                                      dataframe[column].std())\n",
    "        return dataframe[column]\n",
    "\n",
    "    @staticmethod\n",
    "    def split(dataframe, numrows):\n",
    "        test_data = dataframe.tail(numrows).reset_index(drop=True)\n",
    "        # here we reset index as if the index remain same for accessing by index could be difficult\n",
    "        return dataframe.head(len(dataframe)-numrows).reset_index(), test_data.reset_index()\n",
    "\n",
    "    @staticmethod\n",
    "    def sigmoid_Function(Z):\n",
    "        gz= np.divide(1, 1+np.exp(np.multiply(-1,Z)))\n",
    "        return gz\n",
    "    \n",
    "    @staticmethod\n",
    "    def remove_outlier(dataframe):\n",
    "        dataframe = dataframe[np.abs(dataframe - dataframe.mean()) <= (3 * dataframe.std())]\n",
    "        return dataframe.reset_index()\n"
   ]
  },
  {
   "cell_type": "code",
   "execution_count": 131,
   "metadata": {},
   "outputs": [],
   "source": [
    "# inheritance\n",
    "class Data_Prep_child(DataPreprocessing):\n",
    "    pass"
   ]
  },
  {
   "cell_type": "code",
   "execution_count": 122,
   "metadata": {},
   "outputs": [],
   "source": [
    "column = ['age','balance','duration','campaign','pdays','previous']\n",
    "for item in column:\n",
    "    dataframe[item] = Data_Prep_child.feature_scaling(dataframe,item)"
   ]
  },
  {
   "cell_type": "code",
   "execution_count": 123,
   "metadata": {},
   "outputs": [
    {
     "data": {
      "text/html": [
       "<div>\n",
       "<style scoped>\n",
       "    .dataframe tbody tr th:only-of-type {\n",
       "        vertical-align: middle;\n",
       "    }\n",
       "\n",
       "    .dataframe tbody tr th {\n",
       "        vertical-align: top;\n",
       "    }\n",
       "\n",
       "    .dataframe thead th {\n",
       "        text-align: right;\n",
       "    }\n",
       "</style>\n",
       "<table border=\"1\" class=\"dataframe\">\n",
       "  <thead>\n",
       "    <tr style=\"text-align: right;\">\n",
       "      <th></th>\n",
       "      <th>age</th>\n",
       "      <th>default</th>\n",
       "      <th>balance</th>\n",
       "      <th>loan</th>\n",
       "      <th>duration</th>\n",
       "      <th>campaign</th>\n",
       "      <th>pdays</th>\n",
       "      <th>previous</th>\n",
       "      <th>y</th>\n",
       "    </tr>\n",
       "  </thead>\n",
       "  <tbody>\n",
       "    <tr>\n",
       "      <th>0</th>\n",
       "      <td>-1.056153</td>\n",
       "      <td>0</td>\n",
       "      <td>-0.473052</td>\n",
       "      <td>0</td>\n",
       "      <td>-1.019860</td>\n",
       "      <td>-1.237949</td>\n",
       "      <td>-0.407734</td>\n",
       "      <td>-0.944005</td>\n",
       "      <td>0</td>\n",
       "    </tr>\n",
       "    <tr>\n",
       "      <th>1</th>\n",
       "      <td>-0.772497</td>\n",
       "      <td>0</td>\n",
       "      <td>-0.472957</td>\n",
       "      <td>1</td>\n",
       "      <td>-1.018769</td>\n",
       "      <td>-1.146736</td>\n",
       "      <td>-0.404901</td>\n",
       "      <td>-0.776515</td>\n",
       "      <td>0</td>\n",
       "    </tr>\n",
       "    <tr>\n",
       "      <th>2</th>\n",
       "      <td>-0.583394</td>\n",
       "      <td>0</td>\n",
       "      <td>-0.472894</td>\n",
       "      <td>0</td>\n",
       "      <td>-1.018041</td>\n",
       "      <td>-1.085927</td>\n",
       "      <td>-0.403012</td>\n",
       "      <td>-0.664855</td>\n",
       "      <td>0</td>\n",
       "    </tr>\n",
       "    <tr>\n",
       "      <th>3</th>\n",
       "      <td>-1.056153</td>\n",
       "      <td>0</td>\n",
       "      <td>-0.473052</td>\n",
       "      <td>1</td>\n",
       "      <td>-1.019860</td>\n",
       "      <td>-1.237949</td>\n",
       "      <td>-0.407734</td>\n",
       "      <td>-0.944005</td>\n",
       "      <td>0</td>\n",
       "    </tr>\n",
       "    <tr>\n",
       "      <th>4</th>\n",
       "      <td>1.685850</td>\n",
       "      <td>0</td>\n",
       "      <td>-0.472140</td>\n",
       "      <td>0</td>\n",
       "      <td>-1.009308</td>\n",
       "      <td>-0.356221</td>\n",
       "      <td>-0.380347</td>\n",
       "      <td>0.675069</td>\n",
       "      <td>0</td>\n",
       "    </tr>\n",
       "  </tbody>\n",
       "</table>\n",
       "</div>"
      ],
      "text/plain": [
       "        age  default   balance  loan  duration  campaign     pdays  previous  \\\n",
       "0 -1.056153        0 -0.473052     0 -1.019860 -1.237949 -0.407734 -0.944005   \n",
       "1 -0.772497        0 -0.472957     1 -1.018769 -1.146736 -0.404901 -0.776515   \n",
       "2 -0.583394        0 -0.472894     0 -1.018041 -1.085927 -0.403012 -0.664855   \n",
       "3 -1.056153        0 -0.473052     1 -1.019860 -1.237949 -0.407734 -0.944005   \n",
       "4  1.685850        0 -0.472140     0 -1.009308 -0.356221 -0.380347  0.675069   \n",
       "\n",
       "   y  \n",
       "0  0  \n",
       "1  0  \n",
       "2  0  \n",
       "3  0  \n",
       "4  0  "
      ]
     },
     "execution_count": 123,
     "metadata": {},
     "output_type": "execute_result"
    }
   ],
   "source": [
    "dataframe.head()"
   ]
  },
  {
   "cell_type": "code",
   "execution_count": 124,
   "metadata": {},
   "outputs": [
    {
     "data": {
      "text/plain": [
       "array([[<matplotlib.axes._subplots.AxesSubplot object at 0x7ff89bbd8320>,\n",
       "        <matplotlib.axes._subplots.AxesSubplot object at 0x7ff89bb797f0>,\n",
       "        <matplotlib.axes._subplots.AxesSubplot object at 0x7ff89bba2a58>],\n",
       "       [<matplotlib.axes._subplots.AxesSubplot object at 0x7ff89bb4bcc0>,\n",
       "        <matplotlib.axes._subplots.AxesSubplot object at 0x7ff89bb74f28>,\n",
       "        <matplotlib.axes._subplots.AxesSubplot object at 0x7ff89bb261d0>],\n",
       "       [<matplotlib.axes._subplots.AxesSubplot object at 0x7ff89bacf438>,\n",
       "        <matplotlib.axes._subplots.AxesSubplot object at 0x7ff89baf68d0>,\n",
       "        <matplotlib.axes._subplots.AxesSubplot object at 0x7ff89baf6908>]],\n",
       "      dtype=object)"
      ]
     },
     "execution_count": 124,
     "metadata": {},
     "output_type": "execute_result"
    },
    {
     "data": {
      "image/png": "[encoded data removed]",
      "text/plain": [
       "<Figure size 720x720 with 9 Axes>"
      ]
     },
     "metadata": {
      "needs_background": "light"
     },
     "output_type": "display_data"
    }
   ],
   "source": [
    "dataframe.hist(figsize=(10,10))"
   ]
  },
  {
   "cell_type": "code",
   "execution_count": 125,
   "metadata": {},
   "outputs": [
    {
     "data": {
      "text/plain": [
       "<matplotlib.axes._subplots.AxesSubplot at 0x7ff89c0a0240>"
      ]
     },
     "execution_count": 125,
     "metadata": {},
     "output_type": "execute_result"
    },
    {
     "data": {
      "image/png": "[encoded data removed]",
      "text/plain": [
       "<Figure size 720x720 with 1 Axes>"
      ]
     },
     "metadata": {
      "needs_background": "light"
     },
     "output_type": "display_data"
    }
   ],
   "source": [
    "dataframe.boxplot(figsize=(10,10))"
   ]
  },
  {
   "cell_type": "code",
   "execution_count": 126,
   "metadata": {},
   "outputs": [],
   "source": [
    "# There are outliers however we'll first see how it works without outliers, as it gave 87.6 % accuracy not deleted  null values"
   ]
  },
  {
   "cell_type": "code",
   "execution_count": 127,
   "metadata": {},
   "outputs": [],
   "source": [
    "dataframe, test_data = Data_Prep_child.split(dataframe,500)"
   ]
  },
  {
   "cell_type": "code",
   "execution_count": 128,
   "metadata": {},
   "outputs": [],
   "source": [
    "class Neural_Network:\n",
    "    \n",
    "    def __init__(self):\n",
    "        # epochs\n",
    "        self.iteration = 2000\n",
    "        self.learning_rate = 0.08\n",
    "        # number of neurons in each layer last is the output layer\n",
    "        self.neurons = list([5,3,1])\n",
    "        self.boundary = 0.5\n",
    "    \n",
    "    def sigmoid(self,Z):\n",
    "        # sigmoid function calculation\n",
    "        gz= np.divide(1, 1+np.power(np.e,np.multiply(-1,Z)))\n",
    "        return gz\n",
    "    \n",
    "    def  train(self,dataframe):\n",
    "        # stores the num rows in dataframe\n",
    "        train_size = dataframe.shape[0]\n",
    "        # storing the outputs of dataframe\n",
    "        train_outputs = pd.DataFrame(dataframe['y']).T\n",
    "        # deleting the outputs from dataframe for computing\n",
    "        dataframe = dataframe.drop('y',axis=1)\n",
    "        # adding dummy layer to the data frame\n",
    "        dataframe = dataframe.drop('index',axis=1)\n",
    "        # weights of hidden layer 1\n",
    "        weights1 = np.random.rand(self.neurons[0],dataframe.shape[1]) # 5,8\n",
    "        bais1 = np.full((self.neurons[0],1),1.0) # 5,1\n",
    "         # weights of hidden layer 2\n",
    "        weights2 = np.random.rand(self.neurons[1],weights1.shape[0]) # 3,5\n",
    "        bais2 = np.full((self.neurons[1],1),1.0) # 3,1\n",
    "        \n",
    "        # weights of output layer\n",
    "        weights3 = np.random.rand(self.neurons[2],weights2.shape[0]) # 1,3\n",
    "        bais3 = np.full((self.neurons[2],1),1.0) # 1,1\n",
    "        \n",
    "        for iteration in range(1,self.iteration):\n",
    "        # forward propagation\n",
    "            # hidden layer\n",
    "            # Layer 1 \n",
    "            Z1 =  pd.DataFrame(np.add(np.matmul(weights1,dataframe.T),bais1)) # 5,m\n",
    "            A1 = self.sigmoid(Z1) # 5,m\n",
    "            # Layer 2\n",
    "            Z2 = pd.DataFrame(np.add(np.matmul(weights2,A1),bais2)) # 3,m\n",
    "            A2 = self.sigmoid(Z2) # 3,m\n",
    "            # layer 3\n",
    "            Z3 = pd.DataFrame(np.add(np.matmul(weights3,A2),bais3)) # 1,m\n",
    "            A3 = self.sigmoid(Z3) # 1,m\n",
    "            # calculating Loss\n",
    "            loss = np.add(\n",
    "                    np.multiply(\n",
    "                        np.log(A3.T),train_outputs.T\n",
    "                    ),np.multiply(\n",
    "                        np.subtract(1,train_outputs.T),\n",
    "                                        np.log(np.subtract(1,A3.T))))\n",
    "            loss = np.divide(loss.sum(),train_size)*(-1)\n",
    "            # as above loss was becoming an array hence converted into a single number\n",
    "            loss= loss[0] # 1,1\n",
    "            if iteration%30==0:\n",
    "                plt.plot(iteration,loss, markersize=0.6,color='r',marker='*')\n",
    "                \n",
    "            # backward propagation\n",
    "            \n",
    "            # output side that is layer 3\n",
    "            dz3 = np.subtract(A3,train_outputs) # 1,m\n",
    "            dw3 = np.divide(np.matmul(dz3,A2.T),train_size) # 1,3\n",
    "            db3 = np.array(np.sum(dz3,axis=1)/train_size).reshape(1,1) # 1,1\n",
    "            weights3 = np.subtract(weights3,np.multiply(self.learning_rate,dw3)) # 1,3\n",
    "            bais3 = bais3 - self.learning_rate*db3 # 1,1\n",
    "            # hidden layer side\n",
    "            \n",
    "            # Hidden layer 2\n",
    "            g2_derv = np.multiply(A2,np.subtract(1,A2)) # 3,m\n",
    "            dz2=np.multiply(np.matmul(weights3.T,dz3),g2_derv) # 3,m\n",
    "            dw2=np.divide(np.matmul(dz2,A1.T),train_size) # 3,5\n",
    "            db2=np.array(np.divide(np.sum(dz2 ,axis=1),train_size)).reshape(dz2.shape[0],1) # 3,1\n",
    "            weights2= np.subtract(weights2,np.multiply(self.learning_rate,dw2)) # 3,5\n",
    "            bais2 = np.subtract(bais2,np.multiply(self.learning_rate,db2)) # 3,1\n",
    "        \n",
    "            # Hidden Layer 1\n",
    "            g1_derv = np.multiply(A1,np.subtract(1,A1)) # 5,m\n",
    "            dz1=np.multiply(np.matmul(weights2.T,dz2),g1_derv) # 5,m\n",
    "            dw1=np.divide(np.matmul(dz1,dataframe),train_size) # 5,8\n",
    "            db1=np.array(np.divide(np.sum(dz1 ,axis=1),train_size)).reshape(dz1.shape[0],1) # 5,1\n",
    "            weights1= np.subtract(weights1,np.multiply(self.learning_rate,dw1)) # 5,8\n",
    "            bais1 = np.subtract(bais1,np.multiply(self.learning_rate,db1)) # 5,1\n",
    "        plt.title(\"iteration vs loss\")\n",
    "        plt.show()\n",
    "        return weights1,bais1,weights2,bais2,weights3,bais3\n",
    "    \n",
    "    def test(self,test_data,weights1,bais1,weights2,bais2,weights3,bais3):\n",
    "        outputs = np.array(test_data['y']).reshape(test_data.shape[0],1) # m,1\n",
    "        test_size = test_data.shape[0]\n",
    "        # deleting the output column from test_data\n",
    "        test_data = test_data.drop('y',axis=1)  \n",
    "        test_data = test_data.drop('index',axis=1) # m,8\n",
    "        Z1= np.add(np.matmul(weights1,test_data.T),bais1) # added transpose 5,m\n",
    "        A1 = self.sigmoid(Z1) # 5,m\n",
    "        \n",
    "        Z2 = np.add(np.matmul(weights2,A1),bais2) # 3,m\n",
    "        A2 = self.sigmoid(Z2) # 3,m\n",
    "        \n",
    "        # outputs\n",
    "        Z3 = np.add(np.matmul(weights3,A2),bais3) # 1,m\n",
    "        A3 = self.sigmoid(Z3).T # m,1\n",
    "        \n",
    "        Ypred =np.zeros(test_data.shape[0])\n",
    "        count = 0\n",
    "        for counter in range(0,test_data.shape[0]):\n",
    "            if A3[counter]>self.boundary :\n",
    "                Ypred[counter]=1\n",
    "            else:\n",
    "                Ypred[counter]=0\n",
    "            if Ypred[counter]==outputs[counter]:\n",
    "                count+=1\n",
    "        accuracy  = count/test_data.shape[0]\n",
    "        # printing the accuracy\n",
    "        print(\"Accuracy\",accuracy*100)\n",
    "    \n",
    "    def main(self,dataframe,test_data):\n",
    "        # Storing the weights of the various layers which were calculated in training phase\n",
    "        weights1,bais1,weights2,bais2,weights3,bais3 = self.train(dataframe)\n",
    "        print(\"Weights1 : {},bais1: {} , we2: {}, bais2: {}\"\n",
    "              .format(weights1.shape,bais1.shape,weights2.shape,bais2.shape))\n",
    "        # performing the test on test data\n",
    "        self.test(test_data,weights1,bais1,weights2,bais2,weights3,bais3)"
   ]
  },
  {
   "cell_type": "code",
   "execution_count": 129,
   "metadata": {},
   "outputs": [],
   "source": [
    "neural = Neural_Network()"
   ]
  },
  {
   "cell_type": "code",
   "execution_count": 130,
   "metadata": {},
   "outputs": [
    {
     "data": {
      "image/png": "[encoded data removed]",
      "text/plain": [
       "<Figure size 432x288 with 1 Axes>"
      ]
     },
     "metadata": {
      "needs_background": "light"
     },
     "output_type": "display_data"
    },
    {
     "name": "stdout",
     "output_type": "stream",
     "text": [
      "Weights1 : (5, 8),bais1: (5, 1) , we2: (3, 5), bais2: (3, 1)\n",
      "Accuracy 87.6\n"
     ]
    }
   ],
   "source": [
    "neural.main(dataframe,test_data)"
   ]
  }
 ],
 "metadata": {
  "kernelspec": {
   "display_name": "Python 3",
   "language": "python",
   "name": "python3"
  },
  "language_info": {
   "codemirror_mode": {
    "name": "ipython",
    "version": 3
   },
   "file_extension": ".py",
   "mimetype": "text/x-python",
   "name": "python",
   "nbconvert_exporter": "python",
   "pygments_lexer": "ipython3",
   "version": "3.7.2"
  }
 },
 "nbformat": 4,
 "nbformat_minor": 2
}
