{
 "cells": [
  {
   "cell_type": "code",
   "execution_count": 34,
   "metadata": {},
   "outputs": [],
   "source": [
    "import pandas as pd\n",
    "import numpy as np\n",
    "import matplotlib.pyplot as plt\n",
    "from sklearn.naive_bayes import GaussianNB\n",
    "from sklearn.preprocessing import *\n",
    "from sklearn.metrics import confusion_matrix\n",
    "from sklearn.metrics import *\n",
    "from sklearn.model_selection import train_test_split\n",
    "import importlib.util\n",
    "import seaborn as sns\n",
    "from sklearn.preprocessing import OneHotEncoder,LabelEncoder\n",
    "le = LabelEncoder()\n",
    "ohe = OneHotEncoder()\n",
    "\n",
    "import pickle"
   ]
  },
  {
   "cell_type": "code",
   "execution_count": 35,
   "metadata": {},
   "outputs": [
    {
     "name": "stdout",
     "output_type": "stream",
     "text": [
      "Data PreProcessign object created successfully\n"
     ]
    }
   ],
   "source": [
    "spec = importlib.util.spec_from_file_location(\"DataPreprocessing\", \"/home/admin1/PycharmProjects/Machine_learning_Python/Utility/DataPreprocessing.py\")\n",
    "#At home windows\n",
    "# spec = importlib.util.spec_from_file_location(\"DataPreprocessing\", \"C:/Users/PRAYAS/PycharmProjects/Machine_Learning_Python/Utility/DataPreprocessing.py\")\n",
    "# C:\\Users\\PRAYAS\\PycharmProjects\\Machine_Learning_Python\\Utility\n",
    "foo = importlib.util.module_from_spec(spec)\n",
    "spec.loader.exec_module(foo)\n",
    "preprocess_obj = foo.DataPreprocessing()\n"
   ]
  },
  {
   "cell_type": "code",
   "execution_count": 36,
   "metadata": {},
   "outputs": [],
   "source": [
    "dataframe = pd.read_csv('Data/1625Data.txt', header=None, names=['peptide','HIV'])"
   ]
  },
  {
   "cell_type": "code",
   "execution_count": 37,
   "metadata": {},
   "outputs": [
    {
     "data": {
      "text/html": [
       "<div>\n",
       "<style scoped>\n",
       "    .dataframe tbody tr th:only-of-type {\n",
       "        vertical-align: middle;\n",
       "    }\n",
       "\n",
       "    .dataframe tbody tr th {\n",
       "        vertical-align: top;\n",
       "    }\n",
       "\n",
       "    .dataframe thead th {\n",
       "        text-align: right;\n",
       "    }\n",
       "</style>\n",
       "<table border=\"1\" class=\"dataframe\">\n",
       "  <thead>\n",
       "    <tr style=\"text-align: right;\">\n",
       "      <th></th>\n",
       "      <th>peptide</th>\n",
       "      <th>HIV</th>\n",
       "    </tr>\n",
       "  </thead>\n",
       "  <tbody>\n",
       "    <tr>\n",
       "      <th>0</th>\n",
       "      <td>SLNLRETN</td>\n",
       "      <td>1</td>\n",
       "    </tr>\n",
       "    <tr>\n",
       "      <th>1</th>\n",
       "      <td>AECFRIFD</td>\n",
       "      <td>1</td>\n",
       "    </tr>\n",
       "    <tr>\n",
       "      <th>2</th>\n",
       "      <td>HLVEALYL</td>\n",
       "      <td>1</td>\n",
       "    </tr>\n",
       "    <tr>\n",
       "      <th>3</th>\n",
       "      <td>TQIMFETF</td>\n",
       "      <td>1</td>\n",
       "    </tr>\n",
       "    <tr>\n",
       "      <th>4</th>\n",
       "      <td>AEELAEIF</td>\n",
       "      <td>1</td>\n",
       "    </tr>\n",
       "  </tbody>\n",
       "</table>\n",
       "</div>"
      ],
      "text/plain": [
       "    peptide  HIV\n",
       "0  SLNLRETN    1\n",
       "1  AECFRIFD    1\n",
       "2  HLVEALYL    1\n",
       "3  TQIMFETF    1\n",
       "4  AEELAEIF    1"
      ]
     },
     "execution_count": 37,
     "metadata": {},
     "output_type": "execute_result"
    }
   ],
   "source": [
    "dataframe.head()"
   ]
  },
  {
   "cell_type": "code",
   "execution_count": 38,
   "metadata": {},
   "outputs": [
    {
     "name": "stdout",
     "output_type": "stream",
     "text": [
      "<class 'pandas.core.frame.DataFrame'>\n",
      "RangeIndex: 1625 entries, 0 to 1624\n",
      "Data columns (total 2 columns):\n",
      "peptide    1625 non-null object\n",
      "HIV        1625 non-null int64\n",
      "dtypes: int64(1), object(1)\n",
      "memory usage: 25.5+ KB\n"
     ]
    }
   ],
   "source": [
    "dataframe.info()"
   ]
  },
  {
   "cell_type": "code",
   "execution_count": 39,
   "metadata": {},
   "outputs": [
    {
     "data": {
      "text/plain": [
       "peptide    0\n",
       "HIV        0\n",
       "dtype: int64"
      ]
     },
     "execution_count": 39,
     "metadata": {},
     "output_type": "execute_result"
    }
   ],
   "source": [
    "(dataframe==np.NaN).sum()"
   ]
  },
  {
   "cell_type": "code",
   "execution_count": 40,
   "metadata": {},
   "outputs": [],
   "source": [
    "class converter:\n",
    "    def convert(self,dataframe):\n",
    "        amino = dataframe['peptide']\n",
    "        len_amino = len(amino[0])\n",
    "        cols = ['Test'+'_'+str(num) for num in range (0,len(amino[0]))]\n",
    "        # Adding new rows in the\n",
    "        for item in cols:\n",
    "            dataframe[item]=0\n",
    "        for items in cols:\n",
    "            dataframe[items] = np.NaN\n",
    "        # converting each alphabet to feature\n",
    "        for row in range(0,dataframe.shape[0]):\n",
    "            for col in range (0,len_amino):\n",
    "                dataframe.iloc[row,col+2] = amino[row][col]\n",
    "        return dataframe\n",
    "        \n",
    "    def one_hot_encode(self,dataframe):\n",
    "        Y_train = dataframe['HIV']\n",
    "        dataframe= dataframe.drop(columns=['peptide','HIV'],axis=1)\n",
    "        dataframe = dataframe.apply(le.fit_transform)\n",
    "        dataframe = dataframe.apply(pd.to_numeric)\n",
    "        print(\"Before one hot encoding\\n\",dataframe.head())\n",
    "        ohe.fit(dataframe)\n",
    "        X_train = ohe.transform(dataframe)\n",
    "#         X_train = X_train[:,8:]\n",
    "        print(\"After encoding the shape of X train data is\",X_train.shape)\n",
    "        return X_train,Y_train"
   ]
  },
  {
   "cell_type": "code",
   "execution_count": 41,
   "metadata": {},
   "outputs": [],
   "source": [
    "converter_obj = converter()\n",
    "dataframe = converter_obj.convert(dataframe)"
   ]
  },
  {
   "cell_type": "code",
   "execution_count": 42,
   "metadata": {},
   "outputs": [
    {
     "data": {
      "text/html": [
       "<div>\n",
       "<style scoped>\n",
       "    .dataframe tbody tr th:only-of-type {\n",
       "        vertical-align: middle;\n",
       "    }\n",
       "\n",
       "    .dataframe tbody tr th {\n",
       "        vertical-align: top;\n",
       "    }\n",
       "\n",
       "    .dataframe thead th {\n",
       "        text-align: right;\n",
       "    }\n",
       "</style>\n",
       "<table border=\"1\" class=\"dataframe\">\n",
       "  <thead>\n",
       "    <tr style=\"text-align: right;\">\n",
       "      <th></th>\n",
       "      <th>peptide</th>\n",
       "      <th>HIV</th>\n",
       "      <th>Test_0</th>\n",
       "      <th>Test_1</th>\n",
       "      <th>Test_2</th>\n",
       "      <th>Test_3</th>\n",
       "      <th>Test_4</th>\n",
       "      <th>Test_5</th>\n",
       "      <th>Test_6</th>\n",
       "      <th>Test_7</th>\n",
       "    </tr>\n",
       "  </thead>\n",
       "  <tbody>\n",
       "    <tr>\n",
       "      <th>0</th>\n",
       "      <td>SLNLRETN</td>\n",
       "      <td>1</td>\n",
       "      <td>S</td>\n",
       "      <td>L</td>\n",
       "      <td>N</td>\n",
       "      <td>L</td>\n",
       "      <td>R</td>\n",
       "      <td>E</td>\n",
       "      <td>T</td>\n",
       "      <td>N</td>\n",
       "    </tr>\n",
       "    <tr>\n",
       "      <th>1</th>\n",
       "      <td>AECFRIFD</td>\n",
       "      <td>1</td>\n",
       "      <td>A</td>\n",
       "      <td>E</td>\n",
       "      <td>C</td>\n",
       "      <td>F</td>\n",
       "      <td>R</td>\n",
       "      <td>I</td>\n",
       "      <td>F</td>\n",
       "      <td>D</td>\n",
       "    </tr>\n",
       "    <tr>\n",
       "      <th>2</th>\n",
       "      <td>HLVEALYL</td>\n",
       "      <td>1</td>\n",
       "      <td>H</td>\n",
       "      <td>L</td>\n",
       "      <td>V</td>\n",
       "      <td>E</td>\n",
       "      <td>A</td>\n",
       "      <td>L</td>\n",
       "      <td>Y</td>\n",
       "      <td>L</td>\n",
       "    </tr>\n",
       "    <tr>\n",
       "      <th>3</th>\n",
       "      <td>TQIMFETF</td>\n",
       "      <td>1</td>\n",
       "      <td>T</td>\n",
       "      <td>Q</td>\n",
       "      <td>I</td>\n",
       "      <td>M</td>\n",
       "      <td>F</td>\n",
       "      <td>E</td>\n",
       "      <td>T</td>\n",
       "      <td>F</td>\n",
       "    </tr>\n",
       "    <tr>\n",
       "      <th>4</th>\n",
       "      <td>AEELAEIF</td>\n",
       "      <td>1</td>\n",
       "      <td>A</td>\n",
       "      <td>E</td>\n",
       "      <td>E</td>\n",
       "      <td>L</td>\n",
       "      <td>A</td>\n",
       "      <td>E</td>\n",
       "      <td>I</td>\n",
       "      <td>F</td>\n",
       "    </tr>\n",
       "  </tbody>\n",
       "</table>\n",
       "</div>"
      ],
      "text/plain": [
       "    peptide  HIV Test_0 Test_1 Test_2 Test_3 Test_4 Test_5 Test_6 Test_7\n",
       "0  SLNLRETN    1      S      L      N      L      R      E      T      N\n",
       "1  AECFRIFD    1      A      E      C      F      R      I      F      D\n",
       "2  HLVEALYL    1      H      L      V      E      A      L      Y      L\n",
       "3  TQIMFETF    1      T      Q      I      M      F      E      T      F\n",
       "4  AEELAEIF    1      A      E      E      L      A      E      I      F"
      ]
     },
     "execution_count": 42,
     "metadata": {},
     "output_type": "execute_result"
    }
   ],
   "source": [
    "dataframe.head()"
   ]
  },
  {
   "cell_type": "code",
   "execution_count": 43,
   "metadata": {},
   "outputs": [
    {
     "name": "stdout",
     "output_type": "stream",
     "text": [
      "<class 'pandas.core.frame.DataFrame'>\n",
      "RangeIndex: 1625 entries, 0 to 1624\n",
      "Data columns (total 10 columns):\n",
      "peptide    1625 non-null object\n",
      "HIV        1625 non-null int64\n",
      "Test_0     1625 non-null object\n",
      "Test_1     1625 non-null object\n",
      "Test_2     1625 non-null object\n",
      "Test_3     1625 non-null object\n",
      "Test_4     1625 non-null object\n",
      "Test_5     1625 non-null object\n",
      "Test_6     1625 non-null object\n",
      "Test_7     1625 non-null object\n",
      "dtypes: int64(1), object(9)\n",
      "memory usage: 127.0+ KB\n"
     ]
    }
   ],
   "source": [
    "dataframe.info()"
   ]
  },
  {
   "cell_type": "code",
   "execution_count": 44,
   "metadata": {},
   "outputs": [],
   "source": [
    "class Naive_Bayes_sklearn():\n",
    "        \n",
    "    def Naive_Bayes_sklearn_demo(self,X_train,Y_train,X_test,Y_test):\n",
    "        classifier = GaussianNB()\n",
    "        classifier.fit(X_train.toarray(),Y_train)\n",
    "        Ypred = classifier.predict(X_test.toarray())\n",
    "        file = open('NaiveBayes_P2.pkl','wb')\n",
    "        pickle.dump(classifier,file)\n",
    "        file.close()\n",
    "        print(\"Accuracy = \",accuracy_score(Ypred,Y_test)*100)\n",
    "     \n",
    "    def main(self,dataframe):\n",
    "        converter_obj = converter()\n",
    "        X_train,Y_train = converter_obj.one_hot_encode(dataframe)\n",
    "        X_train,X_test,Y_train,Y_test = train_test_split(X_train,Y_train,test_size = 0.3)\n",
    "        self.Naive_Bayes_sklearn_demo(X_train,Y_train,X_test,Y_test)"
   ]
  },
  {
   "cell_type": "code",
   "execution_count": 45,
   "metadata": {},
   "outputs": [],
   "source": [
    "classifier  = Naive_Bayes_sklearn()"
   ]
  },
  {
   "cell_type": "code",
   "execution_count": 46,
   "metadata": {},
   "outputs": [
    {
     "name": "stdout",
     "output_type": "stream",
     "text": [
      "Before one hot encoding\n",
      "    Test_0  Test_1  Test_2  Test_3  Test_4  Test_5  Test_6  Test_7\n",
      "0      15       9      11       9      14       3      16      11\n",
      "1       0       3       1       4      14       7       4       2\n",
      "2       6       9      17       3       0       9      19       9\n",
      "3      16      13       7      10       4       3      16       4\n",
      "4       0       3       3       9       0       3       7       4\n",
      "After encoding the shape of X train data is (1625, 160)\n",
      "Accuracy =  83.40163934426229\n"
     ]
    }
   ],
   "source": [
    "classifier.main(dataframe)"
   ]
  }
 ],
 "metadata": {
  "kernelspec": {
   "display_name": "Python 3",
   "language": "python",
   "name": "python3"
  },
  "language_info": {
   "codemirror_mode": {
    "name": "ipython",
    "version": 3
   },
   "file_extension": ".py",
   "mimetype": "text/x-python",
   "name": "python",
   "nbconvert_exporter": "python",
   "pygments_lexer": "ipython3",
   "version": "3.7.2"
  }
 },
 "nbformat": 4,
 "nbformat_minor": 2
}
