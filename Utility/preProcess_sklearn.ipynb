{
 "cells": [
  {
   "cell_type": "code",
   "execution_count": 1,
   "metadata": {},
   "outputs": [],
   "source": [
    "from sklearn.preprocessing import *\n",
    "\n",
    "class DataPreprocessing:\n",
    "\n",
    "    def handle_missing_values(dataframe,cols):\n",
    "        # inside preprocessing\n",
    "        imputer = Imputer(missing_values='NaN', strategy='mean', axis=0)\n",
    "        # strategy can be median or most_frequent\n",
    "        imputer.fit(dataframe.iloc[:,cols[0]])\n",
    "        for num in cols:\n",
    "            dataframe.iloc[:,num] = imputer.transform(dataframe.iloc[:,num])\n",
    "\n",
    "    def one_hot_encoder(dataframe,cols):\n",
    "        l_encoder = LabelEncoder() # label encoder is in pre processing it'll convert \n",
    "        for col in cols:\n",
    "            l_encoder.fit_transform(dataframe[:,col])\n",
    "            # if there are only 2 variables in the category eg. yes or no then we do not do the one hot encoding as \n",
    "            one_encoder = OneHotEncoder(categorical_features=[col])# cols is the column to be one hod encoded\n",
    "            dataframe[:,col]=one_encoder.fit_transform(dataframe[:,col]).toarray()\n",
    "        return dataframe\n"
   ]
  }
 ],
 "metadata": {
  "kernelspec": {
   "display_name": "Python 3",
   "language": "python",
   "name": "python3"
  },
  "language_info": {
   "codemirror_mode": {
    "name": "ipython",
    "version": 3
   },
   "file_extension": ".py",
   "mimetype": "text/x-python",
   "name": "python",
   "nbconvert_exporter": "python",
   "pygments_lexer": "ipython3",
   "version": "3.7.1"
  }
 },
 "nbformat": 4,
 "nbformat_minor": 2
}
